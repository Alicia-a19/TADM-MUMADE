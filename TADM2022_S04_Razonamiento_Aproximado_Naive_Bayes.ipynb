{
  "nbformat": 4,
  "nbformat_minor": 0,
  "metadata": {
    "colab": {
      "provenance": [],
      "collapsed_sections": [
        "IcG-0pNJxySC",
        "wHoQwJEvIbcF",
        "BzYd337mKeni",
        "AXN_dSSSKenl"
      ],
      "include_colab_link": true
    },
    "kernelspec": {
      "name": "python3",
      "display_name": "Python 3"
    }
  },
  "cells": [
    {
      "cell_type": "markdown",
      "metadata": {
        "id": "view-in-github",
        "colab_type": "text"
      },
      "source": [
        "<a href=\"https://colab.research.google.com/github/Alicia-a19/TADM-MUMADE/blob/main/TADM2022_S04_Razonamiento_Aproximado_Naive_Bayes.ipynb\" target=\"_parent\"><img src=\"https://colab.research.google.com/assets/colab-badge.svg\" alt=\"Open In Colab\"/></a>"
      ]
    },
    {
      "cell_type": "markdown",
      "source": [
        "# RAZONAMIENTO APROXIMADO - NAÏVE BAYES"
      ],
      "metadata": {
        "id": "ZMMQNH4wr2Hq"
      }
    },
    {
      "cell_type": "markdown",
      "source": [
        "Estudiante: Alicia Megía Ortega"
      ],
      "metadata": {
        "id": "Cm-ohd5Sr--z"
      }
    },
    {
      "cell_type": "markdown",
      "source": [
        "Enlaces para entender la base de datos y las relaciones entre las tablas existentes en esta.\n",
        "\n",
        "[Guia al Conjunto de Datos](https://sorry.vse.cz/~berka/challenge/pkdd1999/berka.htm)\n",
        "\n",
        "[Extracto del Diseño](https://dbdesigner.page.link/7iRemaQAUMsbFb2o7)\n"
      ],
      "metadata": {
        "id": "zuRvKz_2zGTR"
      }
    },
    {
      "cell_type": "markdown",
      "metadata": {
        "id": "t1s4a8JyqcyP"
      },
      "source": [
        "Vamos a operar de diferentes maneras con los préstamos de nuestro banco, en concreto vamos a intentar crear clasificadores para que dadas unas variables nos den la probabilidad o el rating de darle un préstamo a un cliente"
      ]
    },
    {
      "cell_type": "markdown",
      "metadata": {
        "id": "vpDTzqbaiodK"
      },
      "source": [
        "## Carga de Datos"
      ]
    },
    {
      "cell_type": "code",
      "metadata": {
        "colab": {
          "base_uri": "https://localhost:8080/"
        },
        "id": "lrljckjEtOOm",
        "outputId": "c0a7d766-d794-4d72-a098-a29ba8d1b879"
      },
      "source": [
        "!gdown --id 1Osmr7qVN0NMuqYxvLesNn7H4nqPCVbsU"
      ],
      "execution_count": null,
      "outputs": [
        {
          "output_type": "stream",
          "name": "stdout",
          "text": [
            "/usr/local/lib/python3.7/dist-packages/gdown/cli.py:131: FutureWarning: Option `--id` was deprecated in version 4.3.1 and will be removed in 5.0. You don't need to pass it anymore to use a file ID.\n",
            "  category=FutureWarning,\n",
            "Downloading...\n",
            "From: https://drive.google.com/uc?id=1Osmr7qVN0NMuqYxvLesNn7H4nqPCVbsU\n",
            "To: /content/data_berka.db\n",
            "100% 70.2M/70.2M [00:00<00:00, 134MB/s]\n"
          ]
        }
      ]
    },
    {
      "cell_type": "markdown",
      "source": [
        "### Carga extensión sql"
      ],
      "metadata": {
        "id": "Ar_LpNm35JVU"
      }
    },
    {
      "cell_type": "markdown",
      "metadata": {
        "id": "UDaOStdPirkZ"
      },
      "source": [
        "1. Cargamos la extensión sql"
      ]
    },
    {
      "cell_type": "code",
      "metadata": {
        "id": "3Zpf7lz5h7wp"
      },
      "source": [
        "%load_ext sql"
      ],
      "execution_count": null,
      "outputs": []
    },
    {
      "cell_type": "markdown",
      "metadata": {
        "id": "zPGw5HdqiuHI"
      },
      "source": [
        "2. Nos conectamos con la base de datos"
      ]
    },
    {
      "cell_type": "code",
      "metadata": {
        "id": "ADklBjhhiPLE",
        "colab": {
          "base_uri": "https://localhost:8080/",
          "height": 35
        },
        "outputId": "48fde3cd-9dd8-4bc8-eb9c-14ab285c17e3"
      },
      "source": [
        "%sql sqlite:///data_berka.db"
      ],
      "execution_count": null,
      "outputs": [
        {
          "output_type": "execute_result",
          "data": {
            "text/plain": [
              "'Connected: @data_berka.db'"
            ],
            "application/vnd.google.colaboratory.intrinsic+json": {
              "type": "string"
            }
          },
          "metadata": {},
          "execution_count": 3
        }
      ]
    },
    {
      "cell_type": "markdown",
      "metadata": {
        "id": "oQlROt7Uidms"
      },
      "source": [
        "> Datos de préstamos ya finalizados con su estado final, incluyendo datos del distrito, etc."
      ]
    },
    {
      "cell_type": "markdown",
      "source": [
        "¿Cuántos préstamos hay por cada estado (status)?"
      ],
      "metadata": {
        "id": "iq0ZnTlWlN1s"
      }
    },
    {
      "cell_type": "markdown",
      "source": [
        "\n",
        "Aliases are used to give a table, or a column in a table, a temporary name.  \n",
        "Aliases are often used to make column names more readable.  \n",
        "An alias only exists for the duration of that query (consulta).  \n",
        "An alias is created with the AS keyword.  "
      ],
      "metadata": {
        "id": "jWHiupg0sswE"
      }
    },
    {
      "cell_type": "code",
      "source": [
        "%%sql\n",
        "SELECT status, count(*) as Total\n",
        "FROM loan\n",
        "GROUP BY status\n",
        "ORDER BY Total DESC "
      ],
      "metadata": {
        "id": "75QG92jrlNcH",
        "colab": {
          "base_uri": "https://localhost:8080/",
          "height": 161
        },
        "outputId": "798c75c5-d077-41ba-ff9c-34c036855d0c"
      },
      "execution_count": null,
      "outputs": [
        {
          "output_type": "stream",
          "name": "stdout",
          "text": [
            " * sqlite:///data_berka.db\n",
            "Done.\n"
          ]
        },
        {
          "output_type": "execute_result",
          "data": {
            "text/plain": [
              "[('C', 403), ('A', 203), ('D', 45), ('B', 31)]"
            ],
            "text/html": [
              "<table>\n",
              "    <thead>\n",
              "        <tr>\n",
              "            <th>status</th>\n",
              "            <th>Total</th>\n",
              "        </tr>\n",
              "    </thead>\n",
              "    <tbody>\n",
              "        <tr>\n",
              "            <td>C</td>\n",
              "            <td>403</td>\n",
              "        </tr>\n",
              "        <tr>\n",
              "            <td>A</td>\n",
              "            <td>203</td>\n",
              "        </tr>\n",
              "        <tr>\n",
              "            <td>D</td>\n",
              "            <td>45</td>\n",
              "        </tr>\n",
              "        <tr>\n",
              "            <td>B</td>\n",
              "            <td>31</td>\n",
              "        </tr>\n",
              "    </tbody>\n",
              "</table>"
            ]
          },
          "metadata": {},
          "execution_count": 4
        }
      ]
    },
    {
      "cell_type": "markdown",
      "source": [
        "## CONJUNTO 1"
      ],
      "metadata": {
        "id": "RbPeoK4Ds29x"
      }
    },
    {
      "cell_type": "markdown",
      "source": [
        "### Extracción de los datos de entrenamiento (train)"
      ],
      "metadata": {
        "id": "wegv9XiAwref"
      }
    },
    {
      "cell_type": "markdown",
      "source": [
        "Para posterior construcción de dataframe de datos de entrenamiento."
      ],
      "metadata": {
        "id": "-zkw1khQxCzz"
      }
    },
    {
      "cell_type": "markdown",
      "source": [
        "Vamos a empezar obteniendo los datos de los préstamos ya finalizados. Van a ser nuestros datos de entrenamiento. Por lo que seleccionaremos únicamente aquellos préstamos en `status 'A' o 'B'`. \n",
        "\n",
        "Con una sentencia CASE vamos a poner los prestamos finalizados bien a 1 y los que no finalizaron bien a 0. \n",
        "\n",
        "Sintaxis de uso de [INNER JOIN](https://www.sqlitetutorial.net/sqlite-inner-join/) para establecer joins entre tablas"
      ],
      "metadata": {
        "id": "roYYO_h9kH0d"
      }
    },
    {
      "cell_type": "markdown",
      "source": [
        "The CASE statement goes through conditions and returns a value when the first condition is met (like an if-then-else statement). So, once a condition is true, it will stop reading and return the result. If no conditions are true, it returns the value in the ELSE clause.\n",
        "\n",
        "If there is no ELSE part and no conditions are true, it returns NULL."
      ],
      "metadata": {
        "id": "EK3WRUMguWP0"
      }
    },
    {
      "cell_type": "markdown",
      "source": [
        "'<<' para guardar en una nueva variable (asignación)"
      ],
      "metadata": {
        "id": "v3nQ9dc9PKAl"
      }
    },
    {
      "cell_type": "markdown",
      "source": [
        "* The SUBSTR() function extracts a substring from a string (starting at any position).\n",
        "* Syntax: SUBSTR(string, start, length) or SUBSTR(string FROM start FOR length).  "
      ],
      "metadata": {
        "id": "6dOUKF5EupSk"
      }
    },
    {
      "cell_type": "markdown",
      "source": [
        "substr(l.date,0,3) para extraer los primeros 2 dígitos de la fecha"
      ],
      "metadata": {
        "id": "7kts11s_Prp_"
      }
    },
    {
      "cell_type": "markdown",
      "source": [
        "[SQLite CASE](https://www.sqlitetutorial.net/sqlite-case/)"
      ],
      "metadata": {
        "id": "FC7qxLYb9l3l"
      }
    },
    {
      "cell_type": "markdown",
      "source": [
        "The simple CASE expression compares the case_expression to the expression appears in the first WHEN clause, when_expression_1, for equality.\n",
        "\n",
        "If the case_expression equals when_expression_1, the simple CASE returns the expression in the corresponding THEN clause, which is the result_1.\n",
        "\n",
        "Otherwise, the simple CASE expression compares the case_expression with the expression in the next WHEN clause.\n",
        "\n",
        "In case no case_expression matches the when_expression, the CASE expression returns the result_else in the ELSE clause. If you omit the ELSE clause, the CASE expression returns NULL.\n",
        "\n",
        "The simple CASE expression uses short-circuit evaluation. In other words, it returns the result and stop evaluating other conditions as soon as it finds a match."
      ],
      "metadata": {
        "id": "zl0iv-b29iye"
      }
    },
    {
      "cell_type": "markdown",
      "source": [
        "CASE case_expression  \n",
        "     WHEN when_expression_1 THEN result_1  \n",
        "     WHEN when_expression_2 THEN result_2  \n",
        "     ...  \n",
        "     [ ELSE result_else ]   \n",
        "END"
      ],
      "metadata": {
        "id": "mwH0_cJo9Wtv"
      }
    },
    {
      "cell_type": "code",
      "source": [
        "%%sql\n",
        "SELECT SUBSTR(l.date, 0, 3) AS year, amount, duration, payments, A11, A13,\n",
        "  CASE status WHEN 'A' THEN 1\n",
        "              WHEN 'B' THEN 0\n",
        "  END label\n",
        "FROM LOAN AS l, ACCOUNT AS a INNER JOIN DISTRICT AS d ON a.district_id = d.A1\n",
        "WHERE l.account_id = a.account_id\n",
        "  AND l.status IN ('A', 'B')\n",
        "LIMIT 10"
      ],
      "metadata": {
        "id": "HFvGd_o0AqIf"
      },
      "execution_count": null,
      "outputs": []
    },
    {
      "cell_type": "code",
      "metadata": {
        "id": "dbTj5fJxiasa",
        "colab": {
          "base_uri": "https://localhost:8080/"
        },
        "outputId": "6c16eba4-4955-4dad-d559-3c73562dd5cb"
      },
      "source": [
        "%%sql \n",
        "loans_train << SELECT substr(l.date,0,3) year, amount, duration, payments, A11, A13,\n",
        "  CASE status WHEN 'A' THEN 1\n",
        "              WHEN 'B' THEN 0\n",
        "  END label\n",
        "  FROM LOAN l, ACCOUNT a INNER JOIN DISTRICT d ON a.district_id = d.A1 \n",
        "  WHERE l.account_id = a.account_id \n",
        "    AND l.status IN (\"A\", \"B\")"
      ],
      "execution_count": null,
      "outputs": [
        {
          "output_type": "stream",
          "name": "stdout",
          "text": [
            " * sqlite:///data_berka.db\n",
            "Done.\n",
            "Returning data to local variable loans_train\n"
          ]
        }
      ]
    },
    {
      "cell_type": "markdown",
      "metadata": {
        "id": "Jj_-Qp_yiyeB"
      },
      "source": [
        "3. Obtenemos el DataFrame"
      ]
    },
    {
      "cell_type": "markdown",
      "source": [
        "Conversión de los datos en un dataframe  \n",
        "Transformación en DataFrame de Pandas"
      ],
      "metadata": {
        "id": "GB4dRiovP-gK"
      }
    },
    {
      "cell_type": "code",
      "metadata": {
        "id": "EgN-fsjUimKL",
        "colab": {
          "base_uri": "https://localhost:8080/",
          "height": 206
        },
        "outputId": "9546623d-9dfb-48dc-d84e-91b0d61fc800"
      },
      "source": [
        "df_train = loans_train.DataFrame()\n",
        "df_train.head()"
      ],
      "execution_count": null,
      "outputs": [
        {
          "output_type": "execute_result",
          "data": {
            "text/plain": [
              "  year  amount  duration  payments    A11   A13  label\n",
              "0   93   96396        12      8033   9650  3.67      0\n",
              "1   93  165960        36      4610   8369  2.31      1\n",
              "2   93  127080        60      2118   8390  2.89      1\n",
              "3   93  105804        36      2939   8754  4.31      1\n",
              "4   93  274740        60      4579  12541  0.43      1"
            ],
            "text/html": [
              "\n",
              "  <div id=\"df-5c7dbbe2-0d64-4d36-9490-97b9b3a05c5c\">\n",
              "    <div class=\"colab-df-container\">\n",
              "      <div>\n",
              "<style scoped>\n",
              "    .dataframe tbody tr th:only-of-type {\n",
              "        vertical-align: middle;\n",
              "    }\n",
              "\n",
              "    .dataframe tbody tr th {\n",
              "        vertical-align: top;\n",
              "    }\n",
              "\n",
              "    .dataframe thead th {\n",
              "        text-align: right;\n",
              "    }\n",
              "</style>\n",
              "<table border=\"1\" class=\"dataframe\">\n",
              "  <thead>\n",
              "    <tr style=\"text-align: right;\">\n",
              "      <th></th>\n",
              "      <th>year</th>\n",
              "      <th>amount</th>\n",
              "      <th>duration</th>\n",
              "      <th>payments</th>\n",
              "      <th>A11</th>\n",
              "      <th>A13</th>\n",
              "      <th>label</th>\n",
              "    </tr>\n",
              "  </thead>\n",
              "  <tbody>\n",
              "    <tr>\n",
              "      <th>0</th>\n",
              "      <td>93</td>\n",
              "      <td>96396</td>\n",
              "      <td>12</td>\n",
              "      <td>8033</td>\n",
              "      <td>9650</td>\n",
              "      <td>3.67</td>\n",
              "      <td>0</td>\n",
              "    </tr>\n",
              "    <tr>\n",
              "      <th>1</th>\n",
              "      <td>93</td>\n",
              "      <td>165960</td>\n",
              "      <td>36</td>\n",
              "      <td>4610</td>\n",
              "      <td>8369</td>\n",
              "      <td>2.31</td>\n",
              "      <td>1</td>\n",
              "    </tr>\n",
              "    <tr>\n",
              "      <th>2</th>\n",
              "      <td>93</td>\n",
              "      <td>127080</td>\n",
              "      <td>60</td>\n",
              "      <td>2118</td>\n",
              "      <td>8390</td>\n",
              "      <td>2.89</td>\n",
              "      <td>1</td>\n",
              "    </tr>\n",
              "    <tr>\n",
              "      <th>3</th>\n",
              "      <td>93</td>\n",
              "      <td>105804</td>\n",
              "      <td>36</td>\n",
              "      <td>2939</td>\n",
              "      <td>8754</td>\n",
              "      <td>4.31</td>\n",
              "      <td>1</td>\n",
              "    </tr>\n",
              "    <tr>\n",
              "      <th>4</th>\n",
              "      <td>93</td>\n",
              "      <td>274740</td>\n",
              "      <td>60</td>\n",
              "      <td>4579</td>\n",
              "      <td>12541</td>\n",
              "      <td>0.43</td>\n",
              "      <td>1</td>\n",
              "    </tr>\n",
              "  </tbody>\n",
              "</table>\n",
              "</div>\n",
              "      <button class=\"colab-df-convert\" onclick=\"convertToInteractive('df-5c7dbbe2-0d64-4d36-9490-97b9b3a05c5c')\"\n",
              "              title=\"Convert this dataframe to an interactive table.\"\n",
              "              style=\"display:none;\">\n",
              "        \n",
              "  <svg xmlns=\"http://www.w3.org/2000/svg\" height=\"24px\"viewBox=\"0 0 24 24\"\n",
              "       width=\"24px\">\n",
              "    <path d=\"M0 0h24v24H0V0z\" fill=\"none\"/>\n",
              "    <path d=\"M18.56 5.44l.94 2.06.94-2.06 2.06-.94-2.06-.94-.94-2.06-.94 2.06-2.06.94zm-11 1L8.5 8.5l.94-2.06 2.06-.94-2.06-.94L8.5 2.5l-.94 2.06-2.06.94zm10 10l.94 2.06.94-2.06 2.06-.94-2.06-.94-.94-2.06-.94 2.06-2.06.94z\"/><path d=\"M17.41 7.96l-1.37-1.37c-.4-.4-.92-.59-1.43-.59-.52 0-1.04.2-1.43.59L10.3 9.45l-7.72 7.72c-.78.78-.78 2.05 0 2.83L4 21.41c.39.39.9.59 1.41.59.51 0 1.02-.2 1.41-.59l7.78-7.78 2.81-2.81c.8-.78.8-2.07 0-2.86zM5.41 20L4 18.59l7.72-7.72 1.47 1.35L5.41 20z\"/>\n",
              "  </svg>\n",
              "      </button>\n",
              "      \n",
              "  <style>\n",
              "    .colab-df-container {\n",
              "      display:flex;\n",
              "      flex-wrap:wrap;\n",
              "      gap: 12px;\n",
              "    }\n",
              "\n",
              "    .colab-df-convert {\n",
              "      background-color: #E8F0FE;\n",
              "      border: none;\n",
              "      border-radius: 50%;\n",
              "      cursor: pointer;\n",
              "      display: none;\n",
              "      fill: #1967D2;\n",
              "      height: 32px;\n",
              "      padding: 0 0 0 0;\n",
              "      width: 32px;\n",
              "    }\n",
              "\n",
              "    .colab-df-convert:hover {\n",
              "      background-color: #E2EBFA;\n",
              "      box-shadow: 0px 1px 2px rgba(60, 64, 67, 0.3), 0px 1px 3px 1px rgba(60, 64, 67, 0.15);\n",
              "      fill: #174EA6;\n",
              "    }\n",
              "\n",
              "    [theme=dark] .colab-df-convert {\n",
              "      background-color: #3B4455;\n",
              "      fill: #D2E3FC;\n",
              "    }\n",
              "\n",
              "    [theme=dark] .colab-df-convert:hover {\n",
              "      background-color: #434B5C;\n",
              "      box-shadow: 0px 1px 3px 1px rgba(0, 0, 0, 0.15);\n",
              "      filter: drop-shadow(0px 1px 2px rgba(0, 0, 0, 0.3));\n",
              "      fill: #FFFFFF;\n",
              "    }\n",
              "  </style>\n",
              "\n",
              "      <script>\n",
              "        const buttonEl =\n",
              "          document.querySelector('#df-5c7dbbe2-0d64-4d36-9490-97b9b3a05c5c button.colab-df-convert');\n",
              "        buttonEl.style.display =\n",
              "          google.colab.kernel.accessAllowed ? 'block' : 'none';\n",
              "\n",
              "        async function convertToInteractive(key) {\n",
              "          const element = document.querySelector('#df-5c7dbbe2-0d64-4d36-9490-97b9b3a05c5c');\n",
              "          const dataTable =\n",
              "            await google.colab.kernel.invokeFunction('convertToInteractive',\n",
              "                                                     [key], {});\n",
              "          if (!dataTable) return;\n",
              "\n",
              "          const docLinkHtml = 'Like what you see? Visit the ' +\n",
              "            '<a target=\"_blank\" href=https://colab.research.google.com/notebooks/data_table.ipynb>data table notebook</a>'\n",
              "            + ' to learn more about interactive tables.';\n",
              "          element.innerHTML = '';\n",
              "          dataTable['output_type'] = 'display_data';\n",
              "          await google.colab.output.renderOutput(dataTable, element);\n",
              "          const docLink = document.createElement('div');\n",
              "          docLink.innerHTML = docLinkHtml;\n",
              "          element.appendChild(docLink);\n",
              "        }\n",
              "      </script>\n",
              "    </div>\n",
              "  </div>\n",
              "  "
            ]
          },
          "metadata": {},
          "execution_count": 32
        }
      ]
    },
    {
      "cell_type": "markdown",
      "source": [
        "Shape of an Array\n",
        "\n",
        "The shape of an array is the number of elements in each dimension.  \n",
        "Las dimensiones del DataFrame (rows,columns) <> (observaciones, variables)"
      ],
      "metadata": {
        "id": "-QYaEPkexNpz"
      }
    },
    {
      "cell_type": "code",
      "source": [
        "df_train.shape"
      ],
      "metadata": {
        "colab": {
          "base_uri": "https://localhost:8080/"
        },
        "id": "75rgtscNqQ3T",
        "outputId": "98ce684f-acbb-46e7-fdcf-e3575a83d5ee"
      },
      "execution_count": null,
      "outputs": [
        {
          "output_type": "execute_result",
          "data": {
            "text/plain": [
              "(234, 7)"
            ]
          },
          "metadata": {},
          "execution_count": 33
        }
      ]
    },
    {
      "cell_type": "markdown",
      "source": [
        "### Extracción de los datos de validación (test)"
      ],
      "metadata": {
        "id": "IcG-0pNJxySC"
      }
    },
    {
      "cell_type": "markdown",
      "source": [
        "Para la parte de *test* lo que vamos a extraer de la Base de Datos son los préstamos que están en ejecución (`status in (\"C\", \"D\")`) con los mismos campos que en la consulta anterior."
      ],
      "metadata": {
        "id": "jhv5wpixG5bL"
      }
    },
    {
      "cell_type": "code",
      "source": [
        "%%sql loans_test << SELECT SUBSTR(l.date,0,3) year, amount, duration, payments, A11, A13,\n",
        "  CASE status WHEN 'C' THEN 1\n",
        "              WHEN 'D' THEN 0\n",
        "  END label\n",
        "  FROM LOAN l, ACCOUNT a INNER JOIN DISTRICT d ON a.district_id = d.A1 \n",
        "  WHERE l.account_id = a.account_id \n",
        "    AND l.status IN (\"C\", \"D\")"
      ],
      "metadata": {
        "colab": {
          "base_uri": "https://localhost:8080/"
        },
        "id": "i65WhpR4k9fk",
        "outputId": "062fd8d6-f5d4-44fe-9164-4af6d721a036"
      },
      "execution_count": null,
      "outputs": [
        {
          "output_type": "stream",
          "name": "stdout",
          "text": [
            " * sqlite:///data_berka.db\n",
            "Done.\n",
            "Returning data to local variable loans_test\n"
          ]
        }
      ]
    },
    {
      "cell_type": "markdown",
      "source": [
        "Se transforma en un Data.Frame de Pandas"
      ],
      "metadata": {
        "id": "0OMss69Ktyfv"
      }
    },
    {
      "cell_type": "code",
      "source": [
        "df_test = loans_test.DataFrame()\n",
        "df_test.head()"
      ],
      "metadata": {
        "id": "dpwgRcLZlJvp",
        "colab": {
          "base_uri": "https://localhost:8080/",
          "height": 206
        },
        "outputId": "4eb0f2f8-709d-4294-ca9f-c7926657b78c"
      },
      "execution_count": null,
      "outputs": [
        {
          "output_type": "execute_result",
          "data": {
            "text/plain": [
              "  year  amount  duration  payments   A11   A13  label\n",
              "0   94  253200        60      4220  9893  4.72      1\n",
              "1   94  300660        60      5011  9317  7.07      1\n",
              "2   94  167100        60      2785  8544  1.86      1\n",
              "3   94  149340        60      2489  8254  3.76      1\n",
              "4   94   89040        60      1484  8909  5.56      1"
            ],
            "text/html": [
              "\n",
              "  <div id=\"df-b6931e2b-dc7c-4e10-94a7-9dfa8f122b55\">\n",
              "    <div class=\"colab-df-container\">\n",
              "      <div>\n",
              "<style scoped>\n",
              "    .dataframe tbody tr th:only-of-type {\n",
              "        vertical-align: middle;\n",
              "    }\n",
              "\n",
              "    .dataframe tbody tr th {\n",
              "        vertical-align: top;\n",
              "    }\n",
              "\n",
              "    .dataframe thead th {\n",
              "        text-align: right;\n",
              "    }\n",
              "</style>\n",
              "<table border=\"1\" class=\"dataframe\">\n",
              "  <thead>\n",
              "    <tr style=\"text-align: right;\">\n",
              "      <th></th>\n",
              "      <th>year</th>\n",
              "      <th>amount</th>\n",
              "      <th>duration</th>\n",
              "      <th>payments</th>\n",
              "      <th>A11</th>\n",
              "      <th>A13</th>\n",
              "      <th>label</th>\n",
              "    </tr>\n",
              "  </thead>\n",
              "  <tbody>\n",
              "    <tr>\n",
              "      <th>0</th>\n",
              "      <td>94</td>\n",
              "      <td>253200</td>\n",
              "      <td>60</td>\n",
              "      <td>4220</td>\n",
              "      <td>9893</td>\n",
              "      <td>4.72</td>\n",
              "      <td>1</td>\n",
              "    </tr>\n",
              "    <tr>\n",
              "      <th>1</th>\n",
              "      <td>94</td>\n",
              "      <td>300660</td>\n",
              "      <td>60</td>\n",
              "      <td>5011</td>\n",
              "      <td>9317</td>\n",
              "      <td>7.07</td>\n",
              "      <td>1</td>\n",
              "    </tr>\n",
              "    <tr>\n",
              "      <th>2</th>\n",
              "      <td>94</td>\n",
              "      <td>167100</td>\n",
              "      <td>60</td>\n",
              "      <td>2785</td>\n",
              "      <td>8544</td>\n",
              "      <td>1.86</td>\n",
              "      <td>1</td>\n",
              "    </tr>\n",
              "    <tr>\n",
              "      <th>3</th>\n",
              "      <td>94</td>\n",
              "      <td>149340</td>\n",
              "      <td>60</td>\n",
              "      <td>2489</td>\n",
              "      <td>8254</td>\n",
              "      <td>3.76</td>\n",
              "      <td>1</td>\n",
              "    </tr>\n",
              "    <tr>\n",
              "      <th>4</th>\n",
              "      <td>94</td>\n",
              "      <td>89040</td>\n",
              "      <td>60</td>\n",
              "      <td>1484</td>\n",
              "      <td>8909</td>\n",
              "      <td>5.56</td>\n",
              "      <td>1</td>\n",
              "    </tr>\n",
              "  </tbody>\n",
              "</table>\n",
              "</div>\n",
              "      <button class=\"colab-df-convert\" onclick=\"convertToInteractive('df-b6931e2b-dc7c-4e10-94a7-9dfa8f122b55')\"\n",
              "              title=\"Convert this dataframe to an interactive table.\"\n",
              "              style=\"display:none;\">\n",
              "        \n",
              "  <svg xmlns=\"http://www.w3.org/2000/svg\" height=\"24px\"viewBox=\"0 0 24 24\"\n",
              "       width=\"24px\">\n",
              "    <path d=\"M0 0h24v24H0V0z\" fill=\"none\"/>\n",
              "    <path d=\"M18.56 5.44l.94 2.06.94-2.06 2.06-.94-2.06-.94-.94-2.06-.94 2.06-2.06.94zm-11 1L8.5 8.5l.94-2.06 2.06-.94-2.06-.94L8.5 2.5l-.94 2.06-2.06.94zm10 10l.94 2.06.94-2.06 2.06-.94-2.06-.94-.94-2.06-.94 2.06-2.06.94z\"/><path d=\"M17.41 7.96l-1.37-1.37c-.4-.4-.92-.59-1.43-.59-.52 0-1.04.2-1.43.59L10.3 9.45l-7.72 7.72c-.78.78-.78 2.05 0 2.83L4 21.41c.39.39.9.59 1.41.59.51 0 1.02-.2 1.41-.59l7.78-7.78 2.81-2.81c.8-.78.8-2.07 0-2.86zM5.41 20L4 18.59l7.72-7.72 1.47 1.35L5.41 20z\"/>\n",
              "  </svg>\n",
              "      </button>\n",
              "      \n",
              "  <style>\n",
              "    .colab-df-container {\n",
              "      display:flex;\n",
              "      flex-wrap:wrap;\n",
              "      gap: 12px;\n",
              "    }\n",
              "\n",
              "    .colab-df-convert {\n",
              "      background-color: #E8F0FE;\n",
              "      border: none;\n",
              "      border-radius: 50%;\n",
              "      cursor: pointer;\n",
              "      display: none;\n",
              "      fill: #1967D2;\n",
              "      height: 32px;\n",
              "      padding: 0 0 0 0;\n",
              "      width: 32px;\n",
              "    }\n",
              "\n",
              "    .colab-df-convert:hover {\n",
              "      background-color: #E2EBFA;\n",
              "      box-shadow: 0px 1px 2px rgba(60, 64, 67, 0.3), 0px 1px 3px 1px rgba(60, 64, 67, 0.15);\n",
              "      fill: #174EA6;\n",
              "    }\n",
              "\n",
              "    [theme=dark] .colab-df-convert {\n",
              "      background-color: #3B4455;\n",
              "      fill: #D2E3FC;\n",
              "    }\n",
              "\n",
              "    [theme=dark] .colab-df-convert:hover {\n",
              "      background-color: #434B5C;\n",
              "      box-shadow: 0px 1px 3px 1px rgba(0, 0, 0, 0.15);\n",
              "      filter: drop-shadow(0px 1px 2px rgba(0, 0, 0, 0.3));\n",
              "      fill: #FFFFFF;\n",
              "    }\n",
              "  </style>\n",
              "\n",
              "      <script>\n",
              "        const buttonEl =\n",
              "          document.querySelector('#df-b6931e2b-dc7c-4e10-94a7-9dfa8f122b55 button.colab-df-convert');\n",
              "        buttonEl.style.display =\n",
              "          google.colab.kernel.accessAllowed ? 'block' : 'none';\n",
              "\n",
              "        async function convertToInteractive(key) {\n",
              "          const element = document.querySelector('#df-b6931e2b-dc7c-4e10-94a7-9dfa8f122b55');\n",
              "          const dataTable =\n",
              "            await google.colab.kernel.invokeFunction('convertToInteractive',\n",
              "                                                     [key], {});\n",
              "          if (!dataTable) return;\n",
              "\n",
              "          const docLinkHtml = 'Like what you see? Visit the ' +\n",
              "            '<a target=\"_blank\" href=https://colab.research.google.com/notebooks/data_table.ipynb>data table notebook</a>'\n",
              "            + ' to learn more about interactive tables.';\n",
              "          element.innerHTML = '';\n",
              "          dataTable['output_type'] = 'display_data';\n",
              "          await google.colab.output.renderOutput(dataTable, element);\n",
              "          const docLink = document.createElement('div');\n",
              "          docLink.innerHTML = docLinkHtml;\n",
              "          element.appendChild(docLink);\n",
              "        }\n",
              "      </script>\n",
              "    </div>\n",
              "  </div>\n",
              "  "
            ]
          },
          "metadata": {},
          "execution_count": 35
        }
      ]
    },
    {
      "cell_type": "code",
      "source": [
        "df_test.shape"
      ],
      "metadata": {
        "colab": {
          "base_uri": "https://localhost:8080/"
        },
        "id": "5sWFTSQaP6CT",
        "outputId": "ce596875-9bd4-473e-ea39-f990ed470ee3"
      },
      "execution_count": null,
      "outputs": [
        {
          "output_type": "execute_result",
          "data": {
            "text/plain": [
              "(448, 7)"
            ]
          },
          "metadata": {},
          "execution_count": 36
        }
      ]
    },
    {
      "cell_type": "markdown",
      "source": [
        "### División de los conjuntos de datos"
      ],
      "metadata": {
        "id": "wHoQwJEvIbcF"
      }
    },
    {
      "cell_type": "markdown",
      "metadata": {
        "id": "AcgHrYibsQn3"
      },
      "source": [
        "4. División de los datos en entrenamiento y test"
      ]
    },
    {
      "cell_type": "markdown",
      "source": [
        "`features` es una variable de tipo lista que me almacena los nombres de las características que me sirven como **entrada**"
      ],
      "metadata": {
        "id": "8WpAeR8WIUm1"
      }
    },
    {
      "cell_type": "code",
      "source": [
        "features = [\"year\", \"amount\", \"duration\", \"payments\",\"A11\", \"A13\"]"
      ],
      "metadata": {
        "id": "mH1b4h27kA85"
      },
      "execution_count": null,
      "outputs": []
    },
    {
      "cell_type": "markdown",
      "source": [
        "* train (creación del modelo) : datos de préstamos ya finalizados\n",
        "* test (evaluación del modelo): datos de préstamos en ejecución"
      ],
      "metadata": {
        "id": "Gyt-TgZ3IXEi"
      }
    },
    {
      "cell_type": "code",
      "metadata": {
        "id": "iRV2W22-sTKg"
      },
      "source": [
        "X_train = df_train[features]\n",
        "y_train = df_train[\"label\"]\n",
        "\n",
        "X_test = df_test[features]\n",
        "y_test = df_test[\"label\"]\n"
      ],
      "execution_count": null,
      "outputs": []
    },
    {
      "cell_type": "markdown",
      "source": [
        "### Estandarización de los datos (normalización)"
      ],
      "metadata": {
        "id": "NHFQ4RTfIhHc"
      }
    },
    {
      "cell_type": "markdown",
      "source": [
        "5. Normalizarlos puede ser una buena medida para obtener mejores resultados.\n",
        "Para ello vamos a utilizar el [StandardScaler](https://scikit-learn.org/stable/modules/generated/sklearn.preprocessing.StandardScaler.html)\n",
        "\n",
        "El centrado y el escalado se realizan de forma independiente en cada característica, calculando las estadísticas pertinentes en las muestras del **conjunto de entrenamiento**. La media y la desviación estándar se almacenan para utilizarlas en datos posteriores mediante una **transformación**.\n",
        "\n",
        "Mas información sobre normalización en el siguiente [enlace](https://scikit-learn.org/stable/modules/preprocessing.html#preprocessing-scaler)\n"
      ],
      "metadata": {
        "id": "TWn1Xr-Cqas7"
      }
    },
    {
      "cell_type": "markdown",
      "source": [
        ".fit realiza el cálculo de los parámetros de escalado (no se ha de realizar el fit a los datos de test)  \n",
        ".transform transforma los datos una vez calculados los parámetros"
      ],
      "metadata": {
        "id": "RZGfraIaVM_i"
      }
    },
    {
      "cell_type": "code",
      "source": [
        "from sklearn.preprocessing import StandardScaler\n",
        "scaler = StandardScaler()\n",
        "# calculo de los factores de centrado y escalado\n",
        "scaler.fit(X_train) \n",
        "# transformación\n",
        "X_train = scaler.transform(X_train)\n",
        "X_test = scaler.transform(X_test)"
      ],
      "metadata": {
        "id": "BaaMrekmpKH3"
      },
      "execution_count": null,
      "outputs": []
    },
    {
      "cell_type": "markdown",
      "source": [
        "### Aplicación de Naïve-Bayes"
      ],
      "metadata": {
        "id": "Aq-B_-A7ImDm"
      }
    },
    {
      "cell_type": "markdown",
      "source": [
        "Aplicamos un modelo [NaiveBayes](https://scikit-learn.org/stable/modules/naive_bayes.html?highlight=naive+bayes) para construir un clasificador de préstamos"
      ],
      "metadata": {
        "id": "Uf-IVArsl8qM"
      }
    },
    {
      "cell_type": "code",
      "source": [
        "from sklearn.naive_bayes import GaussianNB #, MultinomialNB, BernoulliNB, ComplementNB\n",
        "\n",
        "gnb = GaussianNB()\n",
        "clf = gnb.fit(X_train, y_train)\n",
        "y_pred = clf.predict(X_test)\n",
        "print(\"Número de préstamos clasificados erroneamente %d de un total de  %d\"  % (X_test.shape[0], (y_test != y_pred).sum()))"
      ],
      "metadata": {
        "colab": {
          "base_uri": "https://localhost:8080/"
        },
        "id": "MZHrLj9inBOv",
        "outputId": "c1c4636f-af48-495c-a0d0-3685c0d8d084"
      },
      "execution_count": null,
      "outputs": [
        {
          "output_type": "stream",
          "name": "stdout",
          "text": [
            "Número de préstamos clasificados erroneamente 448 de un total de  123\n"
          ]
        }
      ]
    },
    {
      "cell_type": "markdown",
      "source": [
        "Para ver que resultados tenemos sobre la colección de `test` utilizamos en primer lugar el informe de los resultados [`classification report`](https://scikit-learn.org/stable/modules/model_evaluation.html#classification-report)"
      ],
      "metadata": {
        "id": "sSXcCuddmOFV"
      }
    },
    {
      "cell_type": "code",
      "source": [
        "from sklearn.metrics import classification_report\n",
        "print(classification_report(y_test, y_pred, labels=clf.classes_))"
      ],
      "metadata": {
        "colab": {
          "base_uri": "https://localhost:8080/"
        },
        "id": "f9BITuBznBAC",
        "outputId": "1a71ffd4-509d-417b-ef00-232d6cc472c6"
      },
      "execution_count": null,
      "outputs": [
        {
          "output_type": "stream",
          "name": "stdout",
          "text": [
            "              precision    recall  f1-score   support\n",
            "\n",
            "           0       0.20      0.60      0.31        45\n",
            "           1       0.94      0.74      0.83       403\n",
            "\n",
            "    accuracy                           0.73       448\n",
            "   macro avg       0.57      0.67      0.57       448\n",
            "weighted avg       0.87      0.73      0.78       448\n",
            "\n"
          ]
        }
      ]
    },
    {
      "cell_type": "markdown",
      "source": [
        "precision  \n",
        "recall (sensibilidad)  \n",
        "f1-score (\"media armónica\" entre precisión y sensibilidad) "
      ],
      "metadata": {
        "id": "-LV2ded6VdkE"
      }
    },
    {
      "cell_type": "markdown",
      "source": [
        "Y la [matriz de confusión](https://scikit-learn.org/stable/modules/generated/sklearn.metrics.ConfusionMatrixDisplay.html)"
      ],
      "metadata": {
        "id": "rosWtD4MnPAw"
      }
    },
    {
      "cell_type": "code",
      "source": [
        "import matplotlib.pyplot as plt\n",
        "from sklearn.metrics import confusion_matrix, ConfusionMatrixDisplay\n",
        "cm = confusion_matrix(y_test, y_pred, labels= clf.classes_)\n",
        "disp = ConfusionMatrixDisplay(confusion_matrix=cm, display_labels=clf.classes_)\n",
        "disp.plot()"
      ],
      "metadata": {
        "colab": {
          "base_uri": "https://localhost:8080/",
          "height": 296
        },
        "id": "qSZzOldtoOku",
        "outputId": "665aeca6-2bb9-43e9-86df-3ca36aa54282"
      },
      "execution_count": null,
      "outputs": [
        {
          "output_type": "execute_result",
          "data": {
            "text/plain": [
              "<sklearn.metrics._plot.confusion_matrix.ConfusionMatrixDisplay at 0x7f70c28c5ed0>"
            ]
          },
          "metadata": {},
          "execution_count": 42
        },
        {
          "output_type": "display_data",
          "data": {
            "text/plain": [
              "<Figure size 432x288 with 2 Axes>"
            ],
            "image/png": "[encoded data removed]"
          },
          "metadata": {
            "needs_background": "light"
          }
        }
      ]
    },
    {
      "cell_type": "markdown",
      "source": [
        "Diagonal principal los valores acertados por el clasificador  \n",
        "Parte inferior valores predichos  \n",
        "Parte izquierda valores reales  \n",
        "Fuera de la diagonal principal son los fallos  \n",
        "La tabla anterior los parámetros podrían ser calculados a partir de la matriz de confusión"
      ],
      "metadata": {
        "id": "nzdbDoVWVoeS"
      }
    },
    {
      "cell_type": "markdown",
      "source": [
        "Clasificador no está balanceado"
      ],
      "metadata": {
        "id": "SfWyCFHJMc0D"
      }
    },
    {
      "cell_type": "markdown",
      "source": [
        "## CONJUNTO 2"
      ],
      "metadata": {
        "id": "lgB6hL2Cs6jP"
      }
    },
    {
      "cell_type": "markdown",
      "source": [
        "### Extracción de otro conjunto de datos para subconjunto de entrenamiento"
      ],
      "metadata": {
        "id": "qFwGJJvl8POK"
      }
    },
    {
      "cell_type": "markdown",
      "source": [
        "**Ejercicio**: Añadir la edad del cliente propietario de la cuenta del prestamo y algún campo de datos demográficos adicionales\n"
      ],
      "metadata": {
        "id": "6qRaWxnkcLC3"
      }
    },
    {
      "cell_type": "code",
      "source": [
        "%%sql\n",
        "SELECT *\n",
        "FROM LOAN AS l,\n",
        "  ACCOUNT AS a INNER JOIN DISTRICT AS d ON a.district_id = d.A1\n",
        "  INNER JOIN DISPOSITION AS dp ON a.account_id = dp.account_id\n",
        "  INNER JOIN CLIENT AS c ON dp.client_id = c.client_id\n",
        "WHERE l.account_id = a.account_id\n",
        "  AND a.account_id = dp.account_id -- join account/disposition\n",
        "  AND dp.client_id = c.client_id -- join disposition/client\n",
        "LIMIT 10"
      ],
      "metadata": {
        "id": "3V6MuOzYCBMc"
      },
      "execution_count": null,
      "outputs": []
    },
    {
      "cell_type": "code",
      "source": [
        "%%sql\n",
        "SELECT SUBSTR(l.date, 0, 3) AS year, amount, duration, payments, A8, A11, A13, A16, SUBSTR(birth_number, 0, 3) as age,\n",
        "  CASE status WHEN 'A' THEN 1\n",
        "              WHEN 'B' THEN 0\n",
        "  END label\n",
        "FROM LOAN AS l,\n",
        "  ACCOUNT AS a INNER JOIN DISTRICT AS d ON a.district_id = d.A1\n",
        "  INNER JOIN DISPOSITION AS dp ON a.account_id = dp.account_id\n",
        "  INNER JOIN CLIENT AS c ON dp.client_id = c.client_id\n",
        "WHERE l.account_id = a.account_id\n",
        "  AND a.account_id = dp.account_id -- join account/disposition\n",
        "  AND dp.client_id = c.client_id -- join disposition/client\n",
        "  AND l.status IN (\"A\", \"B\")\n",
        "LIMIT 10"
      ],
      "metadata": {
        "id": "CxGUE57-3ytp"
      },
      "execution_count": null,
      "outputs": []
    },
    {
      "cell_type": "code",
      "source": [
        "%%sql\n",
        "loans_train2 << SELECT SUBSTR(l.date, 0, 3) AS year, amount, duration, payments, A8, A11, A13, A16, SUBSTR(birth_number, 0, 3) as age,\n",
        "  CASE status WHEN 'A' THEN 1\n",
        "              WHEN 'B' THEN 0\n",
        "  END label\n",
        "FROM LOAN AS l,\n",
        "  ACCOUNT AS a INNER JOIN DISTRICT AS d ON a.district_id = d.A1\n",
        "  INNER JOIN DISPOSITION AS dp ON a.account_id = dp.account_id\n",
        "  INNER JOIN CLIENT AS c ON dp.client_id = c.client_id\n",
        "WHERE l.account_id = a.account_id\n",
        "  AND a.account_id = dp.account_id\n",
        "  AND dp.client_id = c.client_id\n",
        "  AND l.status IN (\"A\", \"B\")"
      ],
      "metadata": {
        "id": "UlTZ0enhIJY1"
      },
      "execution_count": null,
      "outputs": []
    },
    {
      "cell_type": "markdown",
      "source": [
        "Conversión de los datos en tabla (DataFrame) de pandas"
      ],
      "metadata": {
        "id": "PSJKhVKcLGWm"
      }
    },
    {
      "cell_type": "code",
      "source": [
        "df_train2 = loans_train2.DataFrame()\n",
        "df_train2.head()"
      ],
      "metadata": {
        "id": "0NbdgsjF0e3l",
        "colab": {
          "base_uri": "https://localhost:8080/",
          "height": 206
        },
        "outputId": "dbba2c6d-f5c6-4cf5-92a9-57691edd413b"
      },
      "execution_count": null,
      "outputs": [
        {
          "output_type": "execute_result",
          "data": {
            "text/plain": [
              "  year  amount  duration  payments  A8    A11   A13    A16 age  label\n",
              "0   94   80952        24      3373   1  12541  0.43  99107  45      1\n",
              "1   94   80952        24      3373   1  12541  0.43  99107  40      1\n",
              "2   96   30276        12      2523   1   9104  2.07   2354  39      0\n",
              "3   97   30276        12      2523   2   9893  4.72   5887  62      1\n",
              "4   96  165960        24      6915   1   8427  1.54   1913  44      1"
            ],
            "text/html": [
              "\n",
              "  <div id=\"df-043d020a-b30c-4a1a-9c6a-5ce9ebdb5ea5\">\n",
              "    <div class=\"colab-df-container\">\n",
              "      <div>\n",
              "<style scoped>\n",
              "    .dataframe tbody tr th:only-of-type {\n",
              "        vertical-align: middle;\n",
              "    }\n",
              "\n",
              "    .dataframe tbody tr th {\n",
              "        vertical-align: top;\n",
              "    }\n",
              "\n",
              "    .dataframe thead th {\n",
              "        text-align: right;\n",
              "    }\n",
              "</style>\n",
              "<table border=\"1\" class=\"dataframe\">\n",
              "  <thead>\n",
              "    <tr style=\"text-align: right;\">\n",
              "      <th></th>\n",
              "      <th>year</th>\n",
              "      <th>amount</th>\n",
              "      <th>duration</th>\n",
              "      <th>payments</th>\n",
              "      <th>A8</th>\n",
              "      <th>A11</th>\n",
              "      <th>A13</th>\n",
              "      <th>A16</th>\n",
              "      <th>age</th>\n",
              "      <th>label</th>\n",
              "    </tr>\n",
              "  </thead>\n",
              "  <tbody>\n",
              "    <tr>\n",
              "      <th>0</th>\n",
              "      <td>94</td>\n",
              "      <td>80952</td>\n",
              "      <td>24</td>\n",
              "      <td>3373</td>\n",
              "      <td>1</td>\n",
              "      <td>12541</td>\n",
              "      <td>0.43</td>\n",
              "      <td>99107</td>\n",
              "      <td>45</td>\n",
              "      <td>1</td>\n",
              "    </tr>\n",
              "    <tr>\n",
              "      <th>1</th>\n",
              "      <td>94</td>\n",
              "      <td>80952</td>\n",
              "      <td>24</td>\n",
              "      <td>3373</td>\n",
              "      <td>1</td>\n",
              "      <td>12541</td>\n",
              "      <td>0.43</td>\n",
              "      <td>99107</td>\n",
              "      <td>40</td>\n",
              "      <td>1</td>\n",
              "    </tr>\n",
              "    <tr>\n",
              "      <th>2</th>\n",
              "      <td>96</td>\n",
              "      <td>30276</td>\n",
              "      <td>12</td>\n",
              "      <td>2523</td>\n",
              "      <td>1</td>\n",
              "      <td>9104</td>\n",
              "      <td>2.07</td>\n",
              "      <td>2354</td>\n",
              "      <td>39</td>\n",
              "      <td>0</td>\n",
              "    </tr>\n",
              "    <tr>\n",
              "      <th>3</th>\n",
              "      <td>97</td>\n",
              "      <td>30276</td>\n",
              "      <td>12</td>\n",
              "      <td>2523</td>\n",
              "      <td>2</td>\n",
              "      <td>9893</td>\n",
              "      <td>4.72</td>\n",
              "      <td>5887</td>\n",
              "      <td>62</td>\n",
              "      <td>1</td>\n",
              "    </tr>\n",
              "    <tr>\n",
              "      <th>4</th>\n",
              "      <td>96</td>\n",
              "      <td>165960</td>\n",
              "      <td>24</td>\n",
              "      <td>6915</td>\n",
              "      <td>1</td>\n",
              "      <td>8427</td>\n",
              "      <td>1.54</td>\n",
              "      <td>1913</td>\n",
              "      <td>44</td>\n",
              "      <td>1</td>\n",
              "    </tr>\n",
              "  </tbody>\n",
              "</table>\n",
              "</div>\n",
              "      <button class=\"colab-df-convert\" onclick=\"convertToInteractive('df-043d020a-b30c-4a1a-9c6a-5ce9ebdb5ea5')\"\n",
              "              title=\"Convert this dataframe to an interactive table.\"\n",
              "              style=\"display:none;\">\n",
              "        \n",
              "  <svg xmlns=\"http://www.w3.org/2000/svg\" height=\"24px\"viewBox=\"0 0 24 24\"\n",
              "       width=\"24px\">\n",
              "    <path d=\"M0 0h24v24H0V0z\" fill=\"none\"/>\n",
              "    <path d=\"M18.56 5.44l.94 2.06.94-2.06 2.06-.94-2.06-.94-.94-2.06-.94 2.06-2.06.94zm-11 1L8.5 8.5l.94-2.06 2.06-.94-2.06-.94L8.5 2.5l-.94 2.06-2.06.94zm10 10l.94 2.06.94-2.06 2.06-.94-2.06-.94-.94-2.06-.94 2.06-2.06.94z\"/><path d=\"M17.41 7.96l-1.37-1.37c-.4-.4-.92-.59-1.43-.59-.52 0-1.04.2-1.43.59L10.3 9.45l-7.72 7.72c-.78.78-.78 2.05 0 2.83L4 21.41c.39.39.9.59 1.41.59.51 0 1.02-.2 1.41-.59l7.78-7.78 2.81-2.81c.8-.78.8-2.07 0-2.86zM5.41 20L4 18.59l7.72-7.72 1.47 1.35L5.41 20z\"/>\n",
              "  </svg>\n",
              "      </button>\n",
              "      \n",
              "  <style>\n",
              "    .colab-df-container {\n",
              "      display:flex;\n",
              "      flex-wrap:wrap;\n",
              "      gap: 12px;\n",
              "    }\n",
              "\n",
              "    .colab-df-convert {\n",
              "      background-color: #E8F0FE;\n",
              "      border: none;\n",
              "      border-radius: 50%;\n",
              "      cursor: pointer;\n",
              "      display: none;\n",
              "      fill: #1967D2;\n",
              "      height: 32px;\n",
              "      padding: 0 0 0 0;\n",
              "      width: 32px;\n",
              "    }\n",
              "\n",
              "    .colab-df-convert:hover {\n",
              "      background-color: #E2EBFA;\n",
              "      box-shadow: 0px 1px 2px rgba(60, 64, 67, 0.3), 0px 1px 3px 1px rgba(60, 64, 67, 0.15);\n",
              "      fill: #174EA6;\n",
              "    }\n",
              "\n",
              "    [theme=dark] .colab-df-convert {\n",
              "      background-color: #3B4455;\n",
              "      fill: #D2E3FC;\n",
              "    }\n",
              "\n",
              "    [theme=dark] .colab-df-convert:hover {\n",
              "      background-color: #434B5C;\n",
              "      box-shadow: 0px 1px 3px 1px rgba(0, 0, 0, 0.15);\n",
              "      filter: drop-shadow(0px 1px 2px rgba(0, 0, 0, 0.3));\n",
              "      fill: #FFFFFF;\n",
              "    }\n",
              "  </style>\n",
              "\n",
              "      <script>\n",
              "        const buttonEl =\n",
              "          document.querySelector('#df-043d020a-b30c-4a1a-9c6a-5ce9ebdb5ea5 button.colab-df-convert');\n",
              "        buttonEl.style.display =\n",
              "          google.colab.kernel.accessAllowed ? 'block' : 'none';\n",
              "\n",
              "        async function convertToInteractive(key) {\n",
              "          const element = document.querySelector('#df-043d020a-b30c-4a1a-9c6a-5ce9ebdb5ea5');\n",
              "          const dataTable =\n",
              "            await google.colab.kernel.invokeFunction('convertToInteractive',\n",
              "                                                     [key], {});\n",
              "          if (!dataTable) return;\n",
              "\n",
              "          const docLinkHtml = 'Like what you see? Visit the ' +\n",
              "            '<a target=\"_blank\" href=https://colab.research.google.com/notebooks/data_table.ipynb>data table notebook</a>'\n",
              "            + ' to learn more about interactive tables.';\n",
              "          element.innerHTML = '';\n",
              "          dataTable['output_type'] = 'display_data';\n",
              "          await google.colab.output.renderOutput(dataTable, element);\n",
              "          const docLink = document.createElement('div');\n",
              "          docLink.innerHTML = docLinkHtml;\n",
              "          element.appendChild(docLink);\n",
              "        }\n",
              "      </script>\n",
              "    </div>\n",
              "  </div>\n",
              "  "
            ]
          },
          "metadata": {},
          "execution_count": 154
        }
      ]
    },
    {
      "cell_type": "markdown",
      "source": [
        "Dimensiones de la tabla"
      ],
      "metadata": {
        "id": "Pz-AOtXhLMUA"
      }
    },
    {
      "cell_type": "code",
      "source": [
        "df_train2.shape"
      ],
      "metadata": {
        "id": "LK-ZTgvY3W9j"
      },
      "execution_count": null,
      "outputs": []
    },
    {
      "cell_type": "markdown",
      "source": [
        "### Extracción de otro conjunto de datos para subconjunto de validación"
      ],
      "metadata": {
        "id": "btsh3pQtIHcX"
      }
    },
    {
      "cell_type": "code",
      "source": [
        "%%sql\n",
        "SELECT SUBSTR(l.date, 0, 3) AS year, amount, duration, payments, A8, A11, A13, A16, SUBSTR(birth_number, 0, 3) as age,\n",
        "  CASE status WHEN 'C' THEN 1\n",
        "              WHEN 'D' THEN 0\n",
        "  END label\n",
        "FROM LOAN AS l,\n",
        "  ACCOUNT AS a INNER JOIN DISTRICT AS d ON a.district_id = d.A1\n",
        "  INNER JOIN DISPOSITION AS dp ON a.account_id = dp.account_id\n",
        "  INNER JOIN CLIENT AS c ON dp.client_id = c.client_id\n",
        "WHERE l.account_id = a.account_id\n",
        "  AND a.account_id = dp.account_id\n",
        "  AND dp.client_id = c.client_id\n",
        "  AND l.status IN (\"C\", \"D\")\n",
        "LIMIT 10"
      ],
      "metadata": {
        "id": "yOQD51O45DcV"
      },
      "execution_count": null,
      "outputs": []
    },
    {
      "cell_type": "code",
      "source": [
        "%%sql\n",
        "loans_test2 << SELECT SUBSTR(l.date, 0, 3) AS year, amount, duration, payments, A8, A11, A13, A16, SUBSTR(birth_number, 0, 3) as age,\n",
        "  CASE status WHEN 'C' THEN 1\n",
        "              WHEN 'D' THEN 0\n",
        "  END label\n",
        "FROM LOAN AS l,\n",
        "  ACCOUNT AS a INNER JOIN DISTRICT AS d ON a.district_id = d.A1\n",
        "  INNER JOIN DISPOSITION AS dp ON a.account_id = dp.account_id\n",
        "  INNER JOIN CLIENT AS c ON dp.client_id = c.client_id\n",
        "WHERE l.account_id = a.account_id\n",
        "  AND a.account_id = dp.account_id\n",
        "  AND dp.client_id = c.client_id\n",
        "  AND l.status IN (\"C\", \"D\")"
      ],
      "metadata": {
        "id": "MnlDUuIsQjG8"
      },
      "execution_count": null,
      "outputs": []
    },
    {
      "cell_type": "markdown",
      "source": [
        "Conversión de los datos en una tabla (DataFrame) de pandas"
      ],
      "metadata": {
        "id": "zmz6AUVtLPwU"
      }
    },
    {
      "cell_type": "code",
      "source": [
        "df_test2 = loans_test2.DataFrame()\n",
        "df_test2.head()"
      ],
      "metadata": {
        "id": "m7rkW_491yHj"
      },
      "execution_count": null,
      "outputs": []
    },
    {
      "cell_type": "markdown",
      "source": [
        "Dimensión de la tabla"
      ],
      "metadata": {
        "id": "Eyzz1DByLTei"
      }
    },
    {
      "cell_type": "code",
      "source": [
        "df_test2.shape"
      ],
      "metadata": {
        "colab": {
          "base_uri": "https://localhost:8080/"
        },
        "id": "aXo7OgLQ47XX",
        "outputId": "e2ffbfc3-7dd3-4209-9857-7ca2b0ebf66c"
      },
      "execution_count": null,
      "outputs": [
        {
          "output_type": "execute_result",
          "data": {
            "text/plain": [
              "(538, 10)"
            ]
          },
          "metadata": {},
          "execution_count": 12
        }
      ]
    },
    {
      "cell_type": "markdown",
      "source": [
        "### Otro/s clasificadores de préstamos"
      ],
      "metadata": {
        "id": "owP0uuBE7iV8"
      }
    },
    {
      "cell_type": "markdown",
      "source": [
        "**Ejercicios**\n",
        "\n",
        "Plantear el clasificador de préstamos añadiendo datos de otras tablas de la base de datos, u otros campos de las mismas tablas (edad del cliente, etc).\n",
        "\n",
        "Otras transformaciones: [Discretización](https://scikit-learn.org/stable/modules/preprocessing.html#preprocessing-discretization) y utilización de otros clasificadores NB"
      ],
      "metadata": {
        "id": "rPkodIffcBxb"
      }
    },
    {
      "cell_type": "markdown",
      "source": [
        "### División de los datos en los subconjuntos"
      ],
      "metadata": {
        "id": "KaXcpBzAJOvE"
      }
    },
    {
      "cell_type": "code",
      "source": [
        "features2 = [\"year\", \"amount\", \"duration\", \"payments\", \"A8\", \"A11\", \"A13\", \"A16\", \"age\"]"
      ],
      "metadata": {
        "id": "QK-e2nmgOCk4"
      },
      "execution_count": null,
      "outputs": []
    },
    {
      "cell_type": "code",
      "source": [
        "X_train2 = df_train2[features2]\n",
        "y_train2 = df_train2[\"label\"]\n",
        "\n",
        "X_test2 = df_test2[features2]\n",
        "y_test2 = df_test2[\"label\"]\n"
      ],
      "metadata": {
        "id": "J99xTFVuK0w-"
      },
      "execution_count": null,
      "outputs": []
    },
    {
      "cell_type": "markdown",
      "source": [
        "### Normalización de los datos"
      ],
      "metadata": {
        "id": "2iPV8EbdJKVk"
      }
    },
    {
      "cell_type": "code",
      "source": [
        "from sklearn.preprocessing import StandardScaler\n",
        "\n",
        "scaler = StandardScaler()\n",
        "# calculo de los factores de centrado y escalado\n",
        "scaler.fit(X_train2) \n",
        "# transformación\n",
        "X_train2 = scaler.transform(X_train2)\n",
        "X_test2 = scaler.transform(X_test2)"
      ],
      "metadata": {
        "id": "n8_qZ0L6LAgy"
      },
      "execution_count": null,
      "outputs": []
    },
    {
      "cell_type": "markdown",
      "source": [
        "### Naïve-Bayes"
      ],
      "metadata": {
        "id": "5LuIaBXOINMl"
      }
    },
    {
      "cell_type": "markdown",
      "source": [
        "#### GaussianNB"
      ],
      "metadata": {
        "id": "gdCJm3Fa2eNb"
      }
    },
    {
      "cell_type": "code",
      "source": [
        "from sklearn.naive_bayes import GaussianNB #, MultinomialNB, BernoulliNB, ComplementNB\n",
        "\n",
        "gnb = GaussianNB()\n",
        "clf = gnb.fit(X_train2, y_train2)\n",
        "y_pred2 = clf.predict(X_test2)\n",
        "print(\"Número de préstamos clasificados erroneamente %d de un total de  %d\"  % (X_test2.shape[0], (y_test2 != y_pred2).sum()))\n"
      ],
      "metadata": {
        "colab": {
          "base_uri": "https://localhost:8080/"
        },
        "id": "Gl5SIxTFLPqy",
        "outputId": "ae8f2183-5129-42c4-9eac-14e59dbd91a4"
      },
      "execution_count": null,
      "outputs": [
        {
          "output_type": "stream",
          "name": "stdout",
          "text": [
            "Número de préstamos clasificados erroneamente 538 de un total de  160\n"
          ]
        }
      ]
    },
    {
      "cell_type": "code",
      "source": [
        "from sklearn.metrics import classification_report\n",
        "\n",
        "print(classification_report(y_test2, y_pred2, labels=clf.classes_))"
      ],
      "metadata": {
        "id": "xqk1HYMPLYuw",
        "colab": {
          "base_uri": "https://localhost:8080/"
        },
        "outputId": "8a4baad5-7639-4cea-a6bf-08c108209f74"
      },
      "execution_count": null,
      "outputs": [
        {
          "output_type": "stream",
          "name": "stdout",
          "text": [
            "              precision    recall  f1-score   support\n",
            "\n",
            "           0       0.16      0.60      0.25        45\n",
            "           1       0.95      0.71      0.81       493\n",
            "\n",
            "    accuracy                           0.70       538\n",
            "   macro avg       0.56      0.66      0.53       538\n",
            "weighted avg       0.89      0.70      0.77       538\n",
            "\n"
          ]
        }
      ]
    },
    {
      "cell_type": "code",
      "source": [
        "import matplotlib.pyplot as plt\n",
        "from sklearn.metrics import confusion_matrix, ConfusionMatrixDisplay\n",
        "\n",
        "cm = confusion_matrix(y_test2, y_pred2, labels= clf.classes_)\n",
        "disp = ConfusionMatrixDisplay(confusion_matrix=cm, display_labels=clf.classes_)\n",
        "disp.plot()"
      ],
      "metadata": {
        "id": "2EX7ZafcLcI9",
        "colab": {
          "base_uri": "https://localhost:8080/",
          "height": 300
        },
        "outputId": "6f616776-0851-4343-bd14-e5b4f436ec78"
      },
      "execution_count": null,
      "outputs": [
        {
          "output_type": "execute_result",
          "data": {
            "text/plain": [
              "<sklearn.metrics._plot.confusion_matrix.ConfusionMatrixDisplay at 0x7f70c215f510>"
            ]
          },
          "metadata": {},
          "execution_count": 52
        },
        {
          "output_type": "display_data",
          "data": {
            "text/plain": [
              "<Figure size 432x288 with 2 Axes>"
            ],
            "image/png": "[encoded data removed]"
          },
          "metadata": {
            "needs_background": "light"
          }
        }
      ]
    },
    {
      "cell_type": "markdown",
      "source": [
        "#### Parámetros de la matriz de confusión"
      ],
      "metadata": {
        "id": "qeLYBtXZ95CK"
      }
    },
    {
      "cell_type": "markdown",
      "source": [
        "Exactitutd  \n",
        "correct predictions / total predictions   \n",
        " \n",
        "Esto es simplemente igual a la proporción de predicciones que el modelo clasificó correctamente."
      ],
      "metadata": {
        "id": "gTf6Zj8N5TqG"
      }
    },
    {
      "cell_type": "code",
      "source": [
        "Accuracy = (27+351)/(142+351+18+27)\n",
        "print(Accuracy)"
      ],
      "metadata": {
        "colab": {
          "base_uri": "https://localhost:8080/"
        },
        "id": "udwCUKfm7Wnm",
        "outputId": "489eea8f-68fb-47ba-cb4d-09cac23ed2c8"
      },
      "execution_count": null,
      "outputs": [
        {
          "output_type": "stream",
          "name": "stdout",
          "text": [
            "0.7026022304832714\n"
          ]
        }
      ]
    },
    {
      "cell_type": "markdown",
      "source": [
        "Precision   \n",
        "True Positive / True positive + False positive  \n",
        "\n",
        "La precisión también se conoce como valor predictivo positivo y es la proporción de instancias relevantes entre las instancias recuperadas. En otras palabras, responde a la pregunta \"¿Qué proporción de identificaciones positivas fue realmente correcta?\""
      ],
      "metadata": {
        "id": "a-gHYhc472X7"
      }
    },
    {
      "cell_type": "code",
      "source": [
        "Precision = (351)/(351+18)\n",
        "print(Precision)"
      ],
      "metadata": {
        "colab": {
          "base_uri": "https://localhost:8080/"
        },
        "id": "xDJj7rA_78rN",
        "outputId": "426fcd6e-ac09-4b62-8d97-6437e3863e94"
      },
      "execution_count": null,
      "outputs": [
        {
          "output_type": "stream",
          "name": "stdout",
          "text": [
            "0.9512195121951219\n"
          ]
        }
      ]
    },
    {
      "cell_type": "markdown",
      "source": [
        "Sensibilidad  \n",
        "True positive / True Positive + False Negative\n",
        "  \n",
        "La sensibilidad, tasa de aciertos o tasa positiva real (TPR), es la proporción de la cantidad total de instancias pertinentes que se recuperaron realmente. Responde a la pregunta \"¿Qué proporción de positivos reales se identificó correctamente?\""
      ],
      "metadata": {
        "id": "JdyslD_E8MC-"
      }
    },
    {
      "cell_type": "code",
      "source": [
        "Recall = (351)/(351+142)\n",
        "print(Recall)"
      ],
      "metadata": {
        "colab": {
          "base_uri": "https://localhost:8080/"
        },
        "id": "53KfTwsa8KTi",
        "outputId": "cc9a4d3c-a5ec-4392-8262-26e93af4cdc7"
      },
      "execution_count": null,
      "outputs": [
        {
          "output_type": "stream",
          "name": "stdout",
          "text": [
            "0.7119675456389453\n"
          ]
        }
      ]
    },
    {
      "cell_type": "markdown",
      "source": [
        "Especificidad  \n",
        "True negative / True negative + False positive  \n",
        "\n",
        "La especificidad, también conocida como tasa negativa real (TNR), mide la proporción de negativos reales que se identifican correctamente como tales. Es lo opuesto a la sensibilidad."
      ],
      "metadata": {
        "id": "yJlfkOHJ8wbm"
      }
    },
    {
      "cell_type": "code",
      "source": [
        "Specifity = (27)/(27+142)\n",
        "print(Specifity)"
      ],
      "metadata": {
        "colab": {
          "base_uri": "https://localhost:8080/"
        },
        "id": "0O29ERke85Sm",
        "outputId": "fabba2cc-f052-4a1d-8ab1-0e578814fdd2"
      },
      "execution_count": null,
      "outputs": [
        {
          "output_type": "stream",
          "name": "stdout",
          "text": [
            "0.15976331360946747\n"
          ]
        }
      ]
    },
    {
      "cell_type": "markdown",
      "source": [
        "Puntuación F1  \n",
        "\n",
        "2·(precision·recall)/precision + recall  \n",
        "\n",
        "2TruePositive/2TruePositive+FalsePositive+FalseNegative\n",
        "\n",
        "\n",
        "El puntaje F1 es una medida de la precisión de una prueba, es la media armónica de precisión y recuperación. Puede tener una puntuación máxima de 1 (precisión y recuerdo perfectos) y una mínima de 0. En general, es una medida de la precisión y robustez de su modelo."
      ],
      "metadata": {
        "id": "5zFZtNzR9TGG"
      }
    },
    {
      "cell_type": "code",
      "source": [
        "F1score = (2*351)/(2*351+142+18)\n",
        "print(F1score)"
      ],
      "metadata": {
        "colab": {
          "base_uri": "https://localhost:8080/"
        },
        "id": "jRlev3yZ9EJW",
        "outputId": "af0a0f1d-a544-48ef-c62b-9c47d30156fc"
      },
      "execution_count": null,
      "outputs": [
        {
          "output_type": "stream",
          "name": "stdout",
          "text": [
            "0.814385150812065\n"
          ]
        }
      ]
    },
    {
      "cell_type": "markdown",
      "source": [
        "#### BernoulliNB"
      ],
      "metadata": {
        "id": "oyVFpxBR0bG0"
      }
    },
    {
      "cell_type": "code",
      "source": [
        "from sklearn.naive_bayes import BernoulliNB\n",
        "\n",
        "bnb = BernoulliNB()\n",
        "clf2 = bnb.fit(X_train2, y_train2)\n",
        "y_pred2 = clf2.predict(X_test2)\n",
        "print(\"Número de préstamos clasificados erroneamente %d de un total de  %d\"  % (X_test2.shape[0], (y_test2 != y_pred2).sum()))"
      ],
      "metadata": {
        "colab": {
          "base_uri": "https://localhost:8080/"
        },
        "id": "EKVDvRNd1EwS",
        "outputId": "88d0e74a-774d-4228-ef6e-cc77b19241b9"
      },
      "execution_count": null,
      "outputs": [
        {
          "output_type": "stream",
          "name": "stdout",
          "text": [
            "Número de préstamos clasificados erroneamente 538 de un total de  45\n"
          ]
        }
      ]
    },
    {
      "cell_type": "code",
      "source": [
        "from sklearn.metrics import classification_report\n",
        "\n",
        "print(classification_report(y_test2, y_pred2, labels=clf2.classes_))"
      ],
      "metadata": {
        "id": "iQ6Lno3u148E"
      },
      "execution_count": null,
      "outputs": []
    },
    {
      "cell_type": "code",
      "source": [
        "import matplotlib.pyplot as plt\n",
        "from sklearn.metrics import confusion_matrix, ConfusionMatrixDisplay\n",
        "\n",
        "cm = confusion_matrix(y_test2, y_pred2, labels= clf2.classes_)\n",
        "disp = ConfusionMatrixDisplay(confusion_matrix=cm, display_labels=clf2.classes_)\n",
        "disp.plot()"
      ],
      "metadata": {
        "colab": {
          "base_uri": "https://localhost:8080/",
          "height": 296
        },
        "id": "NJK1w_2D1_sK",
        "outputId": "764581d0-5d39-4d62-9829-1ad76e8bf1c6"
      },
      "execution_count": null,
      "outputs": [
        {
          "output_type": "execute_result",
          "data": {
            "text/plain": [
              "<sklearn.metrics._plot.confusion_matrix.ConfusionMatrixDisplay at 0x7f70bd755250>"
            ]
          },
          "metadata": {},
          "execution_count": 127
        },
        {
          "output_type": "display_data",
          "data": {
            "text/plain": [
              "<Figure size 432x288 with 2 Axes>"
            ],
            "image/png": "[encoded data removed]"
          },
          "metadata": {
            "needs_background": "light"
          }
        }
      ]
    },
    {
      "cell_type": "markdown",
      "source": [
        "### Discretización de los *datos*"
      ],
      "metadata": {
        "id": "3an9QOGttCu3"
      }
    },
    {
      "cell_type": "code",
      "source": [
        "from sklearn.preprocessing import KBinsDiscretizer\n",
        "\n",
        "dis = KBinsDiscretizer(n_bins=11, encode='ordinal', strategy='uniform')\n",
        "# Cálculo de la discretización de los datos\n",
        "dis.fit(X_train2) \n",
        "# transformación\n",
        "X_train2b = dis.transform(X_train2)\n",
        "X_test2b = dis.transform(X_test2)"
      ],
      "metadata": {
        "id": "f4I5Rtl6GmKs"
      },
      "execution_count": null,
      "outputs": []
    },
    {
      "cell_type": "markdown",
      "source": [
        "### Naïve-Bayes"
      ],
      "metadata": {
        "id": "mflAZEMcHf2E"
      }
    },
    {
      "cell_type": "markdown",
      "source": [
        "#### GaussianNB"
      ],
      "metadata": {
        "id": "NK-1KWybHR-U"
      }
    },
    {
      "cell_type": "code",
      "source": [
        "from sklearn.naive_bayes import GaussianNB #, MultinomialNB, BernoulliNB, ComplementNB\n",
        "\n",
        "gnb = GaussianNB()\n",
        "clf = gnb.fit(X_train2b, y_train2)\n",
        "y_pred2b = clf.predict(X_test2b)\n",
        "print(\"Número de préstamos clasificados erroneamente %d de un total de  %d\"  % (X_test2b.shape[0], (y_test2 != y_pred2b).sum()))\n"
      ],
      "metadata": {
        "colab": {
          "base_uri": "https://localhost:8080/"
        },
        "outputId": "c3a01021-7260-4e55-abb8-5d1b601295fa",
        "id": "ZrbRrUf3HR-W"
      },
      "execution_count": null,
      "outputs": [
        {
          "output_type": "stream",
          "name": "stdout",
          "text": [
            "Número de préstamos clasificados erroneamente 538 de un total de  172\n"
          ]
        }
      ]
    },
    {
      "cell_type": "code",
      "source": [
        "from sklearn.metrics import classification_report\n",
        "\n",
        "print(classification_report(y_test2, y_pred2b, labels=clf.classes_))"
      ],
      "metadata": {
        "colab": {
          "base_uri": "https://localhost:8080/"
        },
        "outputId": "d60e4661-cccb-42bf-89d9-33359bac38ec",
        "id": "rez_ha2yHR-Z"
      },
      "execution_count": null,
      "outputs": [
        {
          "output_type": "stream",
          "name": "stdout",
          "text": [
            "              precision    recall  f1-score   support\n",
            "\n",
            "           0       0.15      0.62      0.25        45\n",
            "           1       0.95      0.69      0.80       493\n",
            "\n",
            "    accuracy                           0.68       538\n",
            "   macro avg       0.55      0.65      0.52       538\n",
            "weighted avg       0.89      0.68      0.75       538\n",
            "\n"
          ]
        }
      ]
    },
    {
      "cell_type": "code",
      "source": [
        "import matplotlib.pyplot as plt\n",
        "from sklearn.metrics import confusion_matrix, ConfusionMatrixDisplay\n",
        "\n",
        "cm = confusion_matrix(y_test2, y_pred2b, labels= clf.classes_)\n",
        "disp = ConfusionMatrixDisplay(confusion_matrix=cm, display_labels=clf.classes_)\n",
        "disp.plot()"
      ],
      "metadata": {
        "colab": {
          "base_uri": "https://localhost:8080/",
          "height": 296
        },
        "outputId": "3227e3f9-0e84-44c5-fc08-183f42828b10",
        "id": "REotQ_kkHR-c"
      },
      "execution_count": null,
      "outputs": [
        {
          "output_type": "execute_result",
          "data": {
            "text/plain": [
              "<sklearn.metrics._plot.confusion_matrix.ConfusionMatrixDisplay at 0x7f70bd643110>"
            ]
          },
          "metadata": {},
          "execution_count": 161
        },
        {
          "output_type": "display_data",
          "data": {
            "text/plain": [
              "<Figure size 432x288 with 2 Axes>"
            ],
            "image/png": "[encoded data removed]"
          },
          "metadata": {
            "needs_background": "light"
          }
        }
      ]
    },
    {
      "cell_type": "markdown",
      "source": [
        "#### BernoulliNB"
      ],
      "metadata": {
        "id": "Nyv6-CuoIY-k"
      }
    },
    {
      "cell_type": "code",
      "source": [
        "from sklearn.naive_bayes import BernoulliNB\n",
        "\n",
        "bnb = BernoulliNB()\n",
        "clf2 = bnb.fit(X_train2b, y_train2)\n",
        "y_pred2b = clf2.predict(X_test2b)\n",
        "print(\"Número de préstamos clasificados erroneamente %d de un total de  %d\"  % (X_test2b.shape[0], (y_test2 != y_pred2b).sum()))"
      ],
      "metadata": {
        "colab": {
          "base_uri": "https://localhost:8080/"
        },
        "outputId": "f8b76cf2-6619-448e-f602-1808ae5810f3",
        "id": "Zxsw05bhIY-l"
      },
      "execution_count": null,
      "outputs": [
        {
          "output_type": "stream",
          "name": "stdout",
          "text": [
            "Número de préstamos clasificados erroneamente 538 de un total de  335\n"
          ]
        }
      ]
    },
    {
      "cell_type": "code",
      "source": [
        "from sklearn.metrics import classification_report\n",
        "\n",
        "print(classification_report(y_test2, y_pred2b, labels=clf2.classes_))"
      ],
      "metadata": {
        "colab": {
          "base_uri": "https://localhost:8080/"
        },
        "id": "h-Yfom2SIY-n",
        "outputId": "cb8d9dd6-ec0d-4910-85dc-6a64fcd06c91"
      },
      "execution_count": null,
      "outputs": [
        {
          "output_type": "stream",
          "name": "stdout",
          "text": [
            "              precision    recall  f1-score   support\n",
            "\n",
            "           0       0.00      0.00      0.00        45\n",
            "           1       0.92      1.00      0.96       493\n",
            "\n",
            "    accuracy                           0.92       538\n",
            "   macro avg       0.46      0.50      0.48       538\n",
            "weighted avg       0.84      0.92      0.88       538\n",
            "\n"
          ]
        },
        {
          "output_type": "stream",
          "name": "stderr",
          "text": [
            "/usr/local/lib/python3.7/dist-packages/sklearn/metrics/_classification.py:1318: UndefinedMetricWarning: Precision and F-score are ill-defined and being set to 0.0 in labels with no predicted samples. Use `zero_division` parameter to control this behavior.\n",
            "  _warn_prf(average, modifier, msg_start, len(result))\n",
            "/usr/local/lib/python3.7/dist-packages/sklearn/metrics/_classification.py:1318: UndefinedMetricWarning: Precision and F-score are ill-defined and being set to 0.0 in labels with no predicted samples. Use `zero_division` parameter to control this behavior.\n",
            "  _warn_prf(average, modifier, msg_start, len(result))\n",
            "/usr/local/lib/python3.7/dist-packages/sklearn/metrics/_classification.py:1318: UndefinedMetricWarning: Precision and F-score are ill-defined and being set to 0.0 in labels with no predicted samples. Use `zero_division` parameter to control this behavior.\n",
            "  _warn_prf(average, modifier, msg_start, len(result))\n"
          ]
        }
      ]
    },
    {
      "cell_type": "code",
      "source": [
        "import matplotlib.pyplot as plt\n",
        "from sklearn.metrics import confusion_matrix, ConfusionMatrixDisplay\n",
        "\n",
        "cm = confusion_matrix(y_test2, y_pred2b, labels= clf2.classes_)\n",
        "disp = ConfusionMatrixDisplay(confusion_matrix=cm, display_labels=clf2.classes_)\n",
        "disp.plot()"
      ],
      "metadata": {
        "colab": {
          "base_uri": "https://localhost:8080/",
          "height": 296
        },
        "outputId": "2021c547-c7d0-4ef0-c6c4-9f00c4dbbc4f",
        "id": "DfeZ8hCWIY-o"
      },
      "execution_count": null,
      "outputs": [
        {
          "output_type": "execute_result",
          "data": {
            "text/plain": [
              "<sklearn.metrics._plot.confusion_matrix.ConfusionMatrixDisplay at 0x7f70bd5611d0>"
            ]
          },
          "metadata": {},
          "execution_count": 164
        },
        {
          "output_type": "display_data",
          "data": {
            "text/plain": [
              "<Figure size 432x288 with 2 Axes>"
            ],
            "image/png": "[encoded data removed]"
          },
          "metadata": {
            "needs_background": "light"
          }
        }
      ]
    },
    {
      "cell_type": "markdown",
      "source": [
        "#### ComplementNB"
      ],
      "metadata": {
        "id": "atHPaYUsJF14"
      }
    },
    {
      "cell_type": "code",
      "source": [
        "from sklearn.naive_bayes import ComplementNB\n",
        "\n",
        "cnb = ComplementNB()\n",
        "clf3 = cnb.fit(X_train2b, y_train2)\n",
        "y_pred2b = clf3.predict(X_test2b)\n",
        "print(\"Número de préstamos clasificados erroneamente %d de un total de  %d\"  % (X_test2b.shape[0], (y_test2 != y_pred2b).sum()))"
      ],
      "metadata": {
        "colab": {
          "base_uri": "https://localhost:8080/"
        },
        "outputId": "7472b8b1-d945-4568-d0c1-6987f246a8ac",
        "id": "FIsmnNBEJF15"
      },
      "execution_count": null,
      "outputs": [
        {
          "output_type": "stream",
          "name": "stdout",
          "text": [
            "Número de préstamos clasificados erroneamente 538 de un total de  335\n"
          ]
        }
      ]
    },
    {
      "cell_type": "code",
      "source": [
        "from sklearn.metrics import classification_report\n",
        "\n",
        "print(classification_report(y_test2, y_pred2b, labels=clf3.classes_))"
      ],
      "metadata": {
        "colab": {
          "base_uri": "https://localhost:8080/"
        },
        "outputId": "56897bac-2043-4a9f-e8c9-4c2007b87928",
        "id": "_45hAHsWJF17"
      },
      "execution_count": null,
      "outputs": [
        {
          "output_type": "stream",
          "name": "stdout",
          "text": [
            "              precision    recall  f1-score   support\n",
            "\n",
            "           0       0.10      0.80      0.18        45\n",
            "           1       0.95      0.34      0.50       493\n",
            "\n",
            "    accuracy                           0.38       538\n",
            "   macro avg       0.52      0.57      0.34       538\n",
            "weighted avg       0.88      0.38      0.47       538\n",
            "\n"
          ]
        }
      ]
    },
    {
      "cell_type": "code",
      "source": [
        "import matplotlib.pyplot as plt\n",
        "from sklearn.metrics import confusion_matrix, ConfusionMatrixDisplay\n",
        "\n",
        "cm = confusion_matrix(y_test2, y_pred2b, labels= clf3.classes_)\n",
        "disp = ConfusionMatrixDisplay(confusion_matrix=cm, display_labels=clf3.classes_)\n",
        "disp.plot()"
      ],
      "metadata": {
        "colab": {
          "base_uri": "https://localhost:8080/",
          "height": 296
        },
        "outputId": "bcb302ec-40ee-4799-e5a5-61f3dee9dff7",
        "id": "ZfVWncbzJF18"
      },
      "execution_count": null,
      "outputs": [
        {
          "output_type": "execute_result",
          "data": {
            "text/plain": [
              "<sklearn.metrics._plot.confusion_matrix.ConfusionMatrixDisplay at 0x7f70bd4932d0>"
            ]
          },
          "metadata": {},
          "execution_count": 168
        },
        {
          "output_type": "display_data",
          "data": {
            "text/plain": [
              "<Figure size 432x288 with 2 Axes>"
            ],
            "image/png": "[encoded data removed]"
          },
          "metadata": {
            "needs_background": "light"
          }
        }
      ]
    },
    {
      "cell_type": "markdown",
      "source": [
        "#### MultinomialNB"
      ],
      "metadata": {
        "id": "Z16qNKxnJZeH"
      }
    },
    {
      "cell_type": "code",
      "source": [
        "from sklearn.naive_bayes import MultinomialNB\n",
        "\n",
        "mnb = MultinomialNB()\n",
        "clf4 = mnb.fit(X_train2b, y_train2)\n",
        "y_pred2b = clf4.predict(X_test2b)\n",
        "print(\"Número de préstamos clasificados erroneamente %d de un total de  %d\"  % (X_test2b.shape[0], (y_test2 != y_pred2b).sum()))"
      ],
      "metadata": {
        "colab": {
          "base_uri": "https://localhost:8080/"
        },
        "outputId": "1260f707-6eee-45dd-e5ac-9f8658fae7ea",
        "id": "J-HSgyRfJZeI"
      },
      "execution_count": null,
      "outputs": [
        {
          "output_type": "stream",
          "name": "stdout",
          "text": [
            "Número de préstamos clasificados erroneamente 538 de un total de  211\n"
          ]
        }
      ]
    },
    {
      "cell_type": "code",
      "source": [
        "from sklearn.metrics import classification_report\n",
        "\n",
        "print(classification_report(y_test2, y_pred2b, labels=clf4.classes_))"
      ],
      "metadata": {
        "colab": {
          "base_uri": "https://localhost:8080/"
        },
        "outputId": "cdfb7dff-828f-4ed6-a21b-c04f9fa9d868",
        "id": "xOuX8l5NJZeK"
      },
      "execution_count": null,
      "outputs": [
        {
          "output_type": "stream",
          "name": "stdout",
          "text": [
            "              precision    recall  f1-score   support\n",
            "\n",
            "           0       0.12      0.58      0.20        45\n",
            "           1       0.94      0.61      0.74       493\n",
            "\n",
            "    accuracy                           0.61       538\n",
            "   macro avg       0.53      0.59      0.47       538\n",
            "weighted avg       0.87      0.61      0.70       538\n",
            "\n"
          ]
        }
      ]
    },
    {
      "cell_type": "code",
      "source": [
        "import matplotlib.pyplot as plt\n",
        "from sklearn.metrics import confusion_matrix, ConfusionMatrixDisplay\n",
        "\n",
        "cm = confusion_matrix(y_test2, y_pred2b, labels= clf4.classes_)\n",
        "disp = ConfusionMatrixDisplay(confusion_matrix=cm, display_labels=clf4.classes_)\n",
        "disp.plot()"
      ],
      "metadata": {
        "colab": {
          "base_uri": "https://localhost:8080/",
          "height": 300
        },
        "outputId": "5268b43a-9c56-48bf-99db-ab481387c268",
        "id": "M2bGSyeqJZeL"
      },
      "execution_count": null,
      "outputs": [
        {
          "output_type": "execute_result",
          "data": {
            "text/plain": [
              "<sklearn.metrics._plot.confusion_matrix.ConfusionMatrixDisplay at 0x7f70bd3d4810>"
            ]
          },
          "metadata": {},
          "execution_count": 171
        },
        {
          "output_type": "display_data",
          "data": {
            "text/plain": [
              "<Figure size 432x288 with 2 Axes>"
            ],
            "image/png": "[encoded data removed]"
          },
          "metadata": {
            "needs_background": "light"
          }
        }
      ]
    },
    {
      "cell_type": "markdown",
      "source": [
        "## CONJUNTO 3"
      ],
      "metadata": {
        "id": "QBPlRYctIt3A"
      }
    },
    {
      "cell_type": "markdown",
      "source": [
        "### Nueva extracción de datos (diferentes) para subconjunto de entrenamiento"
      ],
      "metadata": {
        "id": "Gt951vwsKHBw"
      }
    },
    {
      "cell_type": "code",
      "source": [
        "%%sql\n",
        "SELECT SUBSTR(l.date, 0, 3) AS year, l.amount, duration, payments, A11, A13,\n",
        "  SUBSTR(birth_number, 0, 3) as age, po.amount AS DebtAmount,\n",
        "  CASE cc.type WHEN 'junior' THEN 1\n",
        "               WHEN 'classic' THEN 2\n",
        "               WHEN 'gold' THEN 3\n",
        "  END CardType,\n",
        "  CASE status WHEN 'A' THEN 1\n",
        "              WHEN 'B' THEN 0\n",
        "  END label\n",
        "FROM LOAN AS l,\n",
        "  ACCOUNT AS a INNER JOIN DISTRICT AS d ON a.district_id = d.A1\n",
        "  INNER JOIN DISPOSITION AS dp ON a.account_id = dp.account_id\n",
        "  INNER JOIN CLIENT AS c ON dp.client_id = c.client_id\n",
        "  INNER JOIN CREDIT_CARD AS cc ON cc.disp_id = dp.disp_id\n",
        "  INNER JOIN PERMANENT_ORDER AS po ON a.account_id = po.account_id\n",
        "WHERE l.account_id = a.account_id\n",
        "  AND a.account_id = dp.account_id\n",
        "  AND dp.client_id = c.client_id\n",
        "  AND cc.disp_id = dp.disp_id\n",
        "  AND a.account_id = po.account_id\n",
        "  AND l.status IN (\"A\", \"B\")\n",
        "LIMIT 10"
      ],
      "metadata": {
        "id": "KTol8LRLKenS"
      },
      "execution_count": null,
      "outputs": []
    },
    {
      "cell_type": "code",
      "source": [
        "%%sql\n",
        "loans_train3 << SELECT SUBSTR(l.date, 0, 3) AS year, l.amount, duration, payments, A11, A13,\n",
        "  SUBSTR(birth_number, 0, 3) as age, po.amount AS DebtAmount,\n",
        "  CASE cc.type WHEN 'junior' THEN 1\n",
        "               WHEN 'classic' THEN 2\n",
        "               WHEN 'gold' THEN 3\n",
        "  END CardType,\n",
        "  CASE status WHEN 'A' THEN 1\n",
        "              WHEN 'B' THEN 0\n",
        "  END label\n",
        "FROM LOAN AS l,\n",
        "  ACCOUNT AS a INNER JOIN DISTRICT AS d ON a.district_id = d.A1\n",
        "  INNER JOIN DISPOSITION AS dp ON a.account_id = dp.account_id\n",
        "  INNER JOIN CLIENT AS c ON dp.client_id = c.client_id\n",
        "  INNER JOIN CREDIT_CARD AS cc ON cc.disp_id = dp.disp_id\n",
        "  INNER JOIN PERMANENT_ORDER AS po ON a.account_id = po.account_id\n",
        "WHERE l.account_id = a.account_id\n",
        "  AND a.account_id = dp.account_id\n",
        "  AND dp.client_id = c.client_id\n",
        "  AND cc.disp_id = dp.disp_id\n",
        "  AND a.account_id = po.account_id\n",
        "  AND l.status IN (\"A\", \"B\")"
      ],
      "metadata": {
        "id": "0qrST01gKenV"
      },
      "execution_count": null,
      "outputs": []
    },
    {
      "cell_type": "code",
      "source": [
        "df_train3 = loans_train3.DataFrame()\n",
        "df_train3.head()"
      ],
      "metadata": {
        "id": "ROeHrixRKenX"
      },
      "execution_count": null,
      "outputs": []
    },
    {
      "cell_type": "code",
      "source": [
        "df_train3.shape"
      ],
      "metadata": {
        "colab": {
          "base_uri": "https://localhost:8080/"
        },
        "outputId": "466af8c7-5d8f-4b0f-a408-0a865d140f9d",
        "id": "Un2yIQSmKenY"
      },
      "execution_count": null,
      "outputs": [
        {
          "output_type": "execute_result",
          "data": {
            "text/plain": [
              "(140, 10)"
            ]
          },
          "metadata": {},
          "execution_count": 55
        }
      ]
    },
    {
      "cell_type": "markdown",
      "source": [
        "### Nueva extracción de datos (diferentes) para subconjunto de validación"
      ],
      "metadata": {
        "id": "yCKjuJm7K6GY"
      }
    },
    {
      "cell_type": "code",
      "source": [
        "%%sql\n",
        "SELECT SUBSTR(l.date, 0, 3) AS year, l.amount, duration, payments, A11, A13,\n",
        "  SUBSTR(birth_number, 0, 3) as age, po.amount AS DebtAmount,\n",
        "  CASE cc.type WHEN 'junior' THEN 1\n",
        "               WHEN 'classic' THEN 2\n",
        "               WHEN 'gold' THEN 3\n",
        "  END CardType,\n",
        "  CASE status WHEN 'C' THEN 1\n",
        "              WHEN 'D' THEN 0\n",
        "  END label\n",
        "FROM LOAN AS l,\n",
        "  ACCOUNT AS a INNER JOIN DISTRICT AS d ON a.district_id = d.A1\n",
        "  INNER JOIN DISPOSITION AS dp ON a.account_id = dp.account_id\n",
        "  INNER JOIN CLIENT AS c ON dp.client_id = c.client_id\n",
        "  INNER JOIN CREDIT_CARD AS cc ON cc.disp_id = dp.disp_id\n",
        "  INNER JOIN PERMANENT_ORDER AS po ON a.account_id = po.account_id\n",
        "WHERE l.account_id = a.account_id\n",
        "  AND a.account_id = dp.account_id\n",
        "  AND dp.client_id = c.client_id\n",
        "  AND cc.disp_id = dp.disp_id\n",
        "  AND a.account_id = po.account_id\n",
        "  AND l.status IN (\"C\", \"D\")\n",
        "LIMIT 10"
      ],
      "metadata": {
        "id": "BN56lYpaKenZ"
      },
      "execution_count": null,
      "outputs": []
    },
    {
      "cell_type": "code",
      "source": [
        "%%sql\n",
        "loans_test3 << SELECT SUBSTR(l.date, 0, 3) AS year, l.amount, duration, payments, A11, A13,\n",
        "  SUBSTR(birth_number, 0, 3) as age, po.amount AS DebtAmount,\n",
        "  CASE cc.type WHEN 'junior' THEN 1\n",
        "               WHEN 'classic' THEN 2\n",
        "               WHEN 'gold' THEN 3\n",
        "  END CardType,\n",
        "  CASE status WHEN 'C' THEN 1\n",
        "              WHEN 'D' THEN 0\n",
        "  END label\n",
        "FROM LOAN AS l,\n",
        "  ACCOUNT AS a INNER JOIN DISTRICT AS d ON a.district_id = d.A1\n",
        "  INNER JOIN DISPOSITION AS dp ON a.account_id = dp.account_id\n",
        "  INNER JOIN CLIENT AS c ON dp.client_id = c.client_id\n",
        "  INNER JOIN CREDIT_CARD AS cc ON cc.disp_id = dp.disp_id\n",
        "  INNER JOIN PERMANENT_ORDER AS po ON a.account_id = po.account_id\n",
        "WHERE l.account_id = a.account_id\n",
        "  AND a.account_id = dp.account_id\n",
        "  AND dp.client_id = c.client_id\n",
        "  AND cc.disp_id = dp.disp_id\n",
        "  AND a.account_id = po.account_id\n",
        "  AND l.status IN (\"C\", \"D\")"
      ],
      "metadata": {
        "id": "jViTrSH2Kend"
      },
      "execution_count": null,
      "outputs": []
    },
    {
      "cell_type": "code",
      "source": [
        "df_test3 = loans_test3.DataFrame()\n",
        "df_test3.head()"
      ],
      "metadata": {
        "id": "u2eSVBrSKene"
      },
      "execution_count": null,
      "outputs": []
    },
    {
      "cell_type": "code",
      "source": [
        "df_test3.shape"
      ],
      "metadata": {
        "colab": {
          "base_uri": "https://localhost:8080/"
        },
        "outputId": "ab978e01-5be9-467b-b752-e0e42f385bff",
        "id": "ygDxCHBlKenh"
      },
      "execution_count": null,
      "outputs": [
        {
          "output_type": "execute_result",
          "data": {
            "text/plain": [
              "(214, 10)"
            ]
          },
          "metadata": {},
          "execution_count": 59
        }
      ]
    },
    {
      "cell_type": "markdown",
      "source": [
        "### División de los datos en los subconjuntos"
      ],
      "metadata": {
        "id": "BzYd337mKeni"
      }
    },
    {
      "cell_type": "code",
      "source": [
        "features3 = [\"year\", \"amount\", \"duration\", \"payments\", \"A11\", \"A13\", \"age\", \"DebtAmount\", \"CardType\"]"
      ],
      "metadata": {
        "id": "pEDhT3YHKenj"
      },
      "execution_count": null,
      "outputs": []
    },
    {
      "cell_type": "code",
      "source": [
        "X_train3 = df_train3[features3]\n",
        "y_train3 = df_train3[\"label\"]\n",
        "\n",
        "X_test3 = df_test3[features3]\n",
        "y_test3 = df_test3[\"label\"]\n"
      ],
      "metadata": {
        "id": "X1HNQfcZKenk"
      },
      "execution_count": null,
      "outputs": []
    },
    {
      "cell_type": "markdown",
      "source": [
        "### Normalización de los datos"
      ],
      "metadata": {
        "id": "AXN_dSSSKenl"
      }
    },
    {
      "cell_type": "code",
      "source": [
        "from sklearn.preprocessing import StandardScaler\n",
        "\n",
        "scaler = StandardScaler()\n",
        "# calculo de los factores de centrado y escalado\n",
        "scaler.fit(X_train3) \n",
        "# transformación\n",
        "X_train3 = scaler.transform(X_train3)\n",
        "X_test3 = scaler.transform(X_test3)"
      ],
      "metadata": {
        "id": "s8cklde5Kenm"
      },
      "execution_count": null,
      "outputs": []
    },
    {
      "cell_type": "markdown",
      "source": [
        "### Naïve-Bayes"
      ],
      "metadata": {
        "id": "ltqpUGLGKenm"
      }
    },
    {
      "cell_type": "markdown",
      "source": [
        "#### GaussianNB"
      ],
      "metadata": {
        "id": "6L7VO9rh2jS0"
      }
    },
    {
      "cell_type": "code",
      "source": [
        "from sklearn.naive_bayes import GaussianNB #, MultinomialNB, BernoulliNB, ComplementNB\n",
        "\n",
        "gnb = GaussianNB()\n",
        "clf = gnb.fit(X_train3, y_train3)\n",
        "y_pred3 = clf.predict(X_test3)\n",
        "print(\"Número de préstamos clasificados erroneamente %d de un total de  %d\"  % (X_test3.shape[0], (y_test3 != y_pred3).sum()))\n"
      ],
      "metadata": {
        "colab": {
          "base_uri": "https://localhost:8080/"
        },
        "outputId": "641c45f9-3685-4428-d950-ecaffde7dc03",
        "id": "Nr3KeUEYKenn"
      },
      "execution_count": null,
      "outputs": [
        {
          "output_type": "stream",
          "name": "stdout",
          "text": [
            "Número de préstamos clasificados erroneamente 214 de un total de  6\n"
          ]
        }
      ]
    },
    {
      "cell_type": "code",
      "source": [
        "from sklearn.metrics import classification_report\n",
        "\n",
        "print(classification_report(y_test3, y_pred3, labels=clf.classes_))"
      ],
      "metadata": {
        "colab": {
          "base_uri": "https://localhost:8080/"
        },
        "outputId": "c6ce4804-1d58-460b-bbba-08d1a55dde0a",
        "id": "ZpOAb2_VKeno"
      },
      "execution_count": null,
      "outputs": [
        {
          "output_type": "stream",
          "name": "stdout",
          "text": [
            "              precision    recall  f1-score   support\n",
            "\n",
            "           0       0.00      0.00      0.00         3\n",
            "           1       0.99      0.99      0.99       211\n",
            "\n",
            "    accuracy                           0.97       214\n",
            "   macro avg       0.49      0.49      0.49       214\n",
            "weighted avg       0.97      0.97      0.97       214\n",
            "\n"
          ]
        }
      ]
    },
    {
      "cell_type": "code",
      "source": [
        "import matplotlib.pyplot as plt\n",
        "from sklearn.metrics import confusion_matrix, ConfusionMatrixDisplay\n",
        "\n",
        "cm = confusion_matrix(y_test3, y_pred3, labels= clf.classes_)\n",
        "disp = ConfusionMatrixDisplay(confusion_matrix=cm, display_labels=clf.classes_)\n",
        "disp.plot()"
      ],
      "metadata": {
        "colab": {
          "base_uri": "https://localhost:8080/",
          "height": 296
        },
        "outputId": "15d5cf8d-7b25-4914-a0d3-c8c153410502",
        "id": "6Ol51RF7Kenp"
      },
      "execution_count": null,
      "outputs": [
        {
          "output_type": "execute_result",
          "data": {
            "text/plain": [
              "<sklearn.metrics._plot.confusion_matrix.ConfusionMatrixDisplay at 0x7f70c2037f10>"
            ]
          },
          "metadata": {},
          "execution_count": 65
        },
        {
          "output_type": "display_data",
          "data": {
            "text/plain": [
              "<Figure size 432x288 with 2 Axes>"
            ],
            "image/png": "[encoded data removed]"
          },
          "metadata": {
            "needs_background": "light"
          }
        }
      ]
    },
    {
      "cell_type": "markdown",
      "source": [
        "#### BernoulliNB"
      ],
      "metadata": {
        "id": "zrPwr5242o0i"
      }
    },
    {
      "cell_type": "code",
      "source": [
        "from sklearn.naive_bayes import BernoulliNB\n",
        "\n",
        "bnb = BernoulliNB()\n",
        "clf2 = bnb.fit(X_train3, y_train3)\n",
        "y_pred2 = clf2.predict(X_test3)\n",
        "print(\"Número de préstamos clasificados erroneamente %d de un total de  %d\"  % (X_test3.shape[0], (y_test3 != y_pred3).sum()))"
      ],
      "metadata": {
        "colab": {
          "base_uri": "https://localhost:8080/"
        },
        "outputId": "22c77aff-5d27-4f6d-b25f-bf99e46a5e6b",
        "id": "ilWCC1Hm2o0l"
      },
      "execution_count": null,
      "outputs": [
        {
          "output_type": "stream",
          "name": "stdout",
          "text": [
            "Número de préstamos clasificados erroneamente 214 de un total de  6\n"
          ]
        }
      ]
    },
    {
      "cell_type": "code",
      "source": [
        "from sklearn.metrics import classification_report\n",
        "\n",
        "print(classification_report(y_test3, y_pred3, labels=clf2.classes_))"
      ],
      "metadata": {
        "colab": {
          "base_uri": "https://localhost:8080/"
        },
        "id": "abDKwve02o0q",
        "outputId": "6296022c-43b0-4d55-df0e-0f868d13f99a"
      },
      "execution_count": null,
      "outputs": [
        {
          "output_type": "stream",
          "name": "stdout",
          "text": [
            "              precision    recall  f1-score   support\n",
            "\n",
            "           0       0.00      0.00      0.00         3\n",
            "           1       0.99      0.99      0.99       211\n",
            "\n",
            "    accuracy                           0.97       214\n",
            "   macro avg       0.49      0.49      0.49       214\n",
            "weighted avg       0.97      0.97      0.97       214\n",
            "\n"
          ]
        }
      ]
    },
    {
      "cell_type": "code",
      "source": [
        "import matplotlib.pyplot as plt\n",
        "from sklearn.metrics import confusion_matrix, ConfusionMatrixDisplay\n",
        "\n",
        "cm = confusion_matrix(y_test3, y_pred3, labels= clf2.classes_)\n",
        "disp = ConfusionMatrixDisplay(confusion_matrix=cm, display_labels=clf2.classes_)\n",
        "disp.plot()"
      ],
      "metadata": {
        "colab": {
          "base_uri": "https://localhost:8080/",
          "height": 296
        },
        "outputId": "98a74856-3d26-4237-9800-e8c455894ad7",
        "id": "azPDYreb2o0r"
      },
      "execution_count": null,
      "outputs": [
        {
          "output_type": "execute_result",
          "data": {
            "text/plain": [
              "<sklearn.metrics._plot.confusion_matrix.ConfusionMatrixDisplay at 0x7f70bd721690>"
            ]
          },
          "metadata": {},
          "execution_count": 132
        },
        {
          "output_type": "display_data",
          "data": {
            "text/plain": [
              "<Figure size 432x288 with 2 Axes>"
            ],
            "image/png": "[encoded data removed]"
          },
          "metadata": {
            "needs_background": "light"
          }
        }
      ]
    },
    {
      "cell_type": "markdown",
      "source": [
        "### Discretización de los *datos*"
      ],
      "metadata": {
        "id": "HiIYeG-QKQMF"
      }
    },
    {
      "cell_type": "code",
      "source": [
        "from sklearn.preprocessing import KBinsDiscretizer\n",
        "\n",
        "dis2 = KBinsDiscretizer(n_bins=15, encode='ordinal', strategy='uniform')\n",
        "# Cálculo de la discretización de los datos\n",
        "dis2.fit(X_train3) \n",
        "# transformación\n",
        "X_train3b = dis.transform(X_train3)\n",
        "X_test3b = dis.transform(X_test3)"
      ],
      "metadata": {
        "id": "n7Ed4KIDKQMG"
      },
      "execution_count": null,
      "outputs": []
    },
    {
      "cell_type": "markdown",
      "source": [
        "### Naïve-Bayes"
      ],
      "metadata": {
        "id": "MUKrOJ5XKQMH"
      }
    },
    {
      "cell_type": "markdown",
      "source": [
        "#### GaussianNB"
      ],
      "metadata": {
        "id": "vuEYjCHAKQMI"
      }
    },
    {
      "cell_type": "code",
      "source": [
        "from sklearn.naive_bayes import GaussianNB #, MultinomialNB, BernoulliNB, ComplementNB\n",
        "\n",
        "gnb = GaussianNB()\n",
        "clf = gnb.fit(X_train3b, y_train3)\n",
        "y_pred3b = clf.predict(X_test3b)\n",
        "print(\"Número de préstamos clasificados erroneamente %d de un total de  %d\"  % (X_test3b.shape[0], (y_test3 != y_pred3b).sum()))\n"
      ],
      "metadata": {
        "colab": {
          "base_uri": "https://localhost:8080/"
        },
        "outputId": "95c690cd-48a4-4a96-9ba0-eff057b69bd2",
        "id": "LuqSqj23KQMJ"
      },
      "execution_count": null,
      "outputs": [
        {
          "output_type": "stream",
          "name": "stdout",
          "text": [
            "Número de préstamos clasificados erroneamente 214 de un total de  6\n"
          ]
        }
      ]
    },
    {
      "cell_type": "code",
      "source": [
        "from sklearn.metrics import classification_report\n",
        "\n",
        "print(classification_report(y_test3, y_pred3b, labels=clf.classes_))"
      ],
      "metadata": {
        "colab": {
          "base_uri": "https://localhost:8080/"
        },
        "outputId": "c08a9681-f1a1-4e08-a253-230291c3f7df",
        "id": "FIBovKqcKQMK"
      },
      "execution_count": null,
      "outputs": [
        {
          "output_type": "stream",
          "name": "stdout",
          "text": [
            "              precision    recall  f1-score   support\n",
            "\n",
            "           0       0.00      0.00      0.00         3\n",
            "           1       0.99      0.99      0.99       211\n",
            "\n",
            "    accuracy                           0.97       214\n",
            "   macro avg       0.49      0.49      0.49       214\n",
            "weighted avg       0.97      0.97      0.97       214\n",
            "\n"
          ]
        }
      ]
    },
    {
      "cell_type": "code",
      "source": [
        "import matplotlib.pyplot as plt\n",
        "from sklearn.metrics import confusion_matrix, ConfusionMatrixDisplay\n",
        "\n",
        "cm = confusion_matrix(y_test3, y_pred3b, labels= clf.classes_)\n",
        "disp = ConfusionMatrixDisplay(confusion_matrix=cm, display_labels=clf.classes_)\n",
        "disp.plot()"
      ],
      "metadata": {
        "colab": {
          "base_uri": "https://localhost:8080/",
          "height": 296
        },
        "outputId": "893aeaaf-7c6f-4ad5-a07e-77722226ab11",
        "id": "l2DdgW3eKQMM"
      },
      "execution_count": null,
      "outputs": [
        {
          "output_type": "execute_result",
          "data": {
            "text/plain": [
              "<sklearn.metrics._plot.confusion_matrix.ConfusionMatrixDisplay at 0x7f70bd3d44d0>"
            ]
          },
          "metadata": {},
          "execution_count": 176
        },
        {
          "output_type": "display_data",
          "data": {
            "text/plain": [
              "<Figure size 432x288 with 2 Axes>"
            ],
            "image/png": "[encoded data removed]"
          },
          "metadata": {
            "needs_background": "light"
          }
        }
      ]
    },
    {
      "cell_type": "markdown",
      "source": [
        "#### BernoulliNB"
      ],
      "metadata": {
        "id": "feRmSLHFKQMN"
      }
    },
    {
      "cell_type": "code",
      "source": [
        "from sklearn.naive_bayes import BernoulliNB\n",
        "\n",
        "bnb = BernoulliNB()\n",
        "clf2 = bnb.fit(X_train3b, y_train3)\n",
        "y_pred3b = clf2.predict(X_test3b)\n",
        "print(\"Número de préstamos clasificados erroneamente %d de un total de  %d\"  % (X_test3b.shape[0], (y_test3 != y_pred3b).sum()))"
      ],
      "metadata": {
        "colab": {
          "base_uri": "https://localhost:8080/"
        },
        "outputId": "4b99926e-a9e1-482c-f19a-5ab3f72bcfe6",
        "id": "JdlyEbOUKQMO"
      },
      "execution_count": null,
      "outputs": [
        {
          "output_type": "stream",
          "name": "stdout",
          "text": [
            "Número de préstamos clasificados erroneamente 214 de un total de  5\n"
          ]
        }
      ]
    },
    {
      "cell_type": "code",
      "source": [
        "from sklearn.metrics import classification_report\n",
        "\n",
        "print(classification_report(y_test3, y_pred3b, labels=clf2.classes_))"
      ],
      "metadata": {
        "colab": {
          "base_uri": "https://localhost:8080/"
        },
        "outputId": "fa05ed8e-3de5-44ef-e9ca-6d4842007e1c",
        "id": "lsEkwySsKQMQ"
      },
      "execution_count": null,
      "outputs": [
        {
          "output_type": "stream",
          "name": "stdout",
          "text": [
            "              precision    recall  f1-score   support\n",
            "\n",
            "           0       0.00      0.00      0.00         3\n",
            "           1       0.99      0.99      0.99       211\n",
            "\n",
            "    accuracy                           0.98       214\n",
            "   macro avg       0.49      0.50      0.49       214\n",
            "weighted avg       0.97      0.98      0.97       214\n",
            "\n"
          ]
        }
      ]
    },
    {
      "cell_type": "code",
      "source": [
        "import matplotlib.pyplot as plt\n",
        "from sklearn.metrics import confusion_matrix, ConfusionMatrixDisplay\n",
        "\n",
        "cm = confusion_matrix(y_test3, y_pred3b, labels= clf2.classes_)\n",
        "disp = ConfusionMatrixDisplay(confusion_matrix=cm, display_labels=clf2.classes_)\n",
        "disp.plot()"
      ],
      "metadata": {
        "colab": {
          "base_uri": "https://localhost:8080/",
          "height": 296
        },
        "outputId": "81c7dc09-7d08-4f74-d068-4e65ee4f77c9",
        "id": "gVBSEUqNKQMS"
      },
      "execution_count": null,
      "outputs": [
        {
          "output_type": "execute_result",
          "data": {
            "text/plain": [
              "<sklearn.metrics._plot.confusion_matrix.ConfusionMatrixDisplay at 0x7f70bd2c0d10>"
            ]
          },
          "metadata": {},
          "execution_count": 179
        },
        {
          "output_type": "display_data",
          "data": {
            "text/plain": [
              "<Figure size 432x288 with 2 Axes>"
            ],
            "image/png": "[encoded data removed]"
          },
          "metadata": {
            "needs_background": "light"
          }
        }
      ]
    },
    {
      "cell_type": "markdown",
      "source": [
        "#### ComplementNB"
      ],
      "metadata": {
        "id": "nCCH-KUQKQMT"
      }
    },
    {
      "cell_type": "code",
      "source": [
        "from sklearn.naive_bayes import ComplementNB\n",
        "\n",
        "cnb = ComplementNB()\n",
        "clf3 = cnb.fit(X_train3b, y_train3)\n",
        "y_pred3b = clf3.predict(X_test3b)\n",
        "print(\"Número de préstamos clasificados erroneamente %d de un total de  %d\"  % (X_test3b.shape[0], (y_test3 != y_pred3b).sum()))"
      ],
      "metadata": {
        "colab": {
          "base_uri": "https://localhost:8080/"
        },
        "outputId": "a4f0ea76-bb91-4c28-942c-671533d3c837",
        "id": "OUfqF5TPKQMU"
      },
      "execution_count": null,
      "outputs": [
        {
          "output_type": "stream",
          "name": "stdout",
          "text": [
            "Número de préstamos clasificados erroneamente 214 de un total de  30\n"
          ]
        }
      ]
    },
    {
      "cell_type": "code",
      "source": [
        "from sklearn.metrics import classification_report\n",
        "\n",
        "print(classification_report(y_test3, y_pred3b, labels=clf3.classes_))"
      ],
      "metadata": {
        "colab": {
          "base_uri": "https://localhost:8080/"
        },
        "outputId": "56897bac-2043-4a9f-e8c9-4c2007b87928",
        "id": "LDBVk0yEKQMV"
      },
      "execution_count": null,
      "outputs": [
        {
          "output_type": "stream",
          "name": "stdout",
          "text": [
            "              precision    recall  f1-score   support\n",
            "\n",
            "           0       0.10      0.80      0.18        45\n",
            "           1       0.95      0.34      0.50       493\n",
            "\n",
            "    accuracy                           0.38       538\n",
            "   macro avg       0.52      0.57      0.34       538\n",
            "weighted avg       0.88      0.38      0.47       538\n",
            "\n"
          ]
        }
      ]
    },
    {
      "cell_type": "code",
      "source": [
        "import matplotlib.pyplot as plt\n",
        "from sklearn.metrics import confusion_matrix, ConfusionMatrixDisplay\n",
        "\n",
        "cm = confusion_matrix(y_test3, y_pred3b, labels= clf3.classes_)\n",
        "disp = ConfusionMatrixDisplay(confusion_matrix=cm, display_labels=clf3.classes_)\n",
        "disp.plot()"
      ],
      "metadata": {
        "colab": {
          "base_uri": "https://localhost:8080/",
          "height": 296
        },
        "outputId": "451a98a1-0937-41b0-a98f-966a01881afc",
        "id": "YSiVPxVUKQMV"
      },
      "execution_count": null,
      "outputs": [
        {
          "output_type": "execute_result",
          "data": {
            "text/plain": [
              "<sklearn.metrics._plot.confusion_matrix.ConfusionMatrixDisplay at 0x7f70bd1e46d0>"
            ]
          },
          "metadata": {},
          "execution_count": 181
        },
        {
          "output_type": "display_data",
          "data": {
            "text/plain": [
              "<Figure size 432x288 with 2 Axes>"
            ],
            "image/png": "[encoded data removed]"
          },
          "metadata": {
            "needs_background": "light"
          }
        }
      ]
    },
    {
      "cell_type": "markdown",
      "source": [
        "#### MultinomialNB"
      ],
      "metadata": {
        "id": "CsNBtD5CKQMX"
      }
    },
    {
      "cell_type": "code",
      "source": [
        "from sklearn.naive_bayes import MultinomialNB\n",
        "\n",
        "mnb = MultinomialNB()\n",
        "clf4 = mnb.fit(X_train3b, y_train3)\n",
        "y_pred3b = clf4.predict(X_test3b)\n",
        "print(\"Número de préstamos clasificados erroneamente %d de un total de  %d\"  % (X_test3b.shape[0], (y_test3 != y_pred3b).sum()))"
      ],
      "metadata": {
        "colab": {
          "base_uri": "https://localhost:8080/"
        },
        "outputId": "4a555279-1a60-48a4-ef3f-cdfeeb8ace72",
        "id": "kCe4HiN3KQMY"
      },
      "execution_count": null,
      "outputs": [
        {
          "output_type": "stream",
          "name": "stdout",
          "text": [
            "Número de préstamos clasificados erroneamente 214 de un total de  22\n"
          ]
        }
      ]
    },
    {
      "cell_type": "code",
      "source": [
        "from sklearn.metrics import classification_report\n",
        "\n",
        "print(classification_report(y_test3, y_pred3b, labels=clf4.classes_))"
      ],
      "metadata": {
        "colab": {
          "base_uri": "https://localhost:8080/"
        },
        "outputId": "fce1f740-1203-4f3f-e925-c77323deae7d",
        "id": "zYF01B0QKQMZ"
      },
      "execution_count": null,
      "outputs": [
        {
          "output_type": "stream",
          "name": "stdout",
          "text": [
            "              precision    recall  f1-score   support\n",
            "\n",
            "           0       0.00      0.00      0.00         3\n",
            "           1       0.98      0.91      0.95       211\n",
            "\n",
            "    accuracy                           0.90       214\n",
            "   macro avg       0.49      0.45      0.47       214\n",
            "weighted avg       0.97      0.90      0.93       214\n",
            "\n"
          ]
        }
      ]
    },
    {
      "cell_type": "code",
      "source": [
        "import matplotlib.pyplot as plt\n",
        "from sklearn.metrics import confusion_matrix, ConfusionMatrixDisplay\n",
        "\n",
        "cm = confusion_matrix(y_test3, y_pred3b, labels= clf4.classes_)\n",
        "disp = ConfusionMatrixDisplay(confusion_matrix=cm, display_labels=clf4.classes_)\n",
        "disp.plot()"
      ],
      "metadata": {
        "colab": {
          "base_uri": "https://localhost:8080/",
          "height": 296
        },
        "outputId": "18602892-5d7f-4bf6-90ec-6bdc2568706b",
        "id": "TiPtmBo2KQMa"
      },
      "execution_count": null,
      "outputs": [
        {
          "output_type": "execute_result",
          "data": {
            "text/plain": [
              "<sklearn.metrics._plot.confusion_matrix.ConfusionMatrixDisplay at 0x7f70bd110b50>"
            ]
          },
          "metadata": {},
          "execution_count": 184
        },
        {
          "output_type": "display_data",
          "data": {
            "text/plain": [
              "<Figure size 432x288 with 2 Axes>"
            ],
            "image/png": "[encoded data removed]"
          },
          "metadata": {
            "needs_background": "light"
          }
        }
      ]
    },
    {
      "cell_type": "markdown",
      "source": [
        "# UNSUCCESSFUL ATTEMPTS"
      ],
      "metadata": {
        "id": "t5yORZp-yvtO"
      }
    },
    {
      "cell_type": "markdown",
      "source": [
        "### CONJUNTO 4"
      ],
      "metadata": {
        "id": "qNzFgoBdxodU"
      }
    },
    {
      "cell_type": "markdown",
      "source": [
        "### Extracción de los subconjuntos de datos sin factorizar previamente la variable credit card type"
      ],
      "metadata": {
        "id": "wAP_Bb81f-dl"
      }
    },
    {
      "cell_type": "code",
      "source": [
        "%%sql\n",
        "loans_train4 << SELECT SUBSTR(l.date, 0, 3) AS year, l.amount, duration, payments, A11, A13,\n",
        "  SUBSTR(birth_number, 0, 3) as age, po.amount AS DebtAmount, cc.type AS CardType,\n",
        "  CASE status WHEN 'A' THEN 1\n",
        "              WHEN 'B' THEN 0\n",
        "  END label\n",
        "FROM LOAN AS l,\n",
        "  ACCOUNT AS a INNER JOIN DISTRICT AS d ON a.district_id = d.A1\n",
        "  INNER JOIN DISPOSITION AS dp ON a.account_id = dp.account_id\n",
        "  INNER JOIN CLIENT AS c ON dp.client_id = c.client_id\n",
        "  INNER JOIN CREDIT_CARD AS cc ON cc.disp_id = dp.disp_id\n",
        "  INNER JOIN PERMANENT_ORDER AS po ON a.account_id = po.account_id\n",
        "WHERE l.account_id = a.account_id\n",
        "  AND a.account_id = dp.account_id\n",
        "  AND dp.client_id = c.client_id\n",
        "  AND cc.disp_id = dp.disp_id\n",
        "  AND a.account_id = po.account_id\n",
        "  AND l.status IN (\"A\", \"B\")"
      ],
      "metadata": {
        "colab": {
          "base_uri": "https://localhost:8080/"
        },
        "id": "wGhrg9gEf7bZ",
        "outputId": "126c7764-e4d4-44e6-cf5e-b3cb55140bc8"
      },
      "execution_count": null,
      "outputs": [
        {
          "output_type": "stream",
          "name": "stdout",
          "text": [
            " * sqlite:///data_berka.db\n",
            "Done.\n",
            "Returning data to local variable loans_train4\n"
          ]
        }
      ]
    },
    {
      "cell_type": "code",
      "source": [
        "df_train4 = loans_train4.DataFrame()\n",
        "df_train4.head()"
      ],
      "metadata": {
        "colab": {
          "base_uri": "https://localhost:8080/",
          "height": 206
        },
        "id": "t4IeLWSYgZbg",
        "outputId": "e95f72e2-6711-49c7-eeef-4805dbc3ddb6"
      },
      "execution_count": null,
      "outputs": [
        {
          "output_type": "execute_result",
          "data": {
            "text/plain": [
              "  year  amount  duration  payments    A11   A13 age  DebtAmount CardType  \\\n",
              "0   94   51696        24      2154  10673  5.44  68      2153.8  classic   \n",
              "1   94   82896        12      6908   8441  4.48  72        41.0  classic   \n",
              "2   94   82896        12      6908   8441  4.48  72       119.0  classic   \n",
              "3   94   82896        12      6908   8441  4.48  72      6907.5  classic   \n",
              "4   94   82896        12      6908   8441  4.48  72      9716.0  classic   \n",
              "\n",
              "   label  \n",
              "0      1  \n",
              "1      1  \n",
              "2      1  \n",
              "3      1  \n",
              "4      1  "
            ],
            "text/html": [
              "\n",
              "  <div id=\"df-87d117c1-c840-4434-9b7d-49fa20690b3f\">\n",
              "    <div class=\"colab-df-container\">\n",
              "      <div>\n",
              "<style scoped>\n",
              "    .dataframe tbody tr th:only-of-type {\n",
              "        vertical-align: middle;\n",
              "    }\n",
              "\n",
              "    .dataframe tbody tr th {\n",
              "        vertical-align: top;\n",
              "    }\n",
              "\n",
              "    .dataframe thead th {\n",
              "        text-align: right;\n",
              "    }\n",
              "</style>\n",
              "<table border=\"1\" class=\"dataframe\">\n",
              "  <thead>\n",
              "    <tr style=\"text-align: right;\">\n",
              "      <th></th>\n",
              "      <th>year</th>\n",
              "      <th>amount</th>\n",
              "      <th>duration</th>\n",
              "      <th>payments</th>\n",
              "      <th>A11</th>\n",
              "      <th>A13</th>\n",
              "      <th>age</th>\n",
              "      <th>DebtAmount</th>\n",
              "      <th>CardType</th>\n",
              "      <th>label</th>\n",
              "    </tr>\n",
              "  </thead>\n",
              "  <tbody>\n",
              "    <tr>\n",
              "      <th>0</th>\n",
              "      <td>94</td>\n",
              "      <td>51696</td>\n",
              "      <td>24</td>\n",
              "      <td>2154</td>\n",
              "      <td>10673</td>\n",
              "      <td>5.44</td>\n",
              "      <td>68</td>\n",
              "      <td>2153.8</td>\n",
              "      <td>classic</td>\n",
              "      <td>1</td>\n",
              "    </tr>\n",
              "    <tr>\n",
              "      <th>1</th>\n",
              "      <td>94</td>\n",
              "      <td>82896</td>\n",
              "      <td>12</td>\n",
              "      <td>6908</td>\n",
              "      <td>8441</td>\n",
              "      <td>4.48</td>\n",
              "      <td>72</td>\n",
              "      <td>41.0</td>\n",
              "      <td>classic</td>\n",
              "      <td>1</td>\n",
              "    </tr>\n",
              "    <tr>\n",
              "      <th>2</th>\n",
              "      <td>94</td>\n",
              "      <td>82896</td>\n",
              "      <td>12</td>\n",
              "      <td>6908</td>\n",
              "      <td>8441</td>\n",
              "      <td>4.48</td>\n",
              "      <td>72</td>\n",
              "      <td>119.0</td>\n",
              "      <td>classic</td>\n",
              "      <td>1</td>\n",
              "    </tr>\n",
              "    <tr>\n",
              "      <th>3</th>\n",
              "      <td>94</td>\n",
              "      <td>82896</td>\n",
              "      <td>12</td>\n",
              "      <td>6908</td>\n",
              "      <td>8441</td>\n",
              "      <td>4.48</td>\n",
              "      <td>72</td>\n",
              "      <td>6907.5</td>\n",
              "      <td>classic</td>\n",
              "      <td>1</td>\n",
              "    </tr>\n",
              "    <tr>\n",
              "      <th>4</th>\n",
              "      <td>94</td>\n",
              "      <td>82896</td>\n",
              "      <td>12</td>\n",
              "      <td>6908</td>\n",
              "      <td>8441</td>\n",
              "      <td>4.48</td>\n",
              "      <td>72</td>\n",
              "      <td>9716.0</td>\n",
              "      <td>classic</td>\n",
              "      <td>1</td>\n",
              "    </tr>\n",
              "  </tbody>\n",
              "</table>\n",
              "</div>\n",
              "      <button class=\"colab-df-convert\" onclick=\"convertToInteractive('df-87d117c1-c840-4434-9b7d-49fa20690b3f')\"\n",
              "              title=\"Convert this dataframe to an interactive table.\"\n",
              "              style=\"display:none;\">\n",
              "        \n",
              "  <svg xmlns=\"http://www.w3.org/2000/svg\" height=\"24px\"viewBox=\"0 0 24 24\"\n",
              "       width=\"24px\">\n",
              "    <path d=\"M0 0h24v24H0V0z\" fill=\"none\"/>\n",
              "    <path d=\"M18.56 5.44l.94 2.06.94-2.06 2.06-.94-2.06-.94-.94-2.06-.94 2.06-2.06.94zm-11 1L8.5 8.5l.94-2.06 2.06-.94-2.06-.94L8.5 2.5l-.94 2.06-2.06.94zm10 10l.94 2.06.94-2.06 2.06-.94-2.06-.94-.94-2.06-.94 2.06-2.06.94z\"/><path d=\"M17.41 7.96l-1.37-1.37c-.4-.4-.92-.59-1.43-.59-.52 0-1.04.2-1.43.59L10.3 9.45l-7.72 7.72c-.78.78-.78 2.05 0 2.83L4 21.41c.39.39.9.59 1.41.59.51 0 1.02-.2 1.41-.59l7.78-7.78 2.81-2.81c.8-.78.8-2.07 0-2.86zM5.41 20L4 18.59l7.72-7.72 1.47 1.35L5.41 20z\"/>\n",
              "  </svg>\n",
              "      </button>\n",
              "      \n",
              "  <style>\n",
              "    .colab-df-container {\n",
              "      display:flex;\n",
              "      flex-wrap:wrap;\n",
              "      gap: 12px;\n",
              "    }\n",
              "\n",
              "    .colab-df-convert {\n",
              "      background-color: #E8F0FE;\n",
              "      border: none;\n",
              "      border-radius: 50%;\n",
              "      cursor: pointer;\n",
              "      display: none;\n",
              "      fill: #1967D2;\n",
              "      height: 32px;\n",
              "      padding: 0 0 0 0;\n",
              "      width: 32px;\n",
              "    }\n",
              "\n",
              "    .colab-df-convert:hover {\n",
              "      background-color: #E2EBFA;\n",
              "      box-shadow: 0px 1px 2px rgba(60, 64, 67, 0.3), 0px 1px 3px 1px rgba(60, 64, 67, 0.15);\n",
              "      fill: #174EA6;\n",
              "    }\n",
              "\n",
              "    [theme=dark] .colab-df-convert {\n",
              "      background-color: #3B4455;\n",
              "      fill: #D2E3FC;\n",
              "    }\n",
              "\n",
              "    [theme=dark] .colab-df-convert:hover {\n",
              "      background-color: #434B5C;\n",
              "      box-shadow: 0px 1px 3px 1px rgba(0, 0, 0, 0.15);\n",
              "      filter: drop-shadow(0px 1px 2px rgba(0, 0, 0, 0.3));\n",
              "      fill: #FFFFFF;\n",
              "    }\n",
              "  </style>\n",
              "\n",
              "      <script>\n",
              "        const buttonEl =\n",
              "          document.querySelector('#df-87d117c1-c840-4434-9b7d-49fa20690b3f button.colab-df-convert');\n",
              "        buttonEl.style.display =\n",
              "          google.colab.kernel.accessAllowed ? 'block' : 'none';\n",
              "\n",
              "        async function convertToInteractive(key) {\n",
              "          const element = document.querySelector('#df-87d117c1-c840-4434-9b7d-49fa20690b3f');\n",
              "          const dataTable =\n",
              "            await google.colab.kernel.invokeFunction('convertToInteractive',\n",
              "                                                     [key], {});\n",
              "          if (!dataTable) return;\n",
              "\n",
              "          const docLinkHtml = 'Like what you see? Visit the ' +\n",
              "            '<a target=\"_blank\" href=https://colab.research.google.com/notebooks/data_table.ipynb>data table notebook</a>'\n",
              "            + ' to learn more about interactive tables.';\n",
              "          element.innerHTML = '';\n",
              "          dataTable['output_type'] = 'display_data';\n",
              "          await google.colab.output.renderOutput(dataTable, element);\n",
              "          const docLink = document.createElement('div');\n",
              "          docLink.innerHTML = docLinkHtml;\n",
              "          element.appendChild(docLink);\n",
              "        }\n",
              "      </script>\n",
              "    </div>\n",
              "  </div>\n",
              "  "
            ]
          },
          "metadata": {},
          "execution_count": 104
        }
      ]
    },
    {
      "cell_type": "code",
      "source": [
        "df_train4.shape"
      ],
      "metadata": {
        "colab": {
          "base_uri": "https://localhost:8080/"
        },
        "outputId": "1a090990-8b8f-4e8e-fd00-13e9739d6206",
        "id": "wfw-61ZOgZbj"
      },
      "execution_count": null,
      "outputs": [
        {
          "output_type": "execute_result",
          "data": {
            "text/plain": [
              "(140, 10)"
            ]
          },
          "metadata": {},
          "execution_count": 105
        }
      ]
    },
    {
      "cell_type": "code",
      "source": [
        "%%sql\n",
        "loans_test4 << SELECT SUBSTR(l.date, 0, 3) AS year, l.amount, duration, payments, A11, A13,\n",
        "  SUBSTR(birth_number, 0, 3) as age, po.amount AS DebtAmount,\n",
        "  CASE cc.type WHEN 'junior' THEN 1\n",
        "               WHEN 'classic' THEN 2\n",
        "               WHEN 'gold' THEN 3\n",
        "  END CardType,\n",
        "  CASE status WHEN 'C' THEN 1\n",
        "              WHEN 'D' THEN 0\n",
        "  END label\n",
        "FROM LOAN AS l,\n",
        "  ACCOUNT AS a INNER JOIN DISTRICT AS d ON a.district_id = d.A1\n",
        "  INNER JOIN DISPOSITION AS dp ON a.account_id = dp.account_id\n",
        "  INNER JOIN CLIENT AS c ON dp.client_id = c.client_id\n",
        "  INNER JOIN CREDIT_CARD AS cc ON cc.disp_id = dp.disp_id\n",
        "  INNER JOIN PERMANENT_ORDER AS po ON a.account_id = po.account_id\n",
        "WHERE l.account_id = a.account_id\n",
        "  AND a.account_id = dp.account_id\n",
        "  AND dp.client_id = c.client_id\n",
        "  AND cc.disp_id = dp.disp_id\n",
        "  AND a.account_id = po.account_id\n",
        "  AND l.status IN (\"C\", \"D\")"
      ],
      "metadata": {
        "colab": {
          "base_uri": "https://localhost:8080/"
        },
        "outputId": "60553fec-8bb6-496a-f520-715905d4c672",
        "id": "GYOfnok8grA-"
      },
      "execution_count": null,
      "outputs": [
        {
          "output_type": "stream",
          "name": "stdout",
          "text": [
            " * sqlite:///data_berka.db\n",
            "Done.\n",
            "Returning data to local variable loans_test4\n"
          ]
        }
      ]
    },
    {
      "cell_type": "code",
      "source": [
        "df_test4 = loans_test4.DataFrame()\n",
        "df_test4.head()"
      ],
      "metadata": {
        "id": "jGhGQXF3grBA"
      },
      "execution_count": null,
      "outputs": []
    },
    {
      "cell_type": "code",
      "source": [
        "df_test4.shape"
      ],
      "metadata": {
        "id": "J1XHo_UigrBC"
      },
      "execution_count": null,
      "outputs": []
    },
    {
      "cell_type": "code",
      "source": [
        "features4 = [\"year\", \"amount\", \"duration\", \"payments\", \"A11\", \"A13\", \"age\", \"DebtAmount\", \"CardType\"]"
      ],
      "metadata": {
        "id": "vb6Fol2zha1w"
      },
      "execution_count": null,
      "outputs": []
    },
    {
      "cell_type": "code",
      "source": [
        "X_train4 = df_train4[features3]\n",
        "y_train4 = df_train4[\"label\"]\n",
        "\n",
        "X_test4 = df_test4[features3]\n",
        "y_test4 = df_test4[\"label\"]\n"
      ],
      "metadata": {
        "id": "vtCKu3oKha12"
      },
      "execution_count": null,
      "outputs": []
    },
    {
      "cell_type": "markdown",
      "source": [
        "### Preprocesamiento de datasets automatizado"
      ],
      "metadata": {
        "id": "o9rSxxH40Lg6"
      }
    },
    {
      "cell_type": "code",
      "source": [
        "from sklearn.compose import ColumnTransformer\n",
        "num_attrs = [\"year\", \"amount\", \"duration\", \"payments\", \"A11\", \"A13\", \"DebtAmount\"]\n",
        "text_attrs = [\"CardType\"]\n",
        "\n",
        "pipeline = ColumnTransformer([\n",
        "                              (\"numeric\", StandardScaler(), num_attrs),\n",
        "                              (\"text\", OrdinalEncoder(), text_attrs)\n",
        "])\n",
        "preprocessed_X_train4 = pipeline.fit_transform(X_train4)"
      ],
      "metadata": {
        "id": "mElRDurvyun9"
      },
      "execution_count": null,
      "outputs": []
    },
    {
      "cell_type": "markdown",
      "source": [
        "### Ordinal Encoding (Attempt)"
      ],
      "metadata": {
        "id": "FwnGjxmwqeH_"
      }
    },
    {
      "cell_type": "code",
      "source": [
        "from sklearn.preprocessing import OrdinalEncoder\n",
        "\n",
        "# Se crea el codificador indicandole el orden de la variables\n",
        "encoder = OrdinalEncoder(categories=[[\"junior\", \"classic\", \"gold\"]])\n",
        "\n",
        "# Ajustamos el codificador con la variable CardType y la transformamos\n",
        "encoder.fit(X_train4[[\"CardType\"]])\n",
        "X_train4[\"CardType-encoded\"] = encoder.transform(X_train4[[\"CardType\"]])"
      ],
      "metadata": {
        "id": "8dMrJ9JXlaSP"
      },
      "execution_count": null,
      "outputs": []
    },
    {
      "cell_type": "code",
      "source": [
        "X_train4[[\"CardType\", \"CardType-encoded\"]].head(10)"
      ],
      "metadata": {
        "id": "3-3qEko5mc97"
      },
      "execution_count": null,
      "outputs": []
    },
    {
      "cell_type": "markdown",
      "source": [
        "## Attempt (Standard Scale)   "
      ],
      "metadata": {
        "id": "rbjV2920KAz8"
      }
    },
    {
      "cell_type": "markdown",
      "source": [
        "### MultinomalNB"
      ],
      "metadata": {
        "id": "kA33Nsdf4d4c"
      }
    },
    {
      "cell_type": "code",
      "source": [
        "from sklearn.naive_bayes import MultinomialNB\n",
        "\n",
        "mnb = MultinomialNB()\n",
        "clf3 = mnb.fit(X_train3, y_train3)\n",
        "y_pred2 = clf3.predict(X_test3)\n",
        "print(\"Número de préstamos clasificados erroneamente %d de un total de  %d\"  % (X_test3.shape[0], (y_test3 != y_pred3).sum()))"
      ],
      "metadata": {
        "id": "1fHDhHoO4TNS"
      },
      "execution_count": null,
      "outputs": []
    },
    {
      "cell_type": "markdown",
      "source": [
        "### ComplementNB"
      ],
      "metadata": {
        "id": "_ByIrTQw4hQo"
      }
    },
    {
      "cell_type": "code",
      "source": [
        "from sklearn.naive_bayes import ComplementNB\n",
        "\n",
        "cnb = ComplementNB()\n",
        "clf4 = cnb.fit(X_train3, y_train3)\n",
        "y_pred2 = clf4.predict(X_test3)\n",
        "print(\"Número de préstamos clasificados erroneamente %d de un total de  %d\"  % (X_test3.shape[0], (y_test3 != y_pred3).sum()))"
      ],
      "metadata": {
        "id": "txebpvYE4tNC"
      },
      "execution_count": null,
      "outputs": []
    }
  ]
}