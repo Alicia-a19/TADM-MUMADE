{
  "cells": [
    {
      "cell_type": "markdown",
      "metadata": {
        "id": "view-in-github",
        "colab_type": "text"
      },
      "source": [
        "<a href=\"https://colab.research.google.com/github/Alicia-a19/TADM-MUMADE/blob/main/TADM2022_S03b_Consultas_SQL_(Clase).ipynb\" target=\"_parent\"><img src=\"https://colab.research.google.com/assets/colab-badge.svg\" alt=\"Open In Colab\"/></a>"
      ]
    },
    {
      "cell_type": "markdown",
      "metadata": {
        "id": "uVLwnFMM0sQw"
      },
      "source": [
        "# CONSULTAS SQL"
      ]
    },
    {
      "cell_type": "markdown",
      "source": [
        "Estudiante: Alicia Megía Ortega"
      ],
      "metadata": {
        "id": "DTHcxlBDmjPg"
      }
    },
    {
      "cell_type": "markdown",
      "source": [
        "Enlaces para entender la base de datos y las relaciones entre las tablas existentes en esta.\n",
        "\n",
        "[Guia al Conjunto de Datos](https://sorry.vse.cz/~berka/challenge/pkdd1999/berka.htm)\n",
        "\n",
        "[Extracto del Diseño](https://dbdesigner.page.link/7iRemaQAUMsbFb2o7)\n"
      ],
      "metadata": {
        "id": "hdLsGajlzCba"
      }
    },
    {
      "cell_type": "markdown",
      "metadata": {
        "id": "R1snOoPhqDip"
      },
      "source": [
        "\n",
        "Antes de empezar cargamos nuestro archivo data_berka en nuestro entorno: [enlace](https://sorry.vse.cz/~berka/challenge/pkdd1999/berka.htm)"
      ]
    },
    {
      "cell_type": "markdown",
      "metadata": {
        "id": "_Y2gdkxHW-eW"
      },
      "source": [
        "Acceso a la base de datos."
      ]
    },
    {
      "cell_type": "code",
      "execution_count": 2,
      "metadata": {
        "colab": {
          "base_uri": "https://localhost:8080/"
        },
        "id": "beYOpxWWdcBF",
        "outputId": "9525e24e-2fe3-4964-f681-fe5981b494b0"
      },
      "outputs": [
        {
          "output_type": "stream",
          "name": "stdout",
          "text": [
            "/usr/local/lib/python3.7/dist-packages/gdown/cli.py:131: FutureWarning: Option `--id` was deprecated in version 4.3.1 and will be removed in 5.0. You don't need to pass it anymore to use a file ID.\n",
            "  category=FutureWarning,\n",
            "Downloading...\n",
            "From: https://drive.google.com/uc?id=1Osmr7qVN0NMuqYxvLesNn7H4nqPCVbsU\n",
            "To: /content/data_berka.db\n",
            "100% 70.2M/70.2M [00:00<00:00, 103MB/s] \n"
          ]
        }
      ],
      "source": [
        "!gdown --id 1Osmr7qVN0NMuqYxvLesNn7H4nqPCVbsU"
      ]
    },
    {
      "cell_type": "markdown",
      "metadata": {
        "id": "IW81KHupoRLS"
      },
      "source": [
        "En primer lugar cargamos la extensión que nos va permitir manejar comandos sql directamente en colab\n"
      ]
    },
    {
      "cell_type": "markdown",
      "metadata": {
        "id": "jnb7a7kGXR2F"
      },
      "source": [
        "Carga de la extensión de sql"
      ]
    },
    {
      "cell_type": "code",
      "execution_count": 3,
      "metadata": {
        "id": "we_e5c410uTN"
      },
      "outputs": [],
      "source": [
        "%load_ext sql"
      ]
    },
    {
      "cell_type": "markdown",
      "metadata": {
        "id": "ngTXa66CnDQl"
      },
      "source": [
        "Y conectamos con la base de datos"
      ]
    },
    {
      "cell_type": "code",
      "execution_count": 4,
      "metadata": {
        "colab": {
          "base_uri": "https://localhost:8080/",
          "height": 35
        },
        "id": "duTwjlKm1Xrn",
        "outputId": "215de542-bf10-4f03-d7f2-afabe9dd7a51"
      },
      "outputs": [
        {
          "output_type": "execute_result",
          "data": {
            "text/plain": [
              "'Connected: @data_berka.db'"
            ],
            "application/vnd.google.colaboratory.intrinsic+json": {
              "type": "string"
            }
          },
          "metadata": {},
          "execution_count": 4
        }
      ],
      "source": [
        "%sql sqlite:///data_berka.db"
      ]
    },
    {
      "cell_type": "markdown",
      "metadata": {
        "id": "nl5LrMoznFVf"
      },
      "source": [
        "Comprobamos esquema"
      ]
    },
    {
      "cell_type": "markdown",
      "metadata": {
        "id": "5jmtPkpGXoB3"
      },
      "source": [
        "Tener abierto el diseño y donde se describen los datos"
      ]
    },
    {
      "cell_type": "markdown",
      "source": [
        "Muestra el nombre de la tabla y el tipo (que ha de ser tabla)"
      ],
      "metadata": {
        "id": "Vwn5ruQ0h5Cc"
      }
    },
    {
      "cell_type": "code",
      "execution_count": null,
      "metadata": {
        "colab": {
          "base_uri": "https://localhost:8080/",
          "height": 246
        },
        "id": "jPf78IHX1f9O",
        "outputId": "5155b4b9-4b89-4882-81a9-87ac3fb0e524"
      },
      "outputs": [
        {
          "output_type": "stream",
          "name": "stdout",
          "text": [
            " * sqlite:///data_berka.db\n",
            "Done.\n"
          ]
        },
        {
          "output_type": "execute_result",
          "data": {
            "text/plain": [
              "[('DISTRICT', 'table'),\n",
              " ('ACCOUNT', 'table'),\n",
              " ('TRANS', 'table'),\n",
              " ('CLIENT', 'table'),\n",
              " ('DISPOSITION', 'table'),\n",
              " ('CREDIT_CARD', 'table'),\n",
              " ('LOAN', 'table'),\n",
              " ('PERMANENT_ORDER', 'table')]"
            ],
            "text/html": [
              "<table>\n",
              "    <thead>\n",
              "        <tr>\n",
              "            <th>name</th>\n",
              "            <th>type</th>\n",
              "        </tr>\n",
              "    </thead>\n",
              "    <tbody>\n",
              "        <tr>\n",
              "            <td>DISTRICT</td>\n",
              "            <td>table</td>\n",
              "        </tr>\n",
              "        <tr>\n",
              "            <td>ACCOUNT</td>\n",
              "            <td>table</td>\n",
              "        </tr>\n",
              "        <tr>\n",
              "            <td>TRANS</td>\n",
              "            <td>table</td>\n",
              "        </tr>\n",
              "        <tr>\n",
              "            <td>CLIENT</td>\n",
              "            <td>table</td>\n",
              "        </tr>\n",
              "        <tr>\n",
              "            <td>DISPOSITION</td>\n",
              "            <td>table</td>\n",
              "        </tr>\n",
              "        <tr>\n",
              "            <td>CREDIT_CARD</td>\n",
              "            <td>table</td>\n",
              "        </tr>\n",
              "        <tr>\n",
              "            <td>LOAN</td>\n",
              "            <td>table</td>\n",
              "        </tr>\n",
              "        <tr>\n",
              "            <td>PERMANENT_ORDER</td>\n",
              "            <td>table</td>\n",
              "        </tr>\n",
              "    </tbody>\n",
              "</table>"
            ]
          },
          "metadata": {},
          "execution_count": 6
        }
      ],
      "source": [
        "%%sql\n",
        "SELECT name,type\n",
        "FROM sqlite_master\n",
        "WHERE type == 'table' -- or = 'table'"
      ]
    },
    {
      "cell_type": "markdown",
      "metadata": {
        "id": "nbRfCdWvN97r"
      },
      "source": [
        "## Consultas sobre Préstamos"
      ]
    },
    {
      "cell_type": "markdown",
      "metadata": {
        "id": "1JYeovtFX14A"
      },
      "source": [
        "Consulta SELECT < lista de columnas >  \n",
        "         FROM < T1, T2, .., TN >  \n",
        "         WHERE < condición >  \n",
        "\n"
      ]
    },
    {
      "cell_type": "markdown",
      "source": [
        "SELECT column_1, column_2, column_N   \n",
        "FROM table_name   \n",
        "WHERE expression;   "
      ],
      "metadata": {
        "id": "rGsWigwpl3_O"
      }
    },
    {
      "cell_type": "markdown",
      "metadata": {
        "id": "Mt78fElcY0gg"
      },
      "source": [
        "NOT   \n",
        "* != Not Equal to\n",
        "* <>\tNot Equal to"
      ]
    },
    {
      "cell_type": "markdown",
      "metadata": {
        "id": "3emnyRCAMxUu"
      },
      "source": [
        "1. Obtener todos los atributos que tiene el banco sobre sús prestamos.\n",
        "\n",
        "(extra limitar a 20 registros)"
      ]
    },
    {
      "cell_type": "markdown",
      "source": [
        "Añadir LIMIT 20"
      ],
      "metadata": {
        "id": "USESc5Qei19h"
      }
    },
    {
      "cell_type": "markdown",
      "metadata": {
        "id": "KS1izL7JZiTf"
      },
      "source": [
        "%sql una sola línea (afectaría solo a la propia línea)  \n",
        "%%sql toda la celda"
      ]
    },
    {
      "cell_type": "markdown",
      "metadata": {
        "id": "5sWKUt1yZ7e7"
      },
      "source": [
        "SELECT * para obtener todos los atributos al no especificar  \n",
        "Se podría especificar para obtener solo algunos"
      ]
    },
    {
      "cell_type": "code",
      "execution_count": null,
      "metadata": {
        "id": "M7xsOeN8M2kh",
        "colab": {
          "base_uri": "https://localhost:8080/",
          "height": 502
        },
        "outputId": "ba6f1d60-14d3-49f3-c43a-f0e8318792c9"
      },
      "outputs": [
        {
          "output_type": "stream",
          "name": "stdout",
          "text": [
            " * sqlite:///data_berka.db\n",
            "Done.\n"
          ]
        },
        {
          "output_type": "execute_result",
          "data": {
            "text/plain": [
              "[(5314, 1787, 930705, 96396, 12, 8033, 'B'),\n",
              " (5316, 1801, 930711, 165960, 36, 4610, 'A'),\n",
              " (6863, 9188, 930728, 127080, 60, 2118, 'A'),\n",
              " (5325, 1843, 930803, 105804, 36, 2939, 'A'),\n",
              " (7240, 11013, 930906, 274740, 60, 4579, 'A'),\n",
              " (6687, 8261, 930913, 87840, 24, 3660, 'A'),\n",
              " (7284, 11265, 930915, 52788, 12, 4399, 'A'),\n",
              " (6111, 5428, 930924, 174744, 24, 7281, 'B'),\n",
              " (7235, 10973, 931013, 154416, 48, 3217, 'A'),\n",
              " (5997, 4894, 931104, 117024, 24, 4876, 'A'),\n",
              " (7121, 10364, 931110, 21924, 36, 609, 'A'),\n",
              " (6077, 5270, 931122, 79608, 24, 3317, 'A'),\n",
              " (6228, 6034, 931201, 464520, 60, 7742, 'B'),\n",
              " (6356, 6701, 931208, 95400, 36, 2650, 'A'),\n",
              " (5523, 2705, 931208, 93888, 36, 2608, 'A'),\n",
              " (6456, 7123, 931209, 47016, 12, 3918, 'A'),\n",
              " (7104, 10320, 931213, 259740, 60, 4329, 'A'),\n",
              " (6820, 9034, 931216, 38148, 12, 3179, 'A'),\n",
              " (6876, 9236, 931221, 86616, 12, 7218, 'A'),\n",
              " (7097, 10266, 931223, 75624, 24, 3151, 'B')]"
            ],
            "text/html": [
              "<table>\n",
              "    <thead>\n",
              "        <tr>\n",
              "            <th>loan_id</th>\n",
              "            <th>account_id</th>\n",
              "            <th>date</th>\n",
              "            <th>amount</th>\n",
              "            <th>duration</th>\n",
              "            <th>payments</th>\n",
              "            <th>status</th>\n",
              "        </tr>\n",
              "    </thead>\n",
              "    <tbody>\n",
              "        <tr>\n",
              "            <td>5314</td>\n",
              "            <td>1787</td>\n",
              "            <td>930705</td>\n",
              "            <td>96396</td>\n",
              "            <td>12</td>\n",
              "            <td>8033</td>\n",
              "            <td>B</td>\n",
              "        </tr>\n",
              "        <tr>\n",
              "            <td>5316</td>\n",
              "            <td>1801</td>\n",
              "            <td>930711</td>\n",
              "            <td>165960</td>\n",
              "            <td>36</td>\n",
              "            <td>4610</td>\n",
              "            <td>A</td>\n",
              "        </tr>\n",
              "        <tr>\n",
              "            <td>6863</td>\n",
              "            <td>9188</td>\n",
              "            <td>930728</td>\n",
              "            <td>127080</td>\n",
              "            <td>60</td>\n",
              "            <td>2118</td>\n",
              "            <td>A</td>\n",
              "        </tr>\n",
              "        <tr>\n",
              "            <td>5325</td>\n",
              "            <td>1843</td>\n",
              "            <td>930803</td>\n",
              "            <td>105804</td>\n",
              "            <td>36</td>\n",
              "            <td>2939</td>\n",
              "            <td>A</td>\n",
              "        </tr>\n",
              "        <tr>\n",
              "            <td>7240</td>\n",
              "            <td>11013</td>\n",
              "            <td>930906</td>\n",
              "            <td>274740</td>\n",
              "            <td>60</td>\n",
              "            <td>4579</td>\n",
              "            <td>A</td>\n",
              "        </tr>\n",
              "        <tr>\n",
              "            <td>6687</td>\n",
              "            <td>8261</td>\n",
              "            <td>930913</td>\n",
              "            <td>87840</td>\n",
              "            <td>24</td>\n",
              "            <td>3660</td>\n",
              "            <td>A</td>\n",
              "        </tr>\n",
              "        <tr>\n",
              "            <td>7284</td>\n",
              "            <td>11265</td>\n",
              "            <td>930915</td>\n",
              "            <td>52788</td>\n",
              "            <td>12</td>\n",
              "            <td>4399</td>\n",
              "            <td>A</td>\n",
              "        </tr>\n",
              "        <tr>\n",
              "            <td>6111</td>\n",
              "            <td>5428</td>\n",
              "            <td>930924</td>\n",
              "            <td>174744</td>\n",
              "            <td>24</td>\n",
              "            <td>7281</td>\n",
              "            <td>B</td>\n",
              "        </tr>\n",
              "        <tr>\n",
              "            <td>7235</td>\n",
              "            <td>10973</td>\n",
              "            <td>931013</td>\n",
              "            <td>154416</td>\n",
              "            <td>48</td>\n",
              "            <td>3217</td>\n",
              "            <td>A</td>\n",
              "        </tr>\n",
              "        <tr>\n",
              "            <td>5997</td>\n",
              "            <td>4894</td>\n",
              "            <td>931104</td>\n",
              "            <td>117024</td>\n",
              "            <td>24</td>\n",
              "            <td>4876</td>\n",
              "            <td>A</td>\n",
              "        </tr>\n",
              "        <tr>\n",
              "            <td>7121</td>\n",
              "            <td>10364</td>\n",
              "            <td>931110</td>\n",
              "            <td>21924</td>\n",
              "            <td>36</td>\n",
              "            <td>609</td>\n",
              "            <td>A</td>\n",
              "        </tr>\n",
              "        <tr>\n",
              "            <td>6077</td>\n",
              "            <td>5270</td>\n",
              "            <td>931122</td>\n",
              "            <td>79608</td>\n",
              "            <td>24</td>\n",
              "            <td>3317</td>\n",
              "            <td>A</td>\n",
              "        </tr>\n",
              "        <tr>\n",
              "            <td>6228</td>\n",
              "            <td>6034</td>\n",
              "            <td>931201</td>\n",
              "            <td>464520</td>\n",
              "            <td>60</td>\n",
              "            <td>7742</td>\n",
              "            <td>B</td>\n",
              "        </tr>\n",
              "        <tr>\n",
              "            <td>6356</td>\n",
              "            <td>6701</td>\n",
              "            <td>931208</td>\n",
              "            <td>95400</td>\n",
              "            <td>36</td>\n",
              "            <td>2650</td>\n",
              "            <td>A</td>\n",
              "        </tr>\n",
              "        <tr>\n",
              "            <td>5523</td>\n",
              "            <td>2705</td>\n",
              "            <td>931208</td>\n",
              "            <td>93888</td>\n",
              "            <td>36</td>\n",
              "            <td>2608</td>\n",
              "            <td>A</td>\n",
              "        </tr>\n",
              "        <tr>\n",
              "            <td>6456</td>\n",
              "            <td>7123</td>\n",
              "            <td>931209</td>\n",
              "            <td>47016</td>\n",
              "            <td>12</td>\n",
              "            <td>3918</td>\n",
              "            <td>A</td>\n",
              "        </tr>\n",
              "        <tr>\n",
              "            <td>7104</td>\n",
              "            <td>10320</td>\n",
              "            <td>931213</td>\n",
              "            <td>259740</td>\n",
              "            <td>60</td>\n",
              "            <td>4329</td>\n",
              "            <td>A</td>\n",
              "        </tr>\n",
              "        <tr>\n",
              "            <td>6820</td>\n",
              "            <td>9034</td>\n",
              "            <td>931216</td>\n",
              "            <td>38148</td>\n",
              "            <td>12</td>\n",
              "            <td>3179</td>\n",
              "            <td>A</td>\n",
              "        </tr>\n",
              "        <tr>\n",
              "            <td>6876</td>\n",
              "            <td>9236</td>\n",
              "            <td>931221</td>\n",
              "            <td>86616</td>\n",
              "            <td>12</td>\n",
              "            <td>7218</td>\n",
              "            <td>A</td>\n",
              "        </tr>\n",
              "        <tr>\n",
              "            <td>7097</td>\n",
              "            <td>10266</td>\n",
              "            <td>931223</td>\n",
              "            <td>75624</td>\n",
              "            <td>24</td>\n",
              "            <td>3151</td>\n",
              "            <td>B</td>\n",
              "        </tr>\n",
              "    </tbody>\n",
              "</table>"
            ]
          },
          "metadata": {},
          "execution_count": 6
        }
      ],
      "source": [
        "%%sql \n",
        "SELECT *\n",
        "FROM LOAN\n",
        "LIMIT 20"
      ]
    },
    {
      "cell_type": "markdown",
      "metadata": {
        "id": "ZRMqMQNDM3HE"
      },
      "source": [
        "2. Obtener los campos de fecha (date), cantidad (amount), duración (duration), pagos (payments), estado (status)\n",
        "\n",
        "(extra limitar a 20 registros)"
      ]
    },
    {
      "cell_type": "markdown",
      "metadata": {
        "id": "QwqHttGGaKPz"
      },
      "source": [
        "Limitar a sólo algunos campos indicando el nombre de los mismos  \n",
        "Ordenar ORDER BY (ASC predeterminado)  \n",
        "Por lo tanto, se ha de poner DESC (no predeterminado)"
      ]
    },
    {
      "cell_type": "markdown",
      "source": [
        "SELECT column-list   \n",
        "FROM table_name   \n",
        "WHERE condition\n",
        "ORDER BY column1, column2, .. column_N [ASC | DESC];   "
      ],
      "metadata": {
        "id": "Vhg7W3qumXUd"
      }
    },
    {
      "cell_type": "code",
      "execution_count": null,
      "metadata": {
        "id": "1Y_-HR8jNWJO"
      },
      "outputs": [],
      "source": [
        "%%sql\n",
        "SELECT date, amount, duration, payments, status\n",
        "FROM LOAN\n",
        "ORDER BY amount DESC\n",
        "LIMIT 20"
      ]
    },
    {
      "cell_type": "markdown",
      "metadata": {
        "id": "ioDp5S9nNXTJ"
      },
      "source": [
        "3. Obtener los distintos tipos de estado que se presentan en un préstamo."
      ]
    },
    {
      "cell_type": "markdown",
      "metadata": {
        "id": "C0cdp078aob1"
      },
      "source": [
        "DISTINCT para que devuelva filas sin repetir"
      ]
    },
    {
      "cell_type": "markdown",
      "source": [
        "\n",
        "\n",
        "*   The SELECT DISTINCT statement is used to return only distinct (different) values.\n",
        "\n",
        "\n"
      ],
      "metadata": {
        "id": "r4h7Wl9Aod5C"
      }
    },
    {
      "cell_type": "markdown",
      "source": [
        "SELECT DISTINCT column_1, column_2,.....column_N   \n",
        "FROM table_name  \n",
        "WHERE conditions;"
      ],
      "metadata": {
        "id": "h6a2TrImmUIf"
      }
    },
    {
      "cell_type": "code",
      "execution_count": null,
      "metadata": {
        "colab": {
          "base_uri": "https://localhost:8080/",
          "height": 161
        },
        "id": "aNOWaFWuNfNS",
        "outputId": "7d97fa0d-b9eb-4f7a-fca4-20bf5a10fd12"
      },
      "outputs": [
        {
          "name": "stdout",
          "output_type": "stream",
          "text": [
            " * sqlite:///data_berka.db\n",
            "Done.\n"
          ]
        },
        {
          "data": {
            "text/html": [
              "<table>\n",
              "    <thead>\n",
              "        <tr>\n",
              "            <th>status</th>\n",
              "        </tr>\n",
              "    </thead>\n",
              "    <tbody>\n",
              "        <tr>\n",
              "            <td>A</td>\n",
              "        </tr>\n",
              "        <tr>\n",
              "            <td>B</td>\n",
              "        </tr>\n",
              "        <tr>\n",
              "            <td>C</td>\n",
              "        </tr>\n",
              "        <tr>\n",
              "            <td>D</td>\n",
              "        </tr>\n",
              "    </tbody>\n",
              "</table>"
            ],
            "text/plain": [
              "[('A',), ('B',), ('C',), ('D',)]"
            ]
          },
          "execution_count": 11,
          "metadata": {},
          "output_type": "execute_result"
        }
      ],
      "source": [
        "%%sql \n",
        "SELECT DISTINCT status\n",
        "FROM LOAN\n",
        "ORDER BY status"
      ]
    },
    {
      "cell_type": "code",
      "source": [
        "%%sql\n",
        "SELECT COUNT(DISTINCT status)\n",
        "FROM LOAN"
      ],
      "metadata": {
        "colab": {
          "base_uri": "https://localhost:8080/",
          "height": 96
        },
        "id": "m4bSsLbzokXJ",
        "outputId": "f405fb74-3e15-41a1-9164-580949277124"
      },
      "execution_count": null,
      "outputs": [
        {
          "output_type": "stream",
          "name": "stdout",
          "text": [
            " * sqlite:///data_berka.db\n",
            "Done.\n"
          ]
        },
        {
          "output_type": "execute_result",
          "data": {
            "text/plain": [
              "[(4,)]"
            ],
            "text/html": [
              "<table>\n",
              "    <thead>\n",
              "        <tr>\n",
              "            <th>COUNT(DISTINCT status)</th>\n",
              "        </tr>\n",
              "    </thead>\n",
              "    <tbody>\n",
              "        <tr>\n",
              "            <td>4</td>\n",
              "        </tr>\n",
              "    </tbody>\n",
              "</table>"
            ]
          },
          "metadata": {},
          "execution_count": 5
        }
      ]
    },
    {
      "cell_type": "markdown",
      "source": [
        "DISTINCT"
      ],
      "metadata": {
        "id": "qrpPTPRVpyMD"
      }
    },
    {
      "cell_type": "code",
      "source": [
        "%%sql\n",
        "SELECT DISTINCT A2\n",
        "FROM DISTRICT\n",
        "ORDER BY A2 DESC\n"
      ],
      "metadata": {
        "colab": {
          "base_uri": "https://localhost:8080/"
        },
        "id": "xPOUjHIypz7_",
        "outputId": "a43d2215-a5cd-47d6-b7d5-5f939acfef66"
      },
      "execution_count": null,
      "outputs": [
        {
          "output_type": "stream",
          "name": "stdout",
          "text": [
            " * sqlite:///data_berka.db\n",
            "(sqlite3.OperationalError) near \"20\": syntax error\n",
            "[SQL: SELECT TOP 20 \n",
            "FROM LOAN]\n",
            "(Background on this error at: https://sqlalche.me/e/14/e3q8)\n"
          ]
        }
      ]
    },
    {
      "cell_type": "code",
      "source": [
        "%%sql\n",
        "SELECT COUNT(DISTINCT A2)\n",
        "FROM DISTRICT"
      ],
      "metadata": {
        "colab": {
          "base_uri": "https://localhost:8080/",
          "height": 96
        },
        "id": "VUhq1jGoqSDq",
        "outputId": "ddad969f-d84a-4428-e074-0c875d553380"
      },
      "execution_count": null,
      "outputs": [
        {
          "output_type": "stream",
          "name": "stdout",
          "text": [
            " * sqlite:///data_berka.db\n",
            "Done.\n"
          ]
        },
        {
          "output_type": "execute_result",
          "data": {
            "text/plain": [
              "[(77,)]"
            ],
            "text/html": [
              "<table>\n",
              "    <thead>\n",
              "        <tr>\n",
              "            <th>COUNT(DISTINCT A2)</th>\n",
              "        </tr>\n",
              "    </thead>\n",
              "    <tbody>\n",
              "        <tr>\n",
              "            <td>77</td>\n",
              "        </tr>\n",
              "    </tbody>\n",
              "</table>"
            ]
          },
          "metadata": {},
          "execution_count": 13
        }
      ]
    },
    {
      "cell_type": "markdown",
      "metadata": {
        "id": "1qOqD78PNepq"
      },
      "source": [
        "4. Obtener solo los prestamos ya terminados."
      ]
    },
    {
      "cell_type": "markdown",
      "metadata": {
        "id": "CKLnJGIlbyDG"
      },
      "source": [
        "WHERE permite filtrar\n",
        "A y B están finalizados"
      ]
    },
    {
      "cell_type": "code",
      "execution_count": null,
      "metadata": {
        "id": "1pnraRozNoBP"
      },
      "outputs": [],
      "source": [
        "%%sql\n",
        "SELECT *\n",
        "FROM LOAN\n",
        "WHERE status IN (\"A\", \"B\")\n",
        "LIMIT 100 "
      ]
    },
    {
      "cell_type": "markdown",
      "metadata": {
        "id": "GGL-r9zDNoTm"
      },
      "source": [
        "5. Ordenar lo anterior por duración y cantidad\n",
        "\n",
        "extra: limitar a 20 elementos"
      ]
    },
    {
      "cell_type": "code",
      "execution_count": null,
      "metadata": {
        "id": "ftuHFaHuN5R1",
        "colab": {
          "base_uri": "https://localhost:8080/",
          "height": 502
        },
        "outputId": "a332f53d-a7d1-47e3-d0c9-b991de988311"
      },
      "outputs": [
        {
          "output_type": "stream",
          "name": "stdout",
          "text": [
            " * sqlite:///data_berka.db\n",
            "Done.\n"
          ]
        },
        {
          "output_type": "execute_result",
          "data": {
            "text/plain": [
              "[(6934, 9494, 970209, 116832, 12, 9736, 'A'),\n",
              " (5002, 173, 940531, 104808, 12, 8734, 'A'),\n",
              " (4986, 97, 970810, 102876, 12, 8573, 'A'),\n",
              " (5375, 2106, 961003, 101520, 12, 8460, 'A'),\n",
              " (7253, 11079, 970426, 98304, 12, 8192, 'A'),\n",
              " (6998, 9833, 940521, 97632, 12, 8136, 'A'),\n",
              " (6612, 7907, 970831, 97392, 12, 8116, 'A'),\n",
              " (5314, 1787, 930705, 96396, 12, 8033, 'B'),\n",
              " (6995, 9814, 960926, 96168, 12, 8014, 'A'),\n",
              " (5464, 2419, 950130, 95808, 12, 7984, 'A'),\n",
              " (5643, 3273, 970921, 94512, 12, 7876, 'B'),\n",
              " (5377, 2116, 970804, 92400, 12, 7700, 'A'),\n",
              " (5519, 2694, 940308, 91632, 12, 7636, 'A'),\n",
              " (7046, 10049, 970328, 91632, 12, 7636, 'A'),\n",
              " (5868, 4361, 970329, 90156, 12, 7513, 'A'),\n",
              " (7277, 11231, 971024, 89280, 12, 7440, 'A'),\n",
              " (4996, 132, 961106, 88440, 12, 7370, 'A'),\n",
              " (5882, 4427, 940926, 87816, 12, 7318, 'A'),\n",
              " (7119, 10361, 970602, 86880, 12, 7240, 'A'),\n",
              " (6876, 9236, 931221, 86616, 12, 7218, 'A')]"
            ],
            "text/html": [
              "<table>\n",
              "    <thead>\n",
              "        <tr>\n",
              "            <th>loan_id</th>\n",
              "            <th>account_id</th>\n",
              "            <th>date</th>\n",
              "            <th>amount</th>\n",
              "            <th>duration</th>\n",
              "            <th>payments</th>\n",
              "            <th>status</th>\n",
              "        </tr>\n",
              "    </thead>\n",
              "    <tbody>\n",
              "        <tr>\n",
              "            <td>6934</td>\n",
              "            <td>9494</td>\n",
              "            <td>970209</td>\n",
              "            <td>116832</td>\n",
              "            <td>12</td>\n",
              "            <td>9736</td>\n",
              "            <td>A</td>\n",
              "        </tr>\n",
              "        <tr>\n",
              "            <td>5002</td>\n",
              "            <td>173</td>\n",
              "            <td>940531</td>\n",
              "            <td>104808</td>\n",
              "            <td>12</td>\n",
              "            <td>8734</td>\n",
              "            <td>A</td>\n",
              "        </tr>\n",
              "        <tr>\n",
              "            <td>4986</td>\n",
              "            <td>97</td>\n",
              "            <td>970810</td>\n",
              "            <td>102876</td>\n",
              "            <td>12</td>\n",
              "            <td>8573</td>\n",
              "            <td>A</td>\n",
              "        </tr>\n",
              "        <tr>\n",
              "            <td>5375</td>\n",
              "            <td>2106</td>\n",
              "            <td>961003</td>\n",
              "            <td>101520</td>\n",
              "            <td>12</td>\n",
              "            <td>8460</td>\n",
              "            <td>A</td>\n",
              "        </tr>\n",
              "        <tr>\n",
              "            <td>7253</td>\n",
              "            <td>11079</td>\n",
              "            <td>970426</td>\n",
              "            <td>98304</td>\n",
              "            <td>12</td>\n",
              "            <td>8192</td>\n",
              "            <td>A</td>\n",
              "        </tr>\n",
              "        <tr>\n",
              "            <td>6998</td>\n",
              "            <td>9833</td>\n",
              "            <td>940521</td>\n",
              "            <td>97632</td>\n",
              "            <td>12</td>\n",
              "            <td>8136</td>\n",
              "            <td>A</td>\n",
              "        </tr>\n",
              "        <tr>\n",
              "            <td>6612</td>\n",
              "            <td>7907</td>\n",
              "            <td>970831</td>\n",
              "            <td>97392</td>\n",
              "            <td>12</td>\n",
              "            <td>8116</td>\n",
              "            <td>A</td>\n",
              "        </tr>\n",
              "        <tr>\n",
              "            <td>5314</td>\n",
              "            <td>1787</td>\n",
              "            <td>930705</td>\n",
              "            <td>96396</td>\n",
              "            <td>12</td>\n",
              "            <td>8033</td>\n",
              "            <td>B</td>\n",
              "        </tr>\n",
              "        <tr>\n",
              "            <td>6995</td>\n",
              "            <td>9814</td>\n",
              "            <td>960926</td>\n",
              "            <td>96168</td>\n",
              "            <td>12</td>\n",
              "            <td>8014</td>\n",
              "            <td>A</td>\n",
              "        </tr>\n",
              "        <tr>\n",
              "            <td>5464</td>\n",
              "            <td>2419</td>\n",
              "            <td>950130</td>\n",
              "            <td>95808</td>\n",
              "            <td>12</td>\n",
              "            <td>7984</td>\n",
              "            <td>A</td>\n",
              "        </tr>\n",
              "        <tr>\n",
              "            <td>5643</td>\n",
              "            <td>3273</td>\n",
              "            <td>970921</td>\n",
              "            <td>94512</td>\n",
              "            <td>12</td>\n",
              "            <td>7876</td>\n",
              "            <td>B</td>\n",
              "        </tr>\n",
              "        <tr>\n",
              "            <td>5377</td>\n",
              "            <td>2116</td>\n",
              "            <td>970804</td>\n",
              "            <td>92400</td>\n",
              "            <td>12</td>\n",
              "            <td>7700</td>\n",
              "            <td>A</td>\n",
              "        </tr>\n",
              "        <tr>\n",
              "            <td>5519</td>\n",
              "            <td>2694</td>\n",
              "            <td>940308</td>\n",
              "            <td>91632</td>\n",
              "            <td>12</td>\n",
              "            <td>7636</td>\n",
              "            <td>A</td>\n",
              "        </tr>\n",
              "        <tr>\n",
              "            <td>7046</td>\n",
              "            <td>10049</td>\n",
              "            <td>970328</td>\n",
              "            <td>91632</td>\n",
              "            <td>12</td>\n",
              "            <td>7636</td>\n",
              "            <td>A</td>\n",
              "        </tr>\n",
              "        <tr>\n",
              "            <td>5868</td>\n",
              "            <td>4361</td>\n",
              "            <td>970329</td>\n",
              "            <td>90156</td>\n",
              "            <td>12</td>\n",
              "            <td>7513</td>\n",
              "            <td>A</td>\n",
              "        </tr>\n",
              "        <tr>\n",
              "            <td>7277</td>\n",
              "            <td>11231</td>\n",
              "            <td>971024</td>\n",
              "            <td>89280</td>\n",
              "            <td>12</td>\n",
              "            <td>7440</td>\n",
              "            <td>A</td>\n",
              "        </tr>\n",
              "        <tr>\n",
              "            <td>4996</td>\n",
              "            <td>132</td>\n",
              "            <td>961106</td>\n",
              "            <td>88440</td>\n",
              "            <td>12</td>\n",
              "            <td>7370</td>\n",
              "            <td>A</td>\n",
              "        </tr>\n",
              "        <tr>\n",
              "            <td>5882</td>\n",
              "            <td>4427</td>\n",
              "            <td>940926</td>\n",
              "            <td>87816</td>\n",
              "            <td>12</td>\n",
              "            <td>7318</td>\n",
              "            <td>A</td>\n",
              "        </tr>\n",
              "        <tr>\n",
              "            <td>7119</td>\n",
              "            <td>10361</td>\n",
              "            <td>970602</td>\n",
              "            <td>86880</td>\n",
              "            <td>12</td>\n",
              "            <td>7240</td>\n",
              "            <td>A</td>\n",
              "        </tr>\n",
              "        <tr>\n",
              "            <td>6876</td>\n",
              "            <td>9236</td>\n",
              "            <td>931221</td>\n",
              "            <td>86616</td>\n",
              "            <td>12</td>\n",
              "            <td>7218</td>\n",
              "            <td>A</td>\n",
              "        </tr>\n",
              "    </tbody>\n",
              "</table>"
            ]
          },
          "metadata": {},
          "execution_count": 17
        }
      ],
      "source": [
        "%%sql\n",
        "SELECT *\n",
        "FROM LOAN\n",
        "WHERE status IN (\"A\", \"B\")\n",
        "ORDER BY duration, amount DESC \n",
        "LIMIT 20"
      ]
    },
    {
      "cell_type": "markdown",
      "metadata": {
        "id": "pWkycm62crQd"
      },
      "source": [
        "Cargar el resultado de la sql en un DataFrame de Pandas"
      ]
    },
    {
      "cell_type": "code",
      "execution_count": null,
      "metadata": {
        "colab": {
          "base_uri": "https://localhost:8080/"
        },
        "id": "TS-gQ9tlcnh6",
        "outputId": "0b499d0c-b502-4f57-efb0-a161a30c8844"
      },
      "outputs": [
        {
          "name": "stdout",
          "output_type": "stream",
          "text": [
            " * sqlite:///data_berka.db\n",
            "Done.\n"
          ]
        }
      ],
      "source": [
        "# importar librería\n",
        "import pandas as pd\n",
        "# ejecutar sql\n",
        "df = %sql SELECT * FROM LOAN WHERE status in (\"A\", \"B\") ORDER BY duration, amount DESC\n",
        "# transformar en DataFrame de pandas\n",
        "df.DataFrame()\n",
        "# Descargarlo en un archivo .csv\n",
        "df.DataFrame().to_csv(\"first_sql.csv\")"
      ]
    },
    {
      "cell_type": "markdown",
      "metadata": {
        "id": "rq7eabjjODyy"
      },
      "source": [
        "Ex. 1\n",
        "\n",
        ">Plantear otro filtro para los préstamos (por cantidad, duración, status, etc.)\n"
      ]
    },
    {
      "cell_type": "code",
      "execution_count": null,
      "metadata": {
        "id": "HWesr-crQR1U"
      },
      "outputs": [],
      "source": [
        "%%sql\n",
        "SELECT *\n",
        "FROM LOAN\n",
        "WHERE duration = 12\n",
        "LIMIT 20 \n"
      ]
    },
    {
      "cell_type": "markdown",
      "source": [
        "OR equivalente a un o  \n",
        "Una condición u otra"
      ],
      "metadata": {
        "id": "0_O8nEU5p_ub"
      }
    },
    {
      "cell_type": "code",
      "source": [
        "%%sql\n",
        "SELECT *\n",
        "FROM LOAN\n",
        "WHERE amount > 80000 OR duration > 24 OR status = \"C\"\n",
        "ORDER BY amount DESC\n",
        "LIMIT 20"
      ],
      "metadata": {
        "id": "Qh2znWrIlYjn"
      },
      "execution_count": null,
      "outputs": []
    },
    {
      "cell_type": "markdown",
      "source": [
        "AND equivalente a un Y  \n",
        "Ambas condiciones"
      ],
      "metadata": {
        "id": "ejL6xGf3qHqD"
      }
    },
    {
      "cell_type": "code",
      "source": [
        "%%sql\n",
        "SELECT *\n",
        "FROM LOAN\n",
        "WHERE amount BETWEEN 100000 AND 110000\n",
        "ORDER BY account_id, amount\n",
        "LIMIT 20"
      ],
      "metadata": {
        "id": "OOWaF1mYmelu"
      },
      "execution_count": null,
      "outputs": []
    },
    {
      "cell_type": "markdown",
      "source": [
        "Para buscar filas que están en una lista de valores  \n",
        "in (' ', ' ')"
      ],
      "metadata": {
        "id": "q4p0sukBqQDG"
      }
    },
    {
      "cell_type": "code",
      "source": [
        "%%sql\n",
        "SELECT *\n",
        "FROM LOAN\n",
        "WHERE amount < 9000 AND status IN ('A', 'C') \n",
        "ORDER BY duration\n",
        "LIMIT 20"
      ],
      "metadata": {
        "id": "9VdqqKBJnIcs"
      },
      "execution_count": null,
      "outputs": []
    },
    {
      "cell_type": "markdown",
      "source": [
        "LIKE '%cadena%'  \n",
        "Permite filtrar por cadenas de caracteres o numéricas"
      ],
      "metadata": {
        "id": "fcKGl8lIpRbg"
      }
    },
    {
      "cell_type": "code",
      "source": [
        "%%sql\n",
        "SELECT *\n",
        "FROM LOAN\n",
        "WHERE amount > 9000 AND account_id LIKE '%952%'\n",
        "ORDER BY duration\n",
        "LIMIT 20"
      ],
      "metadata": {
        "colab": {
          "base_uri": "https://localhost:8080/",
          "height": 96
        },
        "id": "sMGk39PopGVu",
        "outputId": "d9b99814-a336-440d-d791-fb2f7a07b1e8"
      },
      "execution_count": null,
      "outputs": [
        {
          "output_type": "stream",
          "name": "stdout",
          "text": [
            " * sqlite:///data_berka.db\n",
            "Done.\n"
          ]
        },
        {
          "output_type": "execute_result",
          "data": {
            "text/plain": [
              "[(6216, 5952, 940930, 141240, 24, 5885, 'A')]"
            ],
            "text/html": [
              "<table>\n",
              "    <thead>\n",
              "        <tr>\n",
              "            <th>loan_id</th>\n",
              "            <th>account_id</th>\n",
              "            <th>date</th>\n",
              "            <th>amount</th>\n",
              "            <th>duration</th>\n",
              "            <th>payments</th>\n",
              "            <th>status</th>\n",
              "        </tr>\n",
              "    </thead>\n",
              "    <tbody>\n",
              "        <tr>\n",
              "            <td>6216</td>\n",
              "            <td>5952</td>\n",
              "            <td>940930</td>\n",
              "            <td>141240</td>\n",
              "            <td>24</td>\n",
              "            <td>5885</td>\n",
              "            <td>A</td>\n",
              "        </tr>\n",
              "    </tbody>\n",
              "</table>"
            ]
          },
          "metadata": {},
          "execution_count": 37
        }
      ]
    },
    {
      "cell_type": "markdown",
      "source": [
        "FILTRAR POR PARTE DE CADENA \n",
        "Filtrar en tabla DISTRICT"
      ],
      "metadata": {
        "id": "Zwaa_e02oNDu"
      }
    },
    {
      "cell_type": "code",
      "source": [
        "%%sql\n",
        "SELECT *\n",
        "FROM DISTRICT\n",
        "WHERE A3 LIKE '%Pr%'\n",
        "LIMIT 20"
      ],
      "metadata": {
        "colab": {
          "base_uri": "https://localhost:8080/",
          "height": 96
        },
        "id": "fcDbKXXFoT6r",
        "outputId": "f8a44405-8e59-4910-83f4-610d35a1c597"
      },
      "execution_count": null,
      "outputs": [
        {
          "output_type": "stream",
          "name": "stdout",
          "text": [
            " * sqlite:///data_berka.db\n",
            "Done.\n"
          ]
        },
        {
          "output_type": "execute_result",
          "data": {
            "text/plain": [
              "[(1, 'Hl.m. Praha', 'Prague', 1204953, 0, 0, 0, 1, 1, 100.0, 12541, 0.29, 0.43, 167, 85677, 99107)]"
            ],
            "text/html": [
              "<table>\n",
              "    <thead>\n",
              "        <tr>\n",
              "            <th>A1</th>\n",
              "            <th>A2</th>\n",
              "            <th>A3</th>\n",
              "            <th>A4</th>\n",
              "            <th>A5</th>\n",
              "            <th>A6</th>\n",
              "            <th>A7</th>\n",
              "            <th>A8</th>\n",
              "            <th>A9</th>\n",
              "            <th>A10</th>\n",
              "            <th>A11</th>\n",
              "            <th>A12</th>\n",
              "            <th>A13</th>\n",
              "            <th>A14</th>\n",
              "            <th>A15</th>\n",
              "            <th>A16</th>\n",
              "        </tr>\n",
              "    </thead>\n",
              "    <tbody>\n",
              "        <tr>\n",
              "            <td>1</td>\n",
              "            <td>Hl.m. Praha</td>\n",
              "            <td>Prague</td>\n",
              "            <td>1204953</td>\n",
              "            <td>0</td>\n",
              "            <td>0</td>\n",
              "            <td>0</td>\n",
              "            <td>1</td>\n",
              "            <td>1</td>\n",
              "            <td>100.0</td>\n",
              "            <td>12541</td>\n",
              "            <td>0.29</td>\n",
              "            <td>0.43</td>\n",
              "            <td>167</td>\n",
              "            <td>85677</td>\n",
              "            <td>99107</td>\n",
              "        </tr>\n",
              "    </tbody>\n",
              "</table>"
            ]
          },
          "metadata": {},
          "execution_count": 36
        }
      ]
    },
    {
      "cell_type": "markdown",
      "source": [
        "The SQL MIN() and MAX() Functions\n",
        "\n",
        "* The MIN() function returns the smallest value of the selected column.\n",
        "\n",
        "* The MAX() function returns the largest value of the selected column."
      ],
      "metadata": {
        "id": "IY3yK6ikrvYi"
      }
    },
    {
      "cell_type": "code",
      "source": [
        "%%sql\n",
        "SELECT MIN(amount) AS mincredit, MAX(amount) as maxcredit\n",
        "FROM LOAN\n"
      ],
      "metadata": {
        "colab": {
          "base_uri": "https://localhost:8080/",
          "height": 96
        },
        "id": "pNRMSo-Br1Lb",
        "outputId": "0ae7a6b4-42d9-4d7f-8faf-485e62522b43"
      },
      "execution_count": null,
      "outputs": [
        {
          "output_type": "stream",
          "name": "stdout",
          "text": [
            " * sqlite:///data_berka.db\n",
            "Done.\n"
          ]
        },
        {
          "output_type": "execute_result",
          "data": {
            "text/plain": [
              "[(4980, 590820)]"
            ],
            "text/html": [
              "<table>\n",
              "    <thead>\n",
              "        <tr>\n",
              "            <th>mincredit</th>\n",
              "            <th>maxcredit</th>\n",
              "        </tr>\n",
              "    </thead>\n",
              "    <tbody>\n",
              "        <tr>\n",
              "            <td>4980</td>\n",
              "            <td>590820</td>\n",
              "        </tr>\n",
              "    </tbody>\n",
              "</table>"
            ]
          },
          "metadata": {},
          "execution_count": 30
        }
      ]
    },
    {
      "cell_type": "markdown",
      "metadata": {
        "id": "2wEsj5e02itn"
      },
      "source": [
        " Ex. 2 \n",
        "\n",
        "> Seleccionar fecha, cantidad, duración y pagos de aquellos préstamos que han sido terminados con una duración mayor de 12 meses ordenados de mayor a menor cantidad de dinero.\n",
        "\n",
        ">extra: volcar en un DataFrame"
      ]
    },
    {
      "cell_type": "code",
      "execution_count": null,
      "metadata": {
        "id": "umWLpyefQI98"
      },
      "outputs": [],
      "source": [
        "%%sql\n",
        "SELECT date, amount, duration, payments\n",
        "FROM LOAN\n",
        "WHERE status in (\"A\", \"B\") AND duration > 12\n",
        "ORDER BY amount DESC\n"
      ]
    },
    {
      "cell_type": "markdown",
      "metadata": {
        "id": "XiB5PHq9fXGm"
      },
      "source": [
        "¿Cuántos registros cumplen esa condición tiene?"
      ]
    },
    {
      "cell_type": "markdown",
      "source": [
        "count(*) permite contar las filas (registros, observaciones) "
      ],
      "metadata": {
        "id": "cqul0kf6phXg"
      }
    },
    {
      "cell_type": "code",
      "execution_count": null,
      "metadata": {
        "colab": {
          "base_uri": "https://localhost:8080/",
          "height": 96
        },
        "id": "3-w9Qth5faIH",
        "outputId": "8135f9d2-ee0e-4eac-e307-4ffd92b37cb4"
      },
      "outputs": [
        {
          "name": "stdout",
          "output_type": "stream",
          "text": [
            " * sqlite:///data_berka.db\n",
            "Done.\n"
          ]
        },
        {
          "data": {
            "text/html": [
              "<table>\n",
              "    <thead>\n",
              "        <tr>\n",
              "            <th>count(*)</th>\n",
              "        </tr>\n",
              "    </thead>\n",
              "    <tbody>\n",
              "        <tr>\n",
              "            <td>131</td>\n",
              "        </tr>\n",
              "    </tbody>\n",
              "</table>"
            ],
            "text/plain": [
              "[(131,)]"
            ]
          },
          "execution_count": 21,
          "metadata": {},
          "output_type": "execute_result"
        }
      ],
      "source": [
        "%%sql\n",
        "SELECT count(*)\n",
        "FROM LOAN\n",
        "WHERE status IN (\"A\", \"B\") AND duration > 12"
      ]
    },
    {
      "cell_type": "markdown",
      "metadata": {
        "id": "uNGgi9HZflEB"
      },
      "source": [
        "¿Cuántos préstamos hay en ejecución (running) con duración entre 24 y 48 meses? (ambos inclusive)"
      ]
    },
    {
      "cell_type": "markdown",
      "metadata": {
        "id": "6QwqFsdNgnoo"
      },
      "source": [
        "BETWEEN coge los extremos de los intervalos"
      ]
    },
    {
      "cell_type": "code",
      "execution_count": null,
      "metadata": {
        "colab": {
          "base_uri": "https://localhost:8080/",
          "height": 96
        },
        "id": "DUsOn1LHf3SP",
        "outputId": "c3cff288-3173-4f04-ec37-238cd821b041"
      },
      "outputs": [
        {
          "name": "stdout",
          "output_type": "stream",
          "text": [
            " * sqlite:///data_berka.db\n",
            "Done.\n"
          ]
        },
        {
          "data": {
            "text/html": [
              "<table>\n",
              "    <thead>\n",
              "        <tr>\n",
              "            <th>count(*)</th>\n",
              "        </tr>\n",
              "    </thead>\n",
              "    <tbody>\n",
              "        <tr>\n",
              "            <td>279</td>\n",
              "        </tr>\n",
              "    </tbody>\n",
              "</table>"
            ],
            "text/plain": [
              "[(279,)]"
            ]
          },
          "execution_count": 28,
          "metadata": {},
          "output_type": "execute_result"
        }
      ],
      "source": [
        "%%sql\n",
        "SELECT count(*)\n",
        "FROM LOAN\n",
        "WHERE status IN (\"C\", \"D\") AND duration BETWEEN 24 AND 48\n"
      ]
    },
    {
      "cell_type": "code",
      "execution_count": null,
      "metadata": {
        "colab": {
          "base_uri": "https://localhost:8080/",
          "height": 96
        },
        "id": "nC4S1eyhhI-_",
        "outputId": "5cc4eb87-2d20-4376-edfa-dfab496e131f"
      },
      "outputs": [
        {
          "name": "stdout",
          "output_type": "stream",
          "text": [
            " * sqlite:///data_berka.db\n",
            "Done.\n"
          ]
        },
        {
          "data": {
            "text/html": [
              "<table>\n",
              "    <thead>\n",
              "        <tr>\n",
              "            <th>count(*)</th>\n",
              "        </tr>\n",
              "    </thead>\n",
              "    <tbody>\n",
              "        <tr>\n",
              "            <td>279</td>\n",
              "        </tr>\n",
              "    </tbody>\n",
              "</table>"
            ],
            "text/plain": [
              "[(279,)]"
            ]
          },
          "execution_count": 40,
          "metadata": {},
          "output_type": "execute_result"
        }
      ],
      "source": [
        "%%sql\n",
        "SELECT count(*)\n",
        "FROM LOAN\n",
        "WHERE status IN (\"C\", \"D\") AND duration >= 24 AND duration <= 48"
      ]
    },
    {
      "cell_type": "markdown",
      "metadata": {
        "id": "ZWsgkSMwOJVf"
      },
      "source": [
        "## Group By"
      ]
    },
    {
      "cell_type": "markdown",
      "metadata": {
        "id": "S0jOtvnnOj5z"
      },
      "source": [
        "7. ¿Cuántos préstamos hay por cada estado y cual es la media de la cantidad de dinero prestado?"
      ]
    },
    {
      "cell_type": "markdown",
      "metadata": {
        "id": "4eydFw3Kh3Yq"
      },
      "source": [
        "En SELECT se ha de poner por donde se va a agrupar. Debe existir una coherencia entre el select y el group by \n",
        "\n",
        "sql permite que el nombre que se ponga se asigne a la columna. También es posible ponerlo con as  \n",
        "\n",
        "HAVING se utiliza sobre los grupos obtenidos tras la propia consulta (group by)"
      ]
    },
    {
      "cell_type": "markdown",
      "metadata": {
        "id": "R2OqCs7Bjlez"
      },
      "source": [
        "- WHERE: se filtran los registros antes de agruparlos  \n",
        "- HAVING: se filtran los grupos tras haberlos obtenido"
      ]
    },
    {
      "cell_type": "markdown",
      "source": [
        "Having: Especifica una condición de búsqueda para un grupo o agregado. HAVING solo se puede utilizar con la instrucción SELECT. Normalmente, HAVING se usa con una cláusula GROUP BY. Cuando no se usa GROUP BY, hay un solo grupo implícito agregado."
      ],
      "metadata": {
        "id": "H5Cy6AJ1pR4c"
      }
    },
    {
      "cell_type": "markdown",
      "source": [
        "avg(variable) para realizar la media aritmética"
      ],
      "metadata": {
        "id": "3YvMaRErpuzu"
      }
    },
    {
      "cell_type": "markdown",
      "source": [
        "\n",
        "\n",
        "*   The COUNT() function returns the number of rows that matches a specified criterion.\n",
        "*   The AVG() function returns the average value of a numeric column. \n",
        "*   The SUM() function returns the total sum of a numeric column.\n",
        "\n",
        "\n",
        "\n"
      ],
      "metadata": {
        "id": "6nSORbpsoAxt"
      }
    },
    {
      "cell_type": "code",
      "execution_count": null,
      "metadata": {
        "colab": {
          "base_uri": "https://localhost:8080/",
          "height": 139
        },
        "id": "2QIH9ReV61CK",
        "outputId": "835394e5-709a-4ce8-fd71-430f2af48b87"
      },
      "outputs": [
        {
          "output_type": "stream",
          "name": "stdout",
          "text": [
            " * sqlite:///data_berka.db\n",
            "Done.\n"
          ]
        },
        {
          "output_type": "execute_result",
          "data": {
            "text/plain": [
              "[('C', 376, 180343.1489361702),\n",
              " ('A', 110, 122425.2),\n",
              " ('D', 44, 254127.27272727274)]"
            ],
            "text/html": [
              "<table>\n",
              "    <thead>\n",
              "        <tr>\n",
              "            <th>status</th>\n",
              "            <th>total</th>\n",
              "            <th>avg(amount)</th>\n",
              "        </tr>\n",
              "    </thead>\n",
              "    <tbody>\n",
              "        <tr>\n",
              "            <td>C</td>\n",
              "            <td>376</td>\n",
              "            <td>180343.1489361702</td>\n",
              "        </tr>\n",
              "        <tr>\n",
              "            <td>A</td>\n",
              "            <td>110</td>\n",
              "            <td>122425.2</td>\n",
              "        </tr>\n",
              "        <tr>\n",
              "            <td>D</td>\n",
              "            <td>44</td>\n",
              "            <td>254127.27272727274</td>\n",
              "        </tr>\n",
              "    </tbody>\n",
              "</table>"
            ]
          },
          "metadata": {},
          "execution_count": 38
        }
      ],
      "source": [
        "%%sql\n",
        "SELECT status, count(*) as total, avg(amount)\n",
        "FROM LOAN\n",
        "WHERE duration >= 24\n",
        "GROUP BY status\n",
        "HAVING total > 25\n",
        "ORDER BY total DESC"
      ]
    },
    {
      "cell_type": "markdown",
      "metadata": {
        "id": "eDvofbeROKvn"
      },
      "source": [
        "8. Por cada Región, quiero contar el número de ciudades y obtener el total del número de habitantes de la región\n",
        "\n",
        "extra: no considerar la región de Praga"
      ]
    },
    {
      "cell_type": "markdown",
      "metadata": {
        "id": "PRR2pKC7eaJ4"
      },
      "source": [
        "- COUNT() para contar cuantas filas cointienen un valor no nulo de una variable (columna) específica.\n",
        "- SUM() cuando se desea saber la suma total de los valores de una columna  "
      ]
    },
    {
      "cell_type": "code",
      "execution_count": null,
      "metadata": {
        "id": "V0mDm3aO-ply",
        "colab": {
          "base_uri": "https://localhost:8080/",
          "height": 225
        },
        "outputId": "a921ce8c-c46b-4016-b09b-740b9680f43d"
      },
      "outputs": [
        {
          "output_type": "stream",
          "name": "stdout",
          "text": [
            " * sqlite:///data_berka.db\n",
            "Done.\n"
          ]
        },
        {
          "output_type": "execute_result",
          "data": {
            "text/plain": [
              "[('central Bohemia', 12, 12, 1105234),\n",
              " ('east Bohemia', 11, 11, 1234781),\n",
              " ('north Bohemia', 10, 10, 1178977),\n",
              " ('north Moravia', 11, 11, 1970302),\n",
              " ('south Bohemia', 8, 8, 700595),\n",
              " ('south Moravia', 14, 14, 2054989),\n",
              " ('west Bohemia', 10, 10, 859306)]"
            ],
            "text/html": [
              "<table>\n",
              "    <thead>\n",
              "        <tr>\n",
              "            <th>A3</th>\n",
              "            <th>no_districts</th>\n",
              "            <th>no_cities</th>\n",
              "            <th>total_hab</th>\n",
              "        </tr>\n",
              "    </thead>\n",
              "    <tbody>\n",
              "        <tr>\n",
              "            <td>central Bohemia</td>\n",
              "            <td>12</td>\n",
              "            <td>12</td>\n",
              "            <td>1105234</td>\n",
              "        </tr>\n",
              "        <tr>\n",
              "            <td>east Bohemia</td>\n",
              "            <td>11</td>\n",
              "            <td>11</td>\n",
              "            <td>1234781</td>\n",
              "        </tr>\n",
              "        <tr>\n",
              "            <td>north Bohemia</td>\n",
              "            <td>10</td>\n",
              "            <td>10</td>\n",
              "            <td>1178977</td>\n",
              "        </tr>\n",
              "        <tr>\n",
              "            <td>north Moravia</td>\n",
              "            <td>11</td>\n",
              "            <td>11</td>\n",
              "            <td>1970302</td>\n",
              "        </tr>\n",
              "        <tr>\n",
              "            <td>south Bohemia</td>\n",
              "            <td>8</td>\n",
              "            <td>8</td>\n",
              "            <td>700595</td>\n",
              "        </tr>\n",
              "        <tr>\n",
              "            <td>south Moravia</td>\n",
              "            <td>14</td>\n",
              "            <td>14</td>\n",
              "            <td>2054989</td>\n",
              "        </tr>\n",
              "        <tr>\n",
              "            <td>west Bohemia</td>\n",
              "            <td>10</td>\n",
              "            <td>10</td>\n",
              "            <td>859306</td>\n",
              "        </tr>\n",
              "    </tbody>\n",
              "</table>"
            ]
          },
          "metadata": {},
          "execution_count": 5
        }
      ],
      "source": [
        "%%sql\n",
        "SELECT A3, count(A2) AS no_districts, count(A9) AS no_cities, sum(A4) AS total_hab\n",
        "FROM DISTRICT\n",
        "GROUP BY A3\n",
        "HAVING no_districts > 1"
      ]
    },
    {
      "cell_type": "code",
      "execution_count": null,
      "metadata": {
        "id": "sjb__b7bmYx7",
        "colab": {
          "base_uri": "https://localhost:8080/",
          "height": 225
        },
        "outputId": "29ef92ef-151d-4a92-93fa-3be536ec1108"
      },
      "outputs": [
        {
          "output_type": "stream",
          "name": "stdout",
          "text": [
            " * sqlite:///data_berka.db\n",
            "Done.\n"
          ]
        },
        {
          "output_type": "execute_result",
          "data": {
            "text/plain": [
              "[('central Bohemia', 12, 12, 1105234),\n",
              " ('east Bohemia', 11, 11, 1234781),\n",
              " ('north Bohemia', 10, 10, 1178977),\n",
              " ('north Moravia', 11, 11, 1970302),\n",
              " ('south Bohemia', 8, 8, 700595),\n",
              " ('south Moravia', 14, 14, 2054989),\n",
              " ('west Bohemia', 10, 10, 859306)]"
            ],
            "text/html": [
              "<table>\n",
              "    <thead>\n",
              "        <tr>\n",
              "            <th>A3</th>\n",
              "            <th>no_districts</th>\n",
              "            <th>no_cities</th>\n",
              "            <th>total_hab</th>\n",
              "        </tr>\n",
              "    </thead>\n",
              "    <tbody>\n",
              "        <tr>\n",
              "            <td>central Bohemia</td>\n",
              "            <td>12</td>\n",
              "            <td>12</td>\n",
              "            <td>1105234</td>\n",
              "        </tr>\n",
              "        <tr>\n",
              "            <td>east Bohemia</td>\n",
              "            <td>11</td>\n",
              "            <td>11</td>\n",
              "            <td>1234781</td>\n",
              "        </tr>\n",
              "        <tr>\n",
              "            <td>north Bohemia</td>\n",
              "            <td>10</td>\n",
              "            <td>10</td>\n",
              "            <td>1178977</td>\n",
              "        </tr>\n",
              "        <tr>\n",
              "            <td>north Moravia</td>\n",
              "            <td>11</td>\n",
              "            <td>11</td>\n",
              "            <td>1970302</td>\n",
              "        </tr>\n",
              "        <tr>\n",
              "            <td>south Bohemia</td>\n",
              "            <td>8</td>\n",
              "            <td>8</td>\n",
              "            <td>700595</td>\n",
              "        </tr>\n",
              "        <tr>\n",
              "            <td>south Moravia</td>\n",
              "            <td>14</td>\n",
              "            <td>14</td>\n",
              "            <td>2054989</td>\n",
              "        </tr>\n",
              "        <tr>\n",
              "            <td>west Bohemia</td>\n",
              "            <td>10</td>\n",
              "            <td>10</td>\n",
              "            <td>859306</td>\n",
              "        </tr>\n",
              "    </tbody>\n",
              "</table>"
            ]
          },
          "metadata": {},
          "execution_count": 8
        }
      ],
      "source": [
        "%%sql\n",
        "SELECT A3, count(A2) AS no_districts, count(A9) AS no_cities, sum(A4) AS total_hab\n",
        "FROM DISTRICT\n",
        "WHERE NOT A3 = \"Prague\"\n",
        "GROUP BY A3\n"
      ]
    },
    {
      "cell_type": "markdown",
      "metadata": {
        "id": "4L4mxgoPOvnm"
      },
      "source": [
        "9. Contar ordenes permanentes (domiciliaciones) por banco y tipo de transacción"
      ]
    },
    {
      "cell_type": "code",
      "execution_count": null,
      "metadata": {
        "id": "j04p6m3T6-wP",
        "colab": {
          "base_uri": "https://localhost:8080/",
          "height": 1000
        },
        "outputId": "981e50e5-e5b3-46ff-eaf4-162649395987"
      },
      "outputs": [
        {
          "output_type": "stream",
          "name": "stdout",
          "text": [
            " * sqlite:///data_berka.db\n",
            "Done.\n"
          ]
        },
        {
          "output_type": "execute_result",
          "data": {
            "text/plain": [
              "[('AB', ' ', 20),\n",
              " ('AB', 'POJISTNE', 16),\n",
              " ('AB', 'SIPO', 17),\n",
              " ('CD', ' ', 34),\n",
              " ('CD', 'POJISTNE', 11),\n",
              " ('CD', 'SIPO', 18),\n",
              " ('EF', ' ', 23),\n",
              " ('EF', 'POJISTNE', 21),\n",
              " ('EF', 'SIPO', 10),\n",
              " ('EF', 'UVER', 1),\n",
              " ('GH', ' ', 31),\n",
              " ('GH', 'LEASING', 1),\n",
              " ('GH', 'POJISTNE', 17),\n",
              " ('GH', 'SIPO', 16),\n",
              " ('GH', 'UVER', 4),\n",
              " ('IJ', ' ', 35),\n",
              " ('IJ', 'POJISTNE', 19),\n",
              " ('IJ', 'SIPO', 15),\n",
              " ('KL', ' ', 31),\n",
              " ('KL', 'LEASING', 1),\n",
              " ('KL', 'POJISTNE', 15),\n",
              " ('KL', 'SIPO', 15),\n",
              " ('KL', 'UVER', 2),\n",
              " ('MN', ' ', 24),\n",
              " ('MN', 'LEASING', 1),\n",
              " ('MN', 'POJISTNE', 20),\n",
              " ('MN', 'SIPO', 9),\n",
              " ('MN', 'UVER', 1),\n",
              " ('OP', ' ', 28),\n",
              " ('OP', 'POJISTNE', 23),\n",
              " ('OP', 'SIPO', 11),\n",
              " ('QR', ' ', 19),\n",
              " ('QR', 'POJISTNE', 18),\n",
              " ('QR', 'SIPO', 20),\n",
              " ('QR', 'UVER', 1),\n",
              " ('ST', ' ', 32),\n",
              " ('ST', 'POJISTNE', 17),\n",
              " ('ST', 'SIPO', 16),\n",
              " ('ST', 'UVER', 2),\n",
              " ('UV', ' ', 30),\n",
              " ('UV', 'POJISTNE', 15),\n",
              " ('UV', 'SIPO', 11),\n",
              " ('UV', 'UVER', 1),\n",
              " ('WX', ' ', 24),\n",
              " ('WX', 'POJISTNE', 25),\n",
              " ('WX', 'SIPO', 15),\n",
              " ('YZ', ' ', 28),\n",
              " ('YZ', 'LEASING', 2),\n",
              " ('YZ', 'POJISTNE', 20),\n",
              " ('YZ', 'SIPO', 14),\n",
              " ('YZ', 'UVER', 1)]"
            ],
            "text/html": [
              "<table>\n",
              "    <thead>\n",
              "        <tr>\n",
              "            <th>bank_to</th>\n",
              "            <th>k_symbol</th>\n",
              "            <th>c</th>\n",
              "        </tr>\n",
              "    </thead>\n",
              "    <tbody>\n",
              "        <tr>\n",
              "            <td>AB</td>\n",
              "            <td> </td>\n",
              "            <td>20</td>\n",
              "        </tr>\n",
              "        <tr>\n",
              "            <td>AB</td>\n",
              "            <td>POJISTNE</td>\n",
              "            <td>16</td>\n",
              "        </tr>\n",
              "        <tr>\n",
              "            <td>AB</td>\n",
              "            <td>SIPO</td>\n",
              "            <td>17</td>\n",
              "        </tr>\n",
              "        <tr>\n",
              "            <td>CD</td>\n",
              "            <td> </td>\n",
              "            <td>34</td>\n",
              "        </tr>\n",
              "        <tr>\n",
              "            <td>CD</td>\n",
              "            <td>POJISTNE</td>\n",
              "            <td>11</td>\n",
              "        </tr>\n",
              "        <tr>\n",
              "            <td>CD</td>\n",
              "            <td>SIPO</td>\n",
              "            <td>18</td>\n",
              "        </tr>\n",
              "        <tr>\n",
              "            <td>EF</td>\n",
              "            <td> </td>\n",
              "            <td>23</td>\n",
              "        </tr>\n",
              "        <tr>\n",
              "            <td>EF</td>\n",
              "            <td>POJISTNE</td>\n",
              "            <td>21</td>\n",
              "        </tr>\n",
              "        <tr>\n",
              "            <td>EF</td>\n",
              "            <td>SIPO</td>\n",
              "            <td>10</td>\n",
              "        </tr>\n",
              "        <tr>\n",
              "            <td>EF</td>\n",
              "            <td>UVER</td>\n",
              "            <td>1</td>\n",
              "        </tr>\n",
              "        <tr>\n",
              "            <td>GH</td>\n",
              "            <td> </td>\n",
              "            <td>31</td>\n",
              "        </tr>\n",
              "        <tr>\n",
              "            <td>GH</td>\n",
              "            <td>LEASING</td>\n",
              "            <td>1</td>\n",
              "        </tr>\n",
              "        <tr>\n",
              "            <td>GH</td>\n",
              "            <td>POJISTNE</td>\n",
              "            <td>17</td>\n",
              "        </tr>\n",
              "        <tr>\n",
              "            <td>GH</td>\n",
              "            <td>SIPO</td>\n",
              "            <td>16</td>\n",
              "        </tr>\n",
              "        <tr>\n",
              "            <td>GH</td>\n",
              "            <td>UVER</td>\n",
              "            <td>4</td>\n",
              "        </tr>\n",
              "        <tr>\n",
              "            <td>IJ</td>\n",
              "            <td> </td>\n",
              "            <td>35</td>\n",
              "        </tr>\n",
              "        <tr>\n",
              "            <td>IJ</td>\n",
              "            <td>POJISTNE</td>\n",
              "            <td>19</td>\n",
              "        </tr>\n",
              "        <tr>\n",
              "            <td>IJ</td>\n",
              "            <td>SIPO</td>\n",
              "            <td>15</td>\n",
              "        </tr>\n",
              "        <tr>\n",
              "            <td>KL</td>\n",
              "            <td> </td>\n",
              "            <td>31</td>\n",
              "        </tr>\n",
              "        <tr>\n",
              "            <td>KL</td>\n",
              "            <td>LEASING</td>\n",
              "            <td>1</td>\n",
              "        </tr>\n",
              "        <tr>\n",
              "            <td>KL</td>\n",
              "            <td>POJISTNE</td>\n",
              "            <td>15</td>\n",
              "        </tr>\n",
              "        <tr>\n",
              "            <td>KL</td>\n",
              "            <td>SIPO</td>\n",
              "            <td>15</td>\n",
              "        </tr>\n",
              "        <tr>\n",
              "            <td>KL</td>\n",
              "            <td>UVER</td>\n",
              "            <td>2</td>\n",
              "        </tr>\n",
              "        <tr>\n",
              "            <td>MN</td>\n",
              "            <td> </td>\n",
              "            <td>24</td>\n",
              "        </tr>\n",
              "        <tr>\n",
              "            <td>MN</td>\n",
              "            <td>LEASING</td>\n",
              "            <td>1</td>\n",
              "        </tr>\n",
              "        <tr>\n",
              "            <td>MN</td>\n",
              "            <td>POJISTNE</td>\n",
              "            <td>20</td>\n",
              "        </tr>\n",
              "        <tr>\n",
              "            <td>MN</td>\n",
              "            <td>SIPO</td>\n",
              "            <td>9</td>\n",
              "        </tr>\n",
              "        <tr>\n",
              "            <td>MN</td>\n",
              "            <td>UVER</td>\n",
              "            <td>1</td>\n",
              "        </tr>\n",
              "        <tr>\n",
              "            <td>OP</td>\n",
              "            <td> </td>\n",
              "            <td>28</td>\n",
              "        </tr>\n",
              "        <tr>\n",
              "            <td>OP</td>\n",
              "            <td>POJISTNE</td>\n",
              "            <td>23</td>\n",
              "        </tr>\n",
              "        <tr>\n",
              "            <td>OP</td>\n",
              "            <td>SIPO</td>\n",
              "            <td>11</td>\n",
              "        </tr>\n",
              "        <tr>\n",
              "            <td>QR</td>\n",
              "            <td> </td>\n",
              "            <td>19</td>\n",
              "        </tr>\n",
              "        <tr>\n",
              "            <td>QR</td>\n",
              "            <td>POJISTNE</td>\n",
              "            <td>18</td>\n",
              "        </tr>\n",
              "        <tr>\n",
              "            <td>QR</td>\n",
              "            <td>SIPO</td>\n",
              "            <td>20</td>\n",
              "        </tr>\n",
              "        <tr>\n",
              "            <td>QR</td>\n",
              "            <td>UVER</td>\n",
              "            <td>1</td>\n",
              "        </tr>\n",
              "        <tr>\n",
              "            <td>ST</td>\n",
              "            <td> </td>\n",
              "            <td>32</td>\n",
              "        </tr>\n",
              "        <tr>\n",
              "            <td>ST</td>\n",
              "            <td>POJISTNE</td>\n",
              "            <td>17</td>\n",
              "        </tr>\n",
              "        <tr>\n",
              "            <td>ST</td>\n",
              "            <td>SIPO</td>\n",
              "            <td>16</td>\n",
              "        </tr>\n",
              "        <tr>\n",
              "            <td>ST</td>\n",
              "            <td>UVER</td>\n",
              "            <td>2</td>\n",
              "        </tr>\n",
              "        <tr>\n",
              "            <td>UV</td>\n",
              "            <td> </td>\n",
              "            <td>30</td>\n",
              "        </tr>\n",
              "        <tr>\n",
              "            <td>UV</td>\n",
              "            <td>POJISTNE</td>\n",
              "            <td>15</td>\n",
              "        </tr>\n",
              "        <tr>\n",
              "            <td>UV</td>\n",
              "            <td>SIPO</td>\n",
              "            <td>11</td>\n",
              "        </tr>\n",
              "        <tr>\n",
              "            <td>UV</td>\n",
              "            <td>UVER</td>\n",
              "            <td>1</td>\n",
              "        </tr>\n",
              "        <tr>\n",
              "            <td>WX</td>\n",
              "            <td> </td>\n",
              "            <td>24</td>\n",
              "        </tr>\n",
              "        <tr>\n",
              "            <td>WX</td>\n",
              "            <td>POJISTNE</td>\n",
              "            <td>25</td>\n",
              "        </tr>\n",
              "        <tr>\n",
              "            <td>WX</td>\n",
              "            <td>SIPO</td>\n",
              "            <td>15</td>\n",
              "        </tr>\n",
              "        <tr>\n",
              "            <td>YZ</td>\n",
              "            <td> </td>\n",
              "            <td>28</td>\n",
              "        </tr>\n",
              "        <tr>\n",
              "            <td>YZ</td>\n",
              "            <td>LEASING</td>\n",
              "            <td>2</td>\n",
              "        </tr>\n",
              "        <tr>\n",
              "            <td>YZ</td>\n",
              "            <td>POJISTNE</td>\n",
              "            <td>20</td>\n",
              "        </tr>\n",
              "        <tr>\n",
              "            <td>YZ</td>\n",
              "            <td>SIPO</td>\n",
              "            <td>14</td>\n",
              "        </tr>\n",
              "        <tr>\n",
              "            <td>YZ</td>\n",
              "            <td>UVER</td>\n",
              "            <td>1</td>\n",
              "        </tr>\n",
              "    </tbody>\n",
              "</table>"
            ]
          },
          "metadata": {},
          "execution_count": 7
        }
      ],
      "source": [
        "%%sql\n",
        "SELECT bank_to, k_symbol, count(*) AS c\n",
        "FROM PERMANENT_ORDER\n",
        "WHERE amount < 500\n",
        "GROUP BY bank_to, k_symbol\n",
        "ORDER BY bank_to"
      ]
    },
    {
      "cell_type": "markdown",
      "metadata": {
        "id": "mjAZv9zYO5Jm"
      },
      "source": [
        "# JOIN"
      ]
    },
    {
      "cell_type": "markdown",
      "metadata": {
        "id": "QeO-vD7QnxD5"
      },
      "source": [
        "inner join () realiza una intersección entre las dos tablas"
      ]
    },
    {
      "cell_type": "markdown",
      "metadata": {
        "id": "pYMAOe0VG3aH"
      },
      "source": [
        "10. ¿Cuántas cuentas de frecuencia mensual tienen un un préstamo activo?\n",
        "\n"
      ]
    },
    {
      "cell_type": "markdown",
      "metadata": {
        "id": "jNczaDGuom9H"
      },
      "source": [
        "Cuando los atributos se encuentran en ambas tablas les cambia el nombre para identificarlos  \n",
        "La tabla DISTRICT se relaciona con ACCOUNT mediante district_id  \n",
        "La tabla disposition es la tabla puente entre account y client"
      ]
    },
    {
      "cell_type": "code",
      "execution_count": null,
      "metadata": {
        "colab": {
          "base_uri": "https://localhost:8080/",
          "height": 96
        },
        "id": "oSIskSX3HCgp",
        "outputId": "32037b99-75d1-4b21-a82d-1dfded80a72a"
      },
      "outputs": [
        {
          "name": "stdout",
          "output_type": "stream",
          "text": [
            " * sqlite:///data_berka.db\n",
            "Done.\n"
          ]
        },
        {
          "data": {
            "text/html": [
              "<table>\n",
              "    <thead>\n",
              "        <tr>\n",
              "            <th>count(*) --loan_id, A4, A9, A10, A11, c.birth_number, l.date loan_date, amount, duration, payments, frequency, a.date acc_date, status</th>\n",
              "        </tr>\n",
              "    </thead>\n",
              "    <tbody>\n",
              "        <tr>\n",
              "            <td>827</td>\n",
              "        </tr>\n",
              "    </tbody>\n",
              "</table>"
            ],
            "text/plain": [
              "[(827,)]"
            ]
          },
          "execution_count": 82,
          "metadata": {},
          "output_type": "execute_result"
        }
      ],
      "source": [
        "%%sql\n",
        "SELECT count(*) --loan_id, A4, A9, A10, A11, c.birth_number, l.date loan_date, amount, duration, payments, frequency, a.date acc_date, status\n",
        "FROM LOAN l, ACCOUNT a, DISTRICT d, CLIENT c, DISPOSITION dp\n",
        "WHERE l.account_id = a.account_id\n",
        "  AND a.district_id = d.A1\n",
        "  AND dp.account_id = a.account_id -- join account/disposition\n",
        "  AND dp.client_id = c.client_id -- join disposition/client\n",
        "-- AND status in (\"A\", \"B\")\n",
        "ORDER BY amount DESC, a.date DESC\n",
        "LIMIT 10"
      ]
    },
    {
      "cell_type": "markdown",
      "metadata": {
        "id": "rejfTNAltWQj"
      },
      "source": [
        "El número de cuentas aumenta al establecer la tabla con clientes y cuentas pues es una relación N:N y puede haber más de una cuenta por cliente"
      ]
    },
    {
      "cell_type": "code",
      "execution_count": null,
      "metadata": {
        "colab": {
          "base_uri": "https://localhost:8080/",
          "height": 118
        },
        "id": "97u4r0Pttrpu",
        "outputId": "316c3b5e-d2b8-4657-d7bb-5943fe6316f8"
      },
      "outputs": [
        {
          "name": "stdout",
          "output_type": "stream",
          "text": [
            " * sqlite:///data_berka.db\n",
            "Done.\n"
          ]
        },
        {
          "data": {
            "text/html": [
              "<table>\n",
              "    <thead>\n",
              "        <tr>\n",
              "            <th>type</th>\n",
              "        </tr>\n",
              "    </thead>\n",
              "    <tbody>\n",
              "        <tr>\n",
              "            <td>OWNER</td>\n",
              "        </tr>\n",
              "        <tr>\n",
              "            <td>DISPONENT</td>\n",
              "        </tr>\n",
              "    </tbody>\n",
              "</table>"
            ],
            "text/plain": [
              "[('OWNER',), ('DISPONENT',)]"
            ]
          },
          "execution_count": 83,
          "metadata": {},
          "output_type": "execute_result"
        }
      ],
      "source": [
        "%%sql\n",
        "SELECT DISTINCT TYPE FROM DISPOSITION"
      ]
    },
    {
      "cell_type": "markdown",
      "metadata": {
        "id": "F9-Al8Watzlx"
      },
      "source": [
        "Filtrado por propietarios  \n",
        "El resultado vuelve a ser 682 (número total de créditos)"
      ]
    },
    {
      "cell_type": "code",
      "execution_count": null,
      "metadata": {
        "id": "9MaS-Bpbtll4"
      },
      "outputs": [],
      "source": [
        "%%sql\n",
        "SELECT count(*) --loan_id, A4, A9, A10, A11, c.birth_number, l.date loan_date, amount, duration, payments, frequency, a.date acc_date, status\n",
        "FROM LOAN l, ACCOUNT a, DISTRICT d, CLIENT c, DISPOSITION dp\n",
        "WHERE l.account_id = a.account_id\n",
        "  AND a.district_id = d.A1\n",
        "  AND dp.account_id = a.account_id -- join account/disposition\n",
        "  AND dp.client_id = c.client_id -- join disposition/client\n",
        "  AND dp.type = \"OWNER\"\n",
        "-- AND status in (\"A\", \"B\")\n",
        "-- ORDER BY amount DESC, a.date DESC\n",
        "-- LIMIT 10"
      ]
    },
    {
      "cell_type": "markdown",
      "metadata": {
        "id": "70Lg3fU-utnD"
      },
      "source": [
        "Extracción (sustraer): SUBSTR (extracción de caracteres)\n",
        "SUBSTR(0,3) la numeración comienza en 0 y el 3 no inclusivo  \n",
        "Extracción de números enteros: división (cifras al comienzo), resto (cifras finales) "
      ]
    },
    {
      "cell_type": "code",
      "execution_count": null,
      "metadata": {
        "id": "KmHIXB3qt7g-",
        "outputId": "f85d3716-e460-4ff9-b889-134ddcceefe0",
        "colab": {
          "base_uri": "https://localhost:8080/",
          "height": 289
        }
      },
      "outputs": [
        {
          "output_type": "stream",
          "name": "stdout",
          "text": [
            " * sqlite:///data_berka.db\n",
            "Done.\n"
          ]
        },
        {
          "output_type": "execute_result",
          "data": {
            "text/plain": [
              "[(6228, 77963, 4, 51.5, 8546, '406202', '40', 931201, 464520, 60, 7742, 'weekly', 930319, 'B'),\n",
              " (6038, 1204953, 1, 100.0, 12541, '406015', '40', 940810, 323472, 48, 6739, 'monthly', 930621, 'A'),\n",
              " (5918, 67298, 7, 43.8, 8561, '640313', '64', 940604, 300204, 36, 8339, 'monthly', 930605, 'A'),\n",
              " (5395, 106054, 6, 63.1, 8110, '666210', '66', 940730, 299088, 36, 8308, 'monthly', 930606, 'B'),\n",
              " (6526, 86513, 5, 50.5, 8288, '586026', '58', 950103, 288468, 36, 8013, 'monthly', 940829, 'A'),\n",
              " (6232, 124605, 8, 46.0, 8772, '490518', '49', 940708, 276660, 36, 7685, 'monthly', 930828, 'B'),\n",
              " (7240, 1204953, 1, 100.0, 12541, '780907', '78', 930906, 274740, 60, 4579, 'weekly', 930214, 'A'),\n",
              " (6244, 1204953, 1, 100.0, 12541, '371104', '37', 950108, 270648, 36, 7518, 'weekly', 940307, 'B'),\n",
              " (6725, 51428, 4, 52.7, 8402, '485828', '48', 950623, 265320, 36, 7370, 'monthly', 930918, 'A'),\n",
              " (6725, 51428, 4, 52.7, 8402, '501204', '50', 950623, 265320, 36, 7370, 'monthly', 930918, 'A')]"
            ],
            "text/html": [
              "<table>\n",
              "    <thead>\n",
              "        <tr>\n",
              "            <th>loan_id</th>\n",
              "            <th>A4</th>\n",
              "            <th>A9</th>\n",
              "            <th>A10</th>\n",
              "            <th>A11</th>\n",
              "            <th>birth_number</th>\n",
              "            <th>birth_year</th>\n",
              "            <th>loan_date</th>\n",
              "            <th>amount</th>\n",
              "            <th>duration</th>\n",
              "            <th>payments</th>\n",
              "            <th>frequency</th>\n",
              "            <th>acc_date</th>\n",
              "            <th>status</th>\n",
              "        </tr>\n",
              "    </thead>\n",
              "    <tbody>\n",
              "        <tr>\n",
              "            <td>6228</td>\n",
              "            <td>77963</td>\n",
              "            <td>4</td>\n",
              "            <td>51.5</td>\n",
              "            <td>8546</td>\n",
              "            <td>406202</td>\n",
              "            <td>40</td>\n",
              "            <td>931201</td>\n",
              "            <td>464520</td>\n",
              "            <td>60</td>\n",
              "            <td>7742</td>\n",
              "            <td>weekly</td>\n",
              "            <td>930319</td>\n",
              "            <td>B</td>\n",
              "        </tr>\n",
              "        <tr>\n",
              "            <td>6038</td>\n",
              "            <td>1204953</td>\n",
              "            <td>1</td>\n",
              "            <td>100.0</td>\n",
              "            <td>12541</td>\n",
              "            <td>406015</td>\n",
              "            <td>40</td>\n",
              "            <td>940810</td>\n",
              "            <td>323472</td>\n",
              "            <td>48</td>\n",
              "            <td>6739</td>\n",
              "            <td>monthly</td>\n",
              "            <td>930621</td>\n",
              "            <td>A</td>\n",
              "        </tr>\n",
              "        <tr>\n",
              "            <td>5918</td>\n",
              "            <td>67298</td>\n",
              "            <td>7</td>\n",
              "            <td>43.8</td>\n",
              "            <td>8561</td>\n",
              "            <td>640313</td>\n",
              "            <td>64</td>\n",
              "            <td>940604</td>\n",
              "            <td>300204</td>\n",
              "            <td>36</td>\n",
              "            <td>8339</td>\n",
              "            <td>monthly</td>\n",
              "            <td>930605</td>\n",
              "            <td>A</td>\n",
              "        </tr>\n",
              "        <tr>\n",
              "            <td>5395</td>\n",
              "            <td>106054</td>\n",
              "            <td>6</td>\n",
              "            <td>63.1</td>\n",
              "            <td>8110</td>\n",
              "            <td>666210</td>\n",
              "            <td>66</td>\n",
              "            <td>940730</td>\n",
              "            <td>299088</td>\n",
              "            <td>36</td>\n",
              "            <td>8308</td>\n",
              "            <td>monthly</td>\n",
              "            <td>930606</td>\n",
              "            <td>B</td>\n",
              "        </tr>\n",
              "        <tr>\n",
              "            <td>6526</td>\n",
              "            <td>86513</td>\n",
              "            <td>5</td>\n",
              "            <td>50.5</td>\n",
              "            <td>8288</td>\n",
              "            <td>586026</td>\n",
              "            <td>58</td>\n",
              "            <td>950103</td>\n",
              "            <td>288468</td>\n",
              "            <td>36</td>\n",
              "            <td>8013</td>\n",
              "            <td>monthly</td>\n",
              "            <td>940829</td>\n",
              "            <td>A</td>\n",
              "        </tr>\n",
              "        <tr>\n",
              "            <td>6232</td>\n",
              "            <td>124605</td>\n",
              "            <td>8</td>\n",
              "            <td>46.0</td>\n",
              "            <td>8772</td>\n",
              "            <td>490518</td>\n",
              "            <td>49</td>\n",
              "            <td>940708</td>\n",
              "            <td>276660</td>\n",
              "            <td>36</td>\n",
              "            <td>7685</td>\n",
              "            <td>monthly</td>\n",
              "            <td>930828</td>\n",
              "            <td>B</td>\n",
              "        </tr>\n",
              "        <tr>\n",
              "            <td>7240</td>\n",
              "            <td>1204953</td>\n",
              "            <td>1</td>\n",
              "            <td>100.0</td>\n",
              "            <td>12541</td>\n",
              "            <td>780907</td>\n",
              "            <td>78</td>\n",
              "            <td>930906</td>\n",
              "            <td>274740</td>\n",
              "            <td>60</td>\n",
              "            <td>4579</td>\n",
              "            <td>weekly</td>\n",
              "            <td>930214</td>\n",
              "            <td>A</td>\n",
              "        </tr>\n",
              "        <tr>\n",
              "            <td>6244</td>\n",
              "            <td>1204953</td>\n",
              "            <td>1</td>\n",
              "            <td>100.0</td>\n",
              "            <td>12541</td>\n",
              "            <td>371104</td>\n",
              "            <td>37</td>\n",
              "            <td>950108</td>\n",
              "            <td>270648</td>\n",
              "            <td>36</td>\n",
              "            <td>7518</td>\n",
              "            <td>weekly</td>\n",
              "            <td>940307</td>\n",
              "            <td>B</td>\n",
              "        </tr>\n",
              "        <tr>\n",
              "            <td>6725</td>\n",
              "            <td>51428</td>\n",
              "            <td>4</td>\n",
              "            <td>52.7</td>\n",
              "            <td>8402</td>\n",
              "            <td>485828</td>\n",
              "            <td>48</td>\n",
              "            <td>950623</td>\n",
              "            <td>265320</td>\n",
              "            <td>36</td>\n",
              "            <td>7370</td>\n",
              "            <td>monthly</td>\n",
              "            <td>930918</td>\n",
              "            <td>A</td>\n",
              "        </tr>\n",
              "        <tr>\n",
              "            <td>6725</td>\n",
              "            <td>51428</td>\n",
              "            <td>4</td>\n",
              "            <td>52.7</td>\n",
              "            <td>8402</td>\n",
              "            <td>501204</td>\n",
              "            <td>50</td>\n",
              "            <td>950623</td>\n",
              "            <td>265320</td>\n",
              "            <td>36</td>\n",
              "            <td>7370</td>\n",
              "            <td>monthly</td>\n",
              "            <td>930918</td>\n",
              "            <td>A</td>\n",
              "        </tr>\n",
              "    </tbody>\n",
              "</table>"
            ]
          },
          "metadata": {},
          "execution_count": 11
        }
      ],
      "source": [
        "%%sql\n",
        "SELECT loan_id, A4, A9, A10, A11, c.birth_number, SUBSTR(c.birth_number,0,3) birth_year, l.date loan_date, \n",
        "  amount, duration, payments, frequency, a.date acc_date, status\n",
        "FROM LOAN as l, ACCOUNT as a, DISTRICT as d, CLIENT as c, DISPOSITION as dp\n",
        "WHERE l.account_id = a.account_id\n",
        "  AND a.district_id = d.A1\n",
        "  AND dp.account_id = a.account_id -- join account/disposition\n",
        "  AND dp.client_id = c.client_id -- join disposition/client\n",
        "  AND status in (\"A\", \"B\")\n",
        "ORDER BY amount DESC, a.date DESC\n",
        "LIMIT 10"
      ]
    },
    {
      "cell_type": "markdown",
      "metadata": {
        "id": "q6d-mkhTDddI"
      },
      "source": [
        "11. Domiciliaciones en cuentas de actualización semanal de alquiler en cuentas de Praga"
      ]
    },
    {
      "cell_type": "code",
      "execution_count": null,
      "metadata": {
        "id": "49lqSF407TaR",
        "colab": {
          "base_uri": "https://localhost:8080/",
          "height": 203
        },
        "outputId": "42a5fd94-3d0c-42dd-d188-4460e7f3ddf8"
      },
      "outputs": [
        {
          "output_type": "stream",
          "name": "stdout",
          "text": [
            " * sqlite:///data_berka.db\n",
            "Done.\n"
          ]
        },
        {
          "output_type": "execute_result",
          "data": {
            "text/plain": [
              "[(29514, 72, 2923),\n",
              " (30250, 573, 2249),\n",
              " (30944, 1056, 2531.7),\n",
              " (34056, 3141, 1087),\n",
              " (35237, 3959, 1680.6),\n",
              " (40429, 7465, 1060.6)]"
            ],
            "text/html": [
              "<table>\n",
              "    <thead>\n",
              "        <tr>\n",
              "            <th>order_id</th>\n",
              "            <th>account_id</th>\n",
              "            <th>amount</th>\n",
              "        </tr>\n",
              "    </thead>\n",
              "    <tbody>\n",
              "        <tr>\n",
              "            <td>29514</td>\n",
              "            <td>72</td>\n",
              "            <td>2923</td>\n",
              "        </tr>\n",
              "        <tr>\n",
              "            <td>30250</td>\n",
              "            <td>573</td>\n",
              "            <td>2249</td>\n",
              "        </tr>\n",
              "        <tr>\n",
              "            <td>30944</td>\n",
              "            <td>1056</td>\n",
              "            <td>2531.7</td>\n",
              "        </tr>\n",
              "        <tr>\n",
              "            <td>34056</td>\n",
              "            <td>3141</td>\n",
              "            <td>1087</td>\n",
              "        </tr>\n",
              "        <tr>\n",
              "            <td>35237</td>\n",
              "            <td>3959</td>\n",
              "            <td>1680.6</td>\n",
              "        </tr>\n",
              "        <tr>\n",
              "            <td>40429</td>\n",
              "            <td>7465</td>\n",
              "            <td>1060.6</td>\n",
              "        </tr>\n",
              "    </tbody>\n",
              "</table>"
            ]
          },
          "metadata": {},
          "execution_count": 9
        }
      ],
      "source": [
        "%%sql\n",
        "SELECT order_id, p.account_id, amount\n",
        "FROM PERMANENT_ORDER as p, ACCOUNT as a, DISTRICT as d\n",
        "WHERE p.account_id = a.account_id\n",
        "  AND a.district_id = d.A1\n",
        "  AND k_symbol = \"LEASING\"\n",
        "  AND frequency = \"weekly\"\n",
        "  AND A3 = \"Prague\""
      ]
    },
    {
      "cell_type": "markdown",
      "metadata": {
        "id": "l3TYpZlj8vQU"
      },
      "source": [
        "\n",
        "12. Domiciliaciones (*órdenes*) semanales para alquiler (*leasing*) en cuentas de Praga\n",
        "\n",
        " - Ordenes permanentes de alquiler (*leasing*) y semanales (*weekly*)\n",
        " - Relación con cuentas que tienen región Praga"
      ]
    },
    {
      "cell_type": "code",
      "execution_count": null,
      "metadata": {
        "id": "Hl-0s5LbsT0z",
        "colab": {
          "base_uri": "https://localhost:8080/",
          "height": 203
        },
        "outputId": "0d428995-ad24-4e26-bd22-9f55165499da"
      },
      "outputs": [
        {
          "output_type": "stream",
          "name": "stdout",
          "text": [
            " * sqlite:///data_berka.db\n",
            "Done.\n"
          ]
        },
        {
          "output_type": "execute_result",
          "data": {
            "text/plain": [
              "[(29514, 'LEASING', 'OP', 72, 'weekly', 'Hl.m. Praha', 'Prague'),\n",
              " (30250, 'LEASING', 'CD', 573, 'weekly', 'Hl.m. Praha', 'Prague'),\n",
              " (30944, 'LEASING', 'IJ', 1056, 'weekly', 'Hl.m. Praha', 'Prague'),\n",
              " (34056, 'LEASING', 'OP', 3141, 'weekly', 'Hl.m. Praha', 'Prague'),\n",
              " (35237, 'LEASING', 'AB', 3959, 'weekly', 'Hl.m. Praha', 'Prague'),\n",
              " (40429, 'LEASING', 'ST', 7465, 'weekly', 'Hl.m. Praha', 'Prague')]"
            ],
            "text/html": [
              "<table>\n",
              "    <thead>\n",
              "        <tr>\n",
              "            <th>order_id</th>\n",
              "            <th>k_symbol</th>\n",
              "            <th>bank_to</th>\n",
              "            <th>account_id</th>\n",
              "            <th>frequency</th>\n",
              "            <th>A2</th>\n",
              "            <th>A3</th>\n",
              "        </tr>\n",
              "    </thead>\n",
              "    <tbody>\n",
              "        <tr>\n",
              "            <td>29514</td>\n",
              "            <td>LEASING</td>\n",
              "            <td>OP</td>\n",
              "            <td>72</td>\n",
              "            <td>weekly</td>\n",
              "            <td>Hl.m. Praha</td>\n",
              "            <td>Prague</td>\n",
              "        </tr>\n",
              "        <tr>\n",
              "            <td>30250</td>\n",
              "            <td>LEASING</td>\n",
              "            <td>CD</td>\n",
              "            <td>573</td>\n",
              "            <td>weekly</td>\n",
              "            <td>Hl.m. Praha</td>\n",
              "            <td>Prague</td>\n",
              "        </tr>\n",
              "        <tr>\n",
              "            <td>30944</td>\n",
              "            <td>LEASING</td>\n",
              "            <td>IJ</td>\n",
              "            <td>1056</td>\n",
              "            <td>weekly</td>\n",
              "            <td>Hl.m. Praha</td>\n",
              "            <td>Prague</td>\n",
              "        </tr>\n",
              "        <tr>\n",
              "            <td>34056</td>\n",
              "            <td>LEASING</td>\n",
              "            <td>OP</td>\n",
              "            <td>3141</td>\n",
              "            <td>weekly</td>\n",
              "            <td>Hl.m. Praha</td>\n",
              "            <td>Prague</td>\n",
              "        </tr>\n",
              "        <tr>\n",
              "            <td>35237</td>\n",
              "            <td>LEASING</td>\n",
              "            <td>AB</td>\n",
              "            <td>3959</td>\n",
              "            <td>weekly</td>\n",
              "            <td>Hl.m. Praha</td>\n",
              "            <td>Prague</td>\n",
              "        </tr>\n",
              "        <tr>\n",
              "            <td>40429</td>\n",
              "            <td>LEASING</td>\n",
              "            <td>ST</td>\n",
              "            <td>7465</td>\n",
              "            <td>weekly</td>\n",
              "            <td>Hl.m. Praha</td>\n",
              "            <td>Prague</td>\n",
              "        </tr>\n",
              "    </tbody>\n",
              "</table>"
            ]
          },
          "metadata": {},
          "execution_count": 10
        }
      ],
      "source": [
        "%%sql\n",
        "SELECT order_id, k_symbol, bank_to, a.account_id, a.frequency, d.A2, d.A3\n",
        "FROM PERMANENT_ORDER as p, ACCOUNT as a, DISTRICT as d\n",
        "WHERE p.account_id = a.account_id\n",
        "  AND a.district_id = d.A1\n",
        "  AND k_symbol = \"LEASING\" \n",
        "  AND a.frequency = \"weekly\" \n",
        "  AND d.A3 = \"Prague\""
      ]
    },
    {
      "cell_type": "markdown",
      "metadata": {
        "id": "mlHOEFl_v0Fm"
      },
      "source": [
        "13. Transacciones relacionadas con pensiones (DUCHOD) en Plzen desde el banco MN\n",
        "\n",
        "(limitar a 10)"
      ]
    },
    {
      "cell_type": "code",
      "execution_count": null,
      "metadata": {
        "id": "mPBrFgPtvzYN",
        "colab": {
          "base_uri": "https://localhost:8080/",
          "height": 289
        },
        "outputId": "9a0885bc-659e-432f-ef91-699f804a9034"
      },
      "outputs": [
        {
          "output_type": "stream",
          "name": "stdout",
          "text": [
            " * sqlite:///data_berka.db\n",
            "Done.\n"
          ]
        },
        {
          "output_type": "execute_result",
          "data": {
            "text/plain": [
              "[(47969, 161, 'monthly', 'PRIJEM', 'DUCHOD', 'MN'),\n",
              " (47970, 161, 'monthly', 'PRIJEM', 'DUCHOD', 'MN'),\n",
              " (47971, 161, 'monthly', 'PRIJEM', 'DUCHOD', 'MN'),\n",
              " (47972, 161, 'monthly', 'PRIJEM', 'DUCHOD', 'MN'),\n",
              " (47973, 161, 'monthly', 'PRIJEM', 'DUCHOD', 'MN'),\n",
              " (47974, 161, 'monthly', 'PRIJEM', 'DUCHOD', 'MN'),\n",
              " (47975, 161, 'monthly', 'PRIJEM', 'DUCHOD', 'MN'),\n",
              " (47976, 161, 'monthly', 'PRIJEM', 'DUCHOD', 'MN'),\n",
              " (47977, 161, 'monthly', 'PRIJEM', 'DUCHOD', 'MN'),\n",
              " (1098524, 3753, 'monthly', 'PRIJEM', 'DUCHOD', 'MN')]"
            ],
            "text/html": [
              "<table>\n",
              "    <thead>\n",
              "        <tr>\n",
              "            <th>trans_id</th>\n",
              "            <th>account_id</th>\n",
              "            <th>frequency</th>\n",
              "            <th>type</th>\n",
              "            <th>k_symbol</th>\n",
              "            <th>bank</th>\n",
              "        </tr>\n",
              "    </thead>\n",
              "    <tbody>\n",
              "        <tr>\n",
              "            <td>47969</td>\n",
              "            <td>161</td>\n",
              "            <td>monthly</td>\n",
              "            <td>PRIJEM</td>\n",
              "            <td>DUCHOD</td>\n",
              "            <td>MN</td>\n",
              "        </tr>\n",
              "        <tr>\n",
              "            <td>47970</td>\n",
              "            <td>161</td>\n",
              "            <td>monthly</td>\n",
              "            <td>PRIJEM</td>\n",
              "            <td>DUCHOD</td>\n",
              "            <td>MN</td>\n",
              "        </tr>\n",
              "        <tr>\n",
              "            <td>47971</td>\n",
              "            <td>161</td>\n",
              "            <td>monthly</td>\n",
              "            <td>PRIJEM</td>\n",
              "            <td>DUCHOD</td>\n",
              "            <td>MN</td>\n",
              "        </tr>\n",
              "        <tr>\n",
              "            <td>47972</td>\n",
              "            <td>161</td>\n",
              "            <td>monthly</td>\n",
              "            <td>PRIJEM</td>\n",
              "            <td>DUCHOD</td>\n",
              "            <td>MN</td>\n",
              "        </tr>\n",
              "        <tr>\n",
              "            <td>47973</td>\n",
              "            <td>161</td>\n",
              "            <td>monthly</td>\n",
              "            <td>PRIJEM</td>\n",
              "            <td>DUCHOD</td>\n",
              "            <td>MN</td>\n",
              "        </tr>\n",
              "        <tr>\n",
              "            <td>47974</td>\n",
              "            <td>161</td>\n",
              "            <td>monthly</td>\n",
              "            <td>PRIJEM</td>\n",
              "            <td>DUCHOD</td>\n",
              "            <td>MN</td>\n",
              "        </tr>\n",
              "        <tr>\n",
              "            <td>47975</td>\n",
              "            <td>161</td>\n",
              "            <td>monthly</td>\n",
              "            <td>PRIJEM</td>\n",
              "            <td>DUCHOD</td>\n",
              "            <td>MN</td>\n",
              "        </tr>\n",
              "        <tr>\n",
              "            <td>47976</td>\n",
              "            <td>161</td>\n",
              "            <td>monthly</td>\n",
              "            <td>PRIJEM</td>\n",
              "            <td>DUCHOD</td>\n",
              "            <td>MN</td>\n",
              "        </tr>\n",
              "        <tr>\n",
              "            <td>47977</td>\n",
              "            <td>161</td>\n",
              "            <td>monthly</td>\n",
              "            <td>PRIJEM</td>\n",
              "            <td>DUCHOD</td>\n",
              "            <td>MN</td>\n",
              "        </tr>\n",
              "        <tr>\n",
              "            <td>1098524</td>\n",
              "            <td>3753</td>\n",
              "            <td>monthly</td>\n",
              "            <td>PRIJEM</td>\n",
              "            <td>DUCHOD</td>\n",
              "            <td>MN</td>\n",
              "        </tr>\n",
              "    </tbody>\n",
              "</table>"
            ]
          },
          "metadata": {},
          "execution_count": 12
        }
      ],
      "source": [
        "%%sql\n",
        "SELECT trans_id, a.account_id, a.frequency, t.type, k_symbol, bank\n",
        "FROM TRANS as t, ACCOUNT as a, DISTRICT as d\n",
        "WHERE t.account_id = a.account_id \n",
        "  AND a.district_id = d.A1\n",
        "  AND k_symbol = \"DUCHOD\" \n",
        "  AND bank = \"MN\" \n",
        "  AND d.A2 LIKE \"%Plzen%\"  \n",
        "LIMIT 10\n",
        "\n"
      ]
    },
    {
      "cell_type": "markdown",
      "metadata": {
        "id": "Ovmgyxkd90ME"
      },
      "source": [
        "# Subconsultas"
      ]
    },
    {
      "cell_type": "markdown",
      "source": [
        "Sub consulta o consultas anidadas o una consulta interna está incrustado en la consulta cláusula WHERE dentro de otra consulta SQLite.  \n",
        "\n",
        "La siguiente es una subconsulta varias reglas que se deben seguir:\n",
        "\n",
        "* Subconsultas deben ir entre paréntesis.\n",
        "\n",
        "* Sub-consulta cláusula SELECT sólo puede tener una columna, a menos que múltiples columnas en la consulta principal, la comparación columna sub consulta seleccionada.\n",
        "\n",
        "* ORDER BY no se puede utilizar en una subconsulta, aunque la consulta principal puede utilizar ORDER BY. Se puede utilizar el GROUP BY en subconsultas, funciona igual que el ORDER BY.\n",
        "\n",
        "* subconsulta retorna más de una línea, sólo se pueden utilizar con el operador de valores múltiples, tales como el operador IN.\n",
        "\n",
        "* ENTRE operador no se puede utilizar con sub-consultas, sin embargo, entre puede ser utilizado dentro de subconsultas."
      ],
      "metadata": {
        "id": "xul8ifqtUuP8"
      }
    },
    {
      "cell_type": "markdown",
      "metadata": {
        "id": "0YCXvcENCKj7"
      },
      "source": [
        "14. Prestamos cuya cantidad es superior a la media de los clientes de Praga"
      ]
    },
    {
      "cell_type": "markdown",
      "source": [
        "subconsulta instrucción SELECT\n",
        "\n",
        "SELECT nombre_columna [, COLUMN_NAME]  \n",
        "De la Tabla1 [, tabla2]  \n",
        "Donde el operador COLUMN_NAME  \n",
        "    (SELECT nombre_columna [, COLUMN_NAME]  \n",
        "     De la Tabla1 [, tabla2]  \n",
        "     [Cuando])  "
      ],
      "metadata": {
        "id": "M7QAMg9lVBUE"
      }
    },
    {
      "cell_type": "markdown",
      "metadata": {
        "id": "O4RbJSfXBW7t"
      },
      "source": [
        "- Cantidad media prestada a los cuentas de Praga "
      ]
    },
    {
      "cell_type": "code",
      "execution_count": null,
      "metadata": {
        "colab": {
          "base_uri": "https://localhost:8080/",
          "height": 96
        },
        "id": "BqeI97l5BWp3",
        "outputId": "75ea244b-291f-4cf8-ac2c-0296ebed531f"
      },
      "outputs": [
        {
          "name": "stdout",
          "output_type": "stream",
          "text": [
            " * sqlite:///data_berka.db\n",
            "Done.\n"
          ]
        },
        {
          "data": {
            "text/html": [
              "<table>\n",
              "    <thead>\n",
              "        <tr>\n",
              "            <th>avg(l.amount)</th>\n",
              "        </tr>\n",
              "    </thead>\n",
              "    <tbody>\n",
              "        <tr>\n",
              "            <td>153957.2857142857</td>\n",
              "        </tr>\n",
              "    </tbody>\n",
              "</table>"
            ],
            "text/plain": [
              "[(153957.2857142857,)]"
            ]
          },
          "execution_count": 91,
          "metadata": {},
          "output_type": "execute_result"
        }
      ],
      "source": [
        "%%sql\n",
        "SELECT avg(l.amount)\n",
        "FROM LOAN l, ACCOUNT a, DISTRICT d\n",
        "WHERE l.account_id = a.account_id\n",
        "AND a.district_id = d.A1\n",
        "AND d.A3 = \"Prague\"\n"
      ]
    },
    {
      "cell_type": "markdown",
      "metadata": {
        "id": "DerPYF5nI1xQ"
      },
      "source": [
        "- Consultar los préstamos superiores a esa cantidad"
      ]
    },
    {
      "cell_type": "code",
      "execution_count": null,
      "metadata": {
        "colab": {
          "base_uri": "https://localhost:8080/",
          "height": 96
        },
        "id": "cYE3agAOBn7U",
        "outputId": "e614f914-58cd-4fa5-f21c-9cd50ea7f167"
      },
      "outputs": [
        {
          "name": "stdout",
          "output_type": "stream",
          "text": [
            " * sqlite:///data_berka.db\n",
            "Done.\n"
          ]
        },
        {
          "data": {
            "text/html": [
              "<table>\n",
              "    <thead>\n",
              "        <tr>\n",
              "            <th>count(*)</th>\n",
              "        </tr>\n",
              "    </thead>\n",
              "    <tbody>\n",
              "        <tr>\n",
              "            <td>277</td>\n",
              "        </tr>\n",
              "    </tbody>\n",
              "</table>"
            ],
            "text/plain": [
              "[(277,)]"
            ]
          },
          "execution_count": 95,
          "metadata": {},
          "output_type": "execute_result"
        }
      ],
      "source": [
        "%%sql\n",
        "SELECT count(*)\n",
        "FROM LOAN\n",
        "WHERE amount > (SELECT avg(l.amount)\n",
        "                FROM LOAN l, ACCOUNT a, DISTRICT d\n",
        "                WHERE l.account_id = a.account_id\n",
        "                AND a.district_id = d.A1\n",
        "                AND d.A3 = \"Prague\")\n"
      ]
    },
    {
      "cell_type": "markdown",
      "metadata": {
        "id": "bC7in4f_76wC"
      },
      "source": [
        "# Repaso de Join/Group By"
      ]
    },
    {
      "cell_type": "markdown",
      "metadata": {
        "id": "6aCyWJrg9iwY"
      },
      "source": [
        "## Objetivo 2.1"
      ]
    },
    {
      "cell_type": "markdown",
      "metadata": {
        "id": "pCXPD-ri5xXk"
      },
      "source": [
        "15 . Clientes de Praga con préstamos según su estado\n",
        "\n",
        "- ¿Cuántos clientes hay en Praga?\n",
        "- ¿Cuántas cuentas tienen asociados clientes en Praga?\n",
        "- ¿cuántas de esas cuentas tienen asociados un préstamo?\n",
        "- Necesito saber cuántos hay por cada estado (*status*)\n"
      ]
    },
    {
      "cell_type": "code",
      "execution_count": null,
      "metadata": {
        "colab": {
          "base_uri": "https://localhost:8080/",
          "height": 161
        },
        "id": "f6abh3405z5X",
        "outputId": "aae7b3d8-b8be-4210-91b7-6384376adf3b"
      },
      "outputs": [
        {
          "output_type": "stream",
          "name": "stdout",
          "text": [
            " * sqlite:///data_berka.db\n",
            "Done.\n"
          ]
        },
        {
          "output_type": "execute_result",
          "data": {
            "text/plain": [
              "[('A', 37), ('B', 3), ('C', 55), ('D', 3)]"
            ],
            "text/html": [
              "<table>\n",
              "    <thead>\n",
              "        <tr>\n",
              "            <th>status</th>\n",
              "            <th>count(*)</th>\n",
              "        </tr>\n",
              "    </thead>\n",
              "    <tbody>\n",
              "        <tr>\n",
              "            <td>A</td>\n",
              "            <td>37</td>\n",
              "        </tr>\n",
              "        <tr>\n",
              "            <td>B</td>\n",
              "            <td>3</td>\n",
              "        </tr>\n",
              "        <tr>\n",
              "            <td>C</td>\n",
              "            <td>55</td>\n",
              "        </tr>\n",
              "        <tr>\n",
              "            <td>D</td>\n",
              "            <td>3</td>\n",
              "        </tr>\n",
              "    </tbody>\n",
              "</table>"
            ]
          },
          "metadata": {},
          "execution_count": 13
        }
      ],
      "source": [
        "%%sql \n",
        "SELECT status, count(*)\n",
        "FROM CLIENT c, DISTRICT d, DISPOSITION dp, LOAN l \n",
        "WHERE c.district_id = d.A1 AND c.client_id = dp.client_id\n",
        "  AND l.account_id = dp.account_id AND d.A3 = \"Prague\"\n",
        "GROUP BY status"
      ]
    },
    {
      "cell_type": "markdown",
      "metadata": {
        "id": "ePbzUfwP2Qmh"
      },
      "source": [
        "## Ejercicio\n",
        "\n",
        "> cantidad de dinero medio en transacciones de clientes propietarios de cuentas en Kolin (owned accounts)"
      ]
    },
    {
      "cell_type": "code",
      "execution_count": null,
      "metadata": {
        "colab": {
          "base_uri": "https://localhost:8080/",
          "height": 289
        },
        "id": "MPy8_6Nt0Ho1",
        "outputId": "0446a296-c684-4dcc-bcc8-b5bdb664115f"
      },
      "outputs": [
        {
          "output_type": "stream",
          "name": "stdout",
          "text": [
            " * sqlite:///data_berka.db\n",
            "Done.\n"
          ]
        },
        {
          "output_type": "execute_result",
          "data": {
            "text/plain": [
              "[(5249, 15611.831578947369),\n",
              " (3378, 14803.997402597402),\n",
              " (1388, 14464.587096774194),\n",
              " (6803, 13825.125153374232),\n",
              " (8091, 13227.722338204592),\n",
              " (3298, 13074.464857881138),\n",
              " (1806, 13037.759375),\n",
              " (4331, 12644.448051948051),\n",
              " (4974, 12023.291743119267),\n",
              " (3080, 11784.50460251046)]"
            ],
            "text/html": [
              "<table>\n",
              "    <thead>\n",
              "        <tr>\n",
              "            <th>client_id</th>\n",
              "            <th>Average</th>\n",
              "        </tr>\n",
              "    </thead>\n",
              "    <tbody>\n",
              "        <tr>\n",
              "            <td>5249</td>\n",
              "            <td>15611.831578947369</td>\n",
              "        </tr>\n",
              "        <tr>\n",
              "            <td>3378</td>\n",
              "            <td>14803.997402597402</td>\n",
              "        </tr>\n",
              "        <tr>\n",
              "            <td>1388</td>\n",
              "            <td>14464.587096774194</td>\n",
              "        </tr>\n",
              "        <tr>\n",
              "            <td>6803</td>\n",
              "            <td>13825.125153374232</td>\n",
              "        </tr>\n",
              "        <tr>\n",
              "            <td>8091</td>\n",
              "            <td>13227.722338204592</td>\n",
              "        </tr>\n",
              "        <tr>\n",
              "            <td>3298</td>\n",
              "            <td>13074.464857881138</td>\n",
              "        </tr>\n",
              "        <tr>\n",
              "            <td>1806</td>\n",
              "            <td>13037.759375</td>\n",
              "        </tr>\n",
              "        <tr>\n",
              "            <td>4331</td>\n",
              "            <td>12644.448051948051</td>\n",
              "        </tr>\n",
              "        <tr>\n",
              "            <td>4974</td>\n",
              "            <td>12023.291743119267</td>\n",
              "        </tr>\n",
              "        <tr>\n",
              "            <td>3080</td>\n",
              "            <td>11784.50460251046</td>\n",
              "        </tr>\n",
              "    </tbody>\n",
              "</table>"
            ]
          },
          "metadata": {},
          "execution_count": 20
        }
      ],
      "source": [
        "%%sql\n",
        "SELECT c.client_id, AVG (amount) AS Average\n",
        "FROM client as c, district as d, disposition as dp, account as a, trans as t\n",
        "WHERE c.district_id = d.A1 AND c.client_id = dp.client_id\n",
        "  AND dp.account_id = a.account_id AND a.account_id = t.account_id\n",
        "  AND d.A2 = \"Kolin\" AND dp.type = \"OWNER\" \n",
        "GROUP BY c.client_id\n",
        "ORDER BY Average DESC\n",
        "LIMIT 10\n",
        "\n"
      ]
    },
    {
      "cell_type": "markdown",
      "metadata": {
        "id": "3L6bXSnY2hSn"
      },
      "source": [
        "> sanction interest if negative balance Cesky Krumlov\n",
        "\n",
        "\n",
        "> stands for loan payment in Praha from the bank EF"
      ]
    },
    {
      "cell_type": "markdown",
      "metadata": {
        "id": "99ghIZqT9uDs"
      },
      "source": [
        "# Extra: Left Join"
      ]
    },
    {
      "cell_type": "markdown",
      "metadata": {
        "id": "H6_VZerEAN8Z"
      },
      "source": [
        "1. ¿Cuántas cuentas hay? 4500\n",
        "2. ¿Cuántas cuentas hay con préstamos? (inner join) 682\n",
        "3. Cuentas con los datos de los préstamos si los hay\n",
        "4. los ordenamos por cantidad\n"
      ]
    },
    {
      "cell_type": "code",
      "source": [
        "%%sql\n",
        "SELECT COUNT(account_id)\n",
        "FROM ACCOUNT"
      ],
      "metadata": {
        "colab": {
          "base_uri": "https://localhost:8080/",
          "height": 96
        },
        "id": "8IrlxfAsWulM",
        "outputId": "fd0de27e-9751-4efa-b886-29f2e0c89632"
      },
      "execution_count": 6,
      "outputs": [
        {
          "output_type": "stream",
          "name": "stdout",
          "text": [
            " * sqlite:///data_berka.db\n",
            "Done.\n"
          ]
        },
        {
          "output_type": "execute_result",
          "data": {
            "text/plain": [
              "[(4500,)]"
            ],
            "text/html": [
              "<table>\n",
              "    <thead>\n",
              "        <tr>\n",
              "            <th>COUNT(account_id)</th>\n",
              "        </tr>\n",
              "    </thead>\n",
              "    <tbody>\n",
              "        <tr>\n",
              "            <td>4500</td>\n",
              "        </tr>\n",
              "    </tbody>\n",
              "</table>"
            ]
          },
          "metadata": {},
          "execution_count": 6
        }
      ]
    },
    {
      "cell_type": "code",
      "source": [
        "%%sql \n",
        "SELECT COUNT(a.account_id)\n",
        "FROM ACCOUNT AS a INNER JOIN LOAN AS l ON a.account_id = l.account_id"
      ],
      "metadata": {
        "id": "RvWJttKwXD-V"
      },
      "execution_count": null,
      "outputs": []
    },
    {
      "cell_type": "code",
      "source": [
        "%%sql \n",
        "SELECT COUNT(a.account_id)\n",
        "FROM ACCOUNT AS a, LOAN AS l\n",
        "WHERE a.account_id = l.account_id"
      ],
      "metadata": {
        "id": "FeaspOO4Xa8g"
      },
      "execution_count": null,
      "outputs": []
    },
    {
      "cell_type": "code",
      "source": [
        "%%sql \n",
        "SELECT a.account_id, a.date, l.amount, l.status, l.payments, l.duration\n",
        "FROM LOAN AS L LEFT JOIN ACCOUNT AS a ON a.account_id = l.account_id"
      ],
      "metadata": {
        "id": "hjBlfLadXkno"
      },
      "execution_count": null,
      "outputs": []
    },
    {
      "cell_type": "code",
      "execution_count": null,
      "metadata": {
        "id": "IW8SUKMQ-VWo"
      },
      "outputs": [],
      "source": [
        "%%sql \n",
        "SELECT a.account_id, a.date, l.amount, l.status, l.payments, l.duration\n",
        "FROM ACCOUNT a INNER JOIN LOAN l ON a.account_id = l.account_id\n",
        "ORDER BY amount DESC"
      ]
    },
    {
      "cell_type": "markdown",
      "metadata": {
        "id": "Jd8P8wSFB0Hu"
      },
      "source": [
        "# DataSets\n",
        "\n",
        "---"
      ]
    },
    {
      "cell_type": "markdown",
      "metadata": {
        "id": "EZeYmxUsoBZU"
      },
      "source": [
        "Dataset sobre las transacciones con Vyskov, extrayendo los años de las diferentes fechas. "
      ]
    },
    {
      "cell_type": "code",
      "execution_count": null,
      "metadata": {
        "colab": {
          "base_uri": "https://localhost:8080/"
        },
        "id": "rzM2fptYltyo",
        "outputId": "e09301a8-3acf-48c0-8b9f-35543795ef8e"
      },
      "outputs": [
        {
          "name": "stdout",
          "output_type": "stream",
          "text": [
            " * sqlite:///data_berka.db\n",
            "Done.\n",
            "Returning data to local variable dataset\n"
          ]
        }
      ],
      "source": [
        "%%sql dataset << SELECT substr(a.date,0,3) acc_year, substr(t.date, 0, 3) year,amount, balance, k_symbol\n",
        "FROM ACCOUNT a, TRANS t, DISTRICT d\n",
        "WHERE a.district_id = d.A1 and d.A2 = \"Vyskov\"\n",
        "AND a.account_id = t.account_id\n"
      ]
    },
    {
      "cell_type": "code",
      "execution_count": null,
      "metadata": {
        "id": "AM8GCbRvokRt"
      },
      "outputs": [],
      "source": [
        "dataset.DataFrame().to_csv(\"dataset.csv\")"
      ]
    }
  ],
  "metadata": {
    "colab": {
      "collapsed_sections": [
        "6aCyWJrg9iwY",
        "ePbzUfwP2Qmh"
      ],
      "provenance": [],
      "include_colab_link": true
    },
    "kernelspec": {
      "display_name": "Python 3",
      "name": "python3"
    },
    "language_info": {
      "name": "python"
    }
  },
  "nbformat": 4,
  "nbformat_minor": 0
}